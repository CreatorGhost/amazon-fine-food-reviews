{
 "cells": [
  {
   "cell_type": "markdown",
   "metadata": {
    "colab_type": "text",
    "id": "cyXEgMWtMQvM"
   },
   "source": [
    "# [1] Amazon Fine Food Reviews Analysis\n",
    "\n",
    "\n",
    "Data Source: https://www.kaggle.com/snap/amazon-fine-food-reviews\n",
    "\n",
    "The Amazon Fine Food Reviews dataset consists of reviews of fine foods from Amazon.<br>\n",
    "\n",
    "Number of reviews: 568,454<br>\n",
    "Number of users: 256,059<br>\n",
    "Number of products: 74,258<br>\n",
    "Timespan: Oct 1999 - Oct 2012<br>\n",
    "Number of Attributes/Columns in data: 10 \n",
    "\n",
    "Attribute Information:\n",
    "\n",
    "1. Id\n",
    "2. ProductId - unique identifier for the product\n",
    "3. UserId - unqiue identifier for the user\n",
    "4. ProfileName\n",
    "5. HelpfulnessNumerator - number of users who found the review helpful\n",
    "6. HelpfulnessDenominator - number of users who indicated whether they found the review helpful or not\n",
    "7. Score - rating between 1 and 5\n",
    "8. Time - timestamp for the review\n",
    "9. Summary - brief summary of the review\n",
    "10. Text - text of the review\n",
    "\n",
    "\n",
    "#### Objective:\n",
    "Given a review, determine whether the review is positive (Rating of 4 or 5) or negative (rating of 1 or 2).\n",
    "\n",
    "<br>\n",
    "[Q] How to determine if a review is positive or negative?<br>\n",
    "<br> \n",
    "[Ans] We could use the Score/Rating. A rating of 4 or 5 could be cosnidered a positive review. A review of 1 or 2 could be considered negative. A review of 3 is nuetral and ignored. This is an approximate and proxy way of determining the polarity (positivity/negativity) of a review.\n",
    "\n",
    "\n"
   ]
  },
  {
   "cell_type": "markdown",
   "metadata": {
    "colab_type": "text",
    "id": "nTN9VK62MQvN"
   },
   "source": [
    "## [7.1] Loading the data\n",
    "\n",
    "The dataset is available in two forms\n",
    "1. .csv file\n",
    "2. SQLite Database\n",
    "\n",
    "In order to load the data, We have used the SQLITE dataset as it easier to query the data and visualise the data efficiently.\n",
    "<br> \n",
    "\n",
    "Here as we only want to get the global sentiment of the recommendations (positive or negative), we will purposefully ignore all Scores equal to 3. If the score id above 3, then the recommendation wil be set to \"positive\". Otherwise, it will be set to \"negative\"."
   ]
  },
  {
   "cell_type": "code",
   "execution_count": 1,
   "metadata": {
    "colab": {},
    "colab_type": "code",
    "id": "vXnuoQYEMQvO"
   },
   "outputs": [
    {
     "name": "stderr",
     "output_type": "stream",
     "text": [
      "C:\\Users\\Sai charan\\Anaconda3\\lib\\site-packages\\gensim\\utils.py:1197: UserWarning: detected Windows; aliasing chunkize to chunkize_serial\n",
      "  warnings.warn(\"detected Windows; aliasing chunkize to chunkize_serial\")\n"
     ]
    }
   ],
   "source": [
    "%matplotlib inline\n",
    "import warnings\n",
    "warnings.filterwarnings(\"ignore\")\n",
    "\n",
    "import sqlite3\n",
    "import pandas as pd\n",
    "import numpy as np\n",
    "import nltk\n",
    "import string\n",
    "import matplotlib.pyplot as plt\n",
    "import seaborn as sns\n",
    "from sklearn.feature_extraction.text import TfidfTransformer\n",
    "from sklearn.feature_extraction.text import TfidfVectorizer\n",
    "\n",
    "from sklearn.feature_extraction.text import CountVectorizer\n",
    "from sklearn.metrics import confusion_matrix\n",
    "from sklearn import metrics\n",
    "from sklearn.metrics import roc_curve, auc\n",
    "from nltk.stem.porter import PorterStemmer\n",
    "\n",
    "import re\n",
    "# Tutorial about Python regular expressions: https://pymotw.com/2/re/\n",
    "import string\n",
    "from nltk.corpus import stopwords\n",
    "from nltk.stem import PorterStemmer\n",
    "from nltk.stem.wordnet import WordNetLemmatizer\n",
    "\n",
    "from gensim.models import Word2Vec\n",
    "from gensim.models import KeyedVectors\n",
    "import pickle\n",
    "\n",
    "from tqdm import tqdm\n",
    "import os\n",
    "#Metrics\n",
    "from sklearn.metrics import accuracy_score\n",
    "from sklearn.metrics import confusion_matrix\n",
    "from sklearn.metrics import precision_score\n",
    "from sklearn.metrics import f1_score\n",
    "from sklearn.metrics import recall_score\n",
    "\n",
    "warnings.filterwarnings(\"ignore\")\n",
    "\n",
    "%matplotlib inline \n",
    "# sets the backend of matplotlib to the 'inline' backend:\n",
    "#With this backend, the output of plotting commands is displayed inline within frontends like the Jupyter notebook,\n",
    "#directly below the code cell that produced it. The resulting plots will then also be stored in the notebook document.\n",
    "\n",
    "#Functions to save objects for later use and retireve it\n",
    "import pickle\n",
    "def savetofile(obj,filename):\n",
    "    pickle.dump(obj,open(filename+\".p\",\"wb\"))\n",
    "def openfromfile(filename):\n",
    "    temp = pickle.load(open(filename+\".p\",\"rb\"))\n",
    "    return temp"
   ]
  },
  {
   "cell_type": "code",
   "execution_count": 2,
   "metadata": {
    "colab": {},
    "colab_type": "code",
    "id": "-lrJx9N9MQvT",
    "scrolled": true
   },
   "outputs": [
    {
     "data": {
      "text/html": [
       "<div>\n",
       "<style scoped>\n",
       "    .dataframe tbody tr th:only-of-type {\n",
       "        vertical-align: middle;\n",
       "    }\n",
       "\n",
       "    .dataframe tbody tr th {\n",
       "        vertical-align: top;\n",
       "    }\n",
       "\n",
       "    .dataframe thead th {\n",
       "        text-align: right;\n",
       "    }\n",
       "</style>\n",
       "<table border=\"1\" class=\"dataframe\">\n",
       "  <thead>\n",
       "    <tr style=\"text-align: right;\">\n",
       "      <th></th>\n",
       "      <th>index</th>\n",
       "      <th>Id</th>\n",
       "      <th>ProductId</th>\n",
       "      <th>UserId</th>\n",
       "      <th>ProfileName</th>\n",
       "      <th>HelpfulnessNumerator</th>\n",
       "      <th>HelpfulnessDenominator</th>\n",
       "      <th>Score</th>\n",
       "      <th>Time</th>\n",
       "      <th>Summary</th>\n",
       "      <th>Text</th>\n",
       "      <th>CleanedText</th>\n",
       "    </tr>\n",
       "  </thead>\n",
       "  <tbody>\n",
       "    <tr>\n",
       "      <th>0</th>\n",
       "      <td>138706</td>\n",
       "      <td>150524</td>\n",
       "      <td>0006641040</td>\n",
       "      <td>ACITT7DI6IDDL</td>\n",
       "      <td>shari zychinski</td>\n",
       "      <td>0</td>\n",
       "      <td>0</td>\n",
       "      <td>positive</td>\n",
       "      <td>939340800</td>\n",
       "      <td>EVERY book is educational</td>\n",
       "      <td>this witty little book makes my son laugh at l...</td>\n",
       "      <td>witti littl book make son laugh loud recit car...</td>\n",
       "    </tr>\n",
       "    <tr>\n",
       "      <th>1</th>\n",
       "      <td>138688</td>\n",
       "      <td>150506</td>\n",
       "      <td>0006641040</td>\n",
       "      <td>A2IW4PEEKO2R0U</td>\n",
       "      <td>Tracy</td>\n",
       "      <td>1</td>\n",
       "      <td>1</td>\n",
       "      <td>positive</td>\n",
       "      <td>1194739200</td>\n",
       "      <td>Love the book, miss the hard cover version</td>\n",
       "      <td>I grew up reading these Sendak books, and watc...</td>\n",
       "      <td>grew read sendak book watch realli rosi movi i...</td>\n",
       "    </tr>\n",
       "    <tr>\n",
       "      <th>2</th>\n",
       "      <td>138689</td>\n",
       "      <td>150507</td>\n",
       "      <td>0006641040</td>\n",
       "      <td>A1S4A3IQ2MU7V4</td>\n",
       "      <td>sally sue \"sally sue\"</td>\n",
       "      <td>1</td>\n",
       "      <td>1</td>\n",
       "      <td>positive</td>\n",
       "      <td>1191456000</td>\n",
       "      <td>chicken soup with rice months</td>\n",
       "      <td>This is a fun way for children to learn their ...</td>\n",
       "      <td>fun way children learn month year learn poem t...</td>\n",
       "    </tr>\n",
       "    <tr>\n",
       "      <th>3</th>\n",
       "      <td>138690</td>\n",
       "      <td>150508</td>\n",
       "      <td>0006641040</td>\n",
       "      <td>AZGXZ2UUK6X</td>\n",
       "      <td>Catherine Hallberg \"(Kate)\"</td>\n",
       "      <td>1</td>\n",
       "      <td>1</td>\n",
       "      <td>positive</td>\n",
       "      <td>1076025600</td>\n",
       "      <td>a good swingy rhythm for reading aloud</td>\n",
       "      <td>This is a great little book to read aloud- it ...</td>\n",
       "      <td>great littl book read nice rhythm well good re...</td>\n",
       "    </tr>\n",
       "    <tr>\n",
       "      <th>4</th>\n",
       "      <td>138691</td>\n",
       "      <td>150509</td>\n",
       "      <td>0006641040</td>\n",
       "      <td>A3CMRKGE0P909G</td>\n",
       "      <td>Teresa</td>\n",
       "      <td>3</td>\n",
       "      <td>4</td>\n",
       "      <td>positive</td>\n",
       "      <td>1018396800</td>\n",
       "      <td>A great way to learn the months</td>\n",
       "      <td>This is a book of poetry about the months of t...</td>\n",
       "      <td>book poetri month year goe month cute littl po...</td>\n",
       "    </tr>\n",
       "  </tbody>\n",
       "</table>\n",
       "</div>"
      ],
      "text/plain": [
       "    index      Id   ProductId          UserId                  ProfileName  \\\n",
       "0  138706  150524  0006641040   ACITT7DI6IDDL              shari zychinski   \n",
       "1  138688  150506  0006641040  A2IW4PEEKO2R0U                        Tracy   \n",
       "2  138689  150507  0006641040  A1S4A3IQ2MU7V4        sally sue \"sally sue\"   \n",
       "3  138690  150508  0006641040     AZGXZ2UUK6X  Catherine Hallberg \"(Kate)\"   \n",
       "4  138691  150509  0006641040  A3CMRKGE0P909G                       Teresa   \n",
       "\n",
       "   HelpfulnessNumerator  HelpfulnessDenominator     Score        Time  \\\n",
       "0                     0                       0  positive   939340800   \n",
       "1                     1                       1  positive  1194739200   \n",
       "2                     1                       1  positive  1191456000   \n",
       "3                     1                       1  positive  1076025600   \n",
       "4                     3                       4  positive  1018396800   \n",
       "\n",
       "                                      Summary  \\\n",
       "0                   EVERY book is educational   \n",
       "1  Love the book, miss the hard cover version   \n",
       "2               chicken soup with rice months   \n",
       "3      a good swingy rhythm for reading aloud   \n",
       "4             A great way to learn the months   \n",
       "\n",
       "                                                Text  \\\n",
       "0  this witty little book makes my son laugh at l...   \n",
       "1  I grew up reading these Sendak books, and watc...   \n",
       "2  This is a fun way for children to learn their ...   \n",
       "3  This is a great little book to read aloud- it ...   \n",
       "4  This is a book of poetry about the months of t...   \n",
       "\n",
       "                                         CleanedText  \n",
       "0  witti littl book make son laugh loud recit car...  \n",
       "1  grew read sendak book watch realli rosi movi i...  \n",
       "2  fun way children learn month year learn poem t...  \n",
       "3  great littl book read nice rhythm well good re...  \n",
       "4  book poetri month year goe month cute littl po...  "
      ]
     },
     "execution_count": 2,
     "metadata": {},
     "output_type": "execute_result"
    }
   ],
   "source": [
    "\n",
    "#Using sqlite3 to retrieve data from sqlite file\n",
    "\n",
    "con = sqlite3.connect(\"final.sqlite\")#Loading Cleaned/ Preprocesed text that we did in Text Preprocessing\n",
    "\n",
    "#Using pandas functions to query from sql table\n",
    "final = pd.read_sql_query(\"\"\"\n",
    "SELECT * FROM Reviews \n",
    "\"\"\",con)\n",
    "\n",
    "#Reviews is the name of the table given\n",
    "#Taking only the data where score != 3 as score 3 will be neutral and it won't help us much\n",
    "final.head()"
   ]
  },
  {
   "cell_type": "code",
   "execution_count": 3,
   "metadata": {},
   "outputs": [
    {
     "data": {
      "text/plain": [
       "364171"
      ]
     },
     "execution_count": 3,
     "metadata": {},
     "output_type": "execute_result"
    }
   ],
   "source": [
    "final.shape\n",
    "final['Score'].size"
   ]
  },
  {
   "cell_type": "markdown",
   "metadata": {
    "colab_type": "text",
    "id": "CF7NMcGnMQvX"
   },
   "source": [
    "#  Exploratory Data Analysis\n",
    "\n",
    "## [7.1.2] Data Cleaning: Deduplication\n",
    "\n",
    "It is observed (as shown in the table below) that the reviews data had many duplicate entries. Hence it was necessary to remove duplicates in order to get unbiased results for the analysis of the data.  Following is an example:"
   ]
  },
  {
   "cell_type": "code",
   "execution_count": 4,
   "metadata": {},
   "outputs": [
    {
     "name": "stdout",
     "output_type": "stream",
     "text": [
      "(25000, 12)\n"
     ]
    },
    {
     "data": {
      "text/html": [
       "<div>\n",
       "<style scoped>\n",
       "    .dataframe tbody tr th:only-of-type {\n",
       "        vertical-align: middle;\n",
       "    }\n",
       "\n",
       "    .dataframe tbody tr th {\n",
       "        vertical-align: top;\n",
       "    }\n",
       "\n",
       "    .dataframe thead th {\n",
       "        text-align: right;\n",
       "    }\n",
       "</style>\n",
       "<table border=\"1\" class=\"dataframe\">\n",
       "  <thead>\n",
       "    <tr style=\"text-align: right;\">\n",
       "      <th></th>\n",
       "      <th>index</th>\n",
       "      <th>Id</th>\n",
       "      <th>ProductId</th>\n",
       "      <th>UserId</th>\n",
       "      <th>ProfileName</th>\n",
       "      <th>HelpfulnessNumerator</th>\n",
       "      <th>HelpfulnessDenominator</th>\n",
       "      <th>Score</th>\n",
       "      <th>Time</th>\n",
       "      <th>Summary</th>\n",
       "      <th>Text</th>\n",
       "      <th>CleanedText</th>\n",
       "    </tr>\n",
       "  </thead>\n",
       "  <tbody>\n",
       "    <tr>\n",
       "      <th>133827</th>\n",
       "      <td>49820</td>\n",
       "      <td>54095</td>\n",
       "      <td>B000YSQA7U</td>\n",
       "      <td>A1US7D4TJ492TO</td>\n",
       "      <td>M. K. Blue</td>\n",
       "      <td>8</td>\n",
       "      <td>8</td>\n",
       "      <td>positive</td>\n",
       "      <td>1232755200</td>\n",
       "      <td>A Honey of a Deal</td>\n",
       "      <td>For several years, I've been purchasing local ...</td>\n",
       "      <td>sever year ive purchas local honey local natur...</td>\n",
       "    </tr>\n",
       "    <tr>\n",
       "      <th>83718</th>\n",
       "      <td>174019</td>\n",
       "      <td>188764</td>\n",
       "      <td>B000HDONP8</td>\n",
       "      <td>A3GAWYMXB36HVG</td>\n",
       "      <td>Conner's Mom</td>\n",
       "      <td>0</td>\n",
       "      <td>0</td>\n",
       "      <td>positive</td>\n",
       "      <td>1287100800</td>\n",
       "      <td>Yummy cookie!</td>\n",
       "      <td>My son is on a GFCF diet and loves these cooki...</td>\n",
       "      <td>son gfcf diet love cooki moist sweet sweet got...</td>\n",
       "    </tr>\n",
       "    <tr>\n",
       "      <th>208574</th>\n",
       "      <td>376655</td>\n",
       "      <td>407286</td>\n",
       "      <td>B001NXOCRA</td>\n",
       "      <td>ATLV4ZDA3278Q</td>\n",
       "      <td>TheWig</td>\n",
       "      <td>0</td>\n",
       "      <td>0</td>\n",
       "      <td>positive</td>\n",
       "      <td>1311984000</td>\n",
       "      <td>Good product</td>\n",
       "      <td>I have used Fit for years to clean vegetables ...</td>\n",
       "      <td>use fit year clean veget garden like clean fee...</td>\n",
       "    </tr>\n",
       "    <tr>\n",
       "      <th>8422</th>\n",
       "      <td>313035</td>\n",
       "      <td>338900</td>\n",
       "      <td>B0001590NW</td>\n",
       "      <td>A7IJ9T62HHZTK</td>\n",
       "      <td>LoveQuality</td>\n",
       "      <td>0</td>\n",
       "      <td>0</td>\n",
       "      <td>positive</td>\n",
       "      <td>1345420800</td>\n",
       "      <td>Yummy!</td>\n",
       "      <td>Tried this first in Australia at a Nando's and...</td>\n",
       "      <td>tri first australia nando year cannot get enou...</td>\n",
       "    </tr>\n",
       "    <tr>\n",
       "      <th>130681</th>\n",
       "      <td>507760</td>\n",
       "      <td>549058</td>\n",
       "      <td>B000WV153I</td>\n",
       "      <td>APIPGYIZSRANK</td>\n",
       "      <td>cabrialab</td>\n",
       "      <td>227</td>\n",
       "      <td>251</td>\n",
       "      <td>negative</td>\n",
       "      <td>1315612800</td>\n",
       "      <td>AMAZING, but MAKE YOUR OWN (Steps below).</td>\n",
       "      <td>This stuff is soooooooooooooo good. I could ea...</td>\n",
       "      <td>stuff soooooooooooooo good could eat jar day p...</td>\n",
       "    </tr>\n",
       "  </tbody>\n",
       "</table>\n",
       "</div>"
      ],
      "text/plain": [
       "         index      Id   ProductId          UserId   ProfileName  \\\n",
       "133827   49820   54095  B000YSQA7U  A1US7D4TJ492TO    M. K. Blue   \n",
       "83718   174019  188764  B000HDONP8  A3GAWYMXB36HVG  Conner's Mom   \n",
       "208574  376655  407286  B001NXOCRA   ATLV4ZDA3278Q        TheWig   \n",
       "8422    313035  338900  B0001590NW   A7IJ9T62HHZTK   LoveQuality   \n",
       "130681  507760  549058  B000WV153I   APIPGYIZSRANK     cabrialab   \n",
       "\n",
       "        HelpfulnessNumerator  HelpfulnessDenominator     Score        Time  \\\n",
       "133827                     8                       8  positive  1232755200   \n",
       "83718                      0                       0  positive  1287100800   \n",
       "208574                     0                       0  positive  1311984000   \n",
       "8422                       0                       0  positive  1345420800   \n",
       "130681                   227                     251  negative  1315612800   \n",
       "\n",
       "                                          Summary  \\\n",
       "133827                          A Honey of a Deal   \n",
       "83718                               Yummy cookie!   \n",
       "208574                               Good product   \n",
       "8422                                       Yummy!   \n",
       "130681  AMAZING, but MAKE YOUR OWN (Steps below).   \n",
       "\n",
       "                                                     Text  \\\n",
       "133827  For several years, I've been purchasing local ...   \n",
       "83718   My son is on a GFCF diet and loves these cooki...   \n",
       "208574  I have used Fit for years to clean vegetables ...   \n",
       "8422    Tried this first in Australia at a Nando's and...   \n",
       "130681  This stuff is soooooooooooooo good. I could ea...   \n",
       "\n",
       "                                              CleanedText  \n",
       "133827  sever year ive purchas local honey local natur...  \n",
       "83718   son gfcf diet love cooki moist sweet sweet got...  \n",
       "208574  use fit year clean veget garden like clean fee...  \n",
       "8422    tri first australia nando year cannot get enou...  \n",
       "130681  stuff soooooooooooooo good could eat jar day p...  "
      ]
     },
     "execution_count": 4,
     "metadata": {},
     "output_type": "execute_result"
    }
   ],
   "source": [
    "time_sorted_data = final.sort_values('Time', axis=0, ascending=True, inplace=False, kind='quicksort', na_position='last')\n",
    "\n",
    "# Randomly selecting 25k datapoints\n",
    "\n",
    "# We will collect different 20k rows without repetition from time sorted data dataframe\n",
    "final = time_sorted_data.take(np.random.permutation(len(final))[:25000])\n",
    "print(final.shape)\n",
    "final.head()"
   ]
  },
  {
   "cell_type": "code",
   "execution_count": 5,
   "metadata": {},
   "outputs": [],
   "source": [
    "savetofile(final,\"sample_25000_knn\")"
   ]
  },
  {
   "cell_type": "code",
   "execution_count": 6,
   "metadata": {},
   "outputs": [],
   "source": [
    "final = openfromfile(\"sample_25000_knn\")"
   ]
  },
  {
   "cell_type": "code",
   "execution_count": 7,
   "metadata": {},
   "outputs": [
    {
     "data": {
      "text/plain": [
       "positive    21094\n",
       "negative     3906\n",
       "Name: Score, dtype: int64"
      ]
     },
     "execution_count": 7,
     "metadata": {},
     "output_type": "execute_result"
    }
   ],
   "source": [
    "final['Score'].value_counts()"
   ]
  },
  {
   "cell_type": "markdown",
   "metadata": {
    "colab_type": "text",
    "id": "95Aa3bAYMQvb"
   },
   "source": [
    "As can be seen above the same user has multiple reviews of the with the same values for HelpfulnessNumerator, HelpfulnessDenominator, Score, Time, Summary and Text  and on doing analysis it was found that <br>\n",
    "<br> \n",
    "ProductId=B000HDOPZG was Loacker Quadratini Vanilla Wafer Cookies, 8.82-Ounce Packages (Pack of 8)<br>\n",
    "<br> \n",
    "ProductId=B000HDL1RQ was Loacker Quadratini Lemon Wafer Cookies, 8.82-Ounce Packages (Pack of 8) and so on<br>\n",
    "\n",
    "It was inferred after analysis that reviews with same parameters other than ProductId belonged to the same product just having different flavour or quantity. Hence in order to reduce redundancy it was decided to eliminate the rows having same parameters.<br>\n",
    "\n",
    "The method used for the same was that we first sort the data according to ProductId and then just keep the first similar product review and delelte the others. for eg. in the above just the review for ProductId=B000HDL1RQ remains. This method ensures that there is only one representative for each product and deduplication without sorting would lead to possibility of different representatives still existing for the same product."
   ]
  },
  {
   "cell_type": "markdown",
   "metadata": {
    "colab_type": "text",
    "id": "3-ZDuet8MQvw"
   },
   "source": [
    "## 7.2.3  Text Preprocessing: Stemming, stop-word removal and Lemmatization.\n",
    "\n",
    "Now that we have finished deduplication our data requires some preprocessing before we go on further with analysis and making the prediction model.\n",
    "\n",
    "Hence in the Preprocessing phase we do the following in the order below:-\n",
    "\n",
    "1. Begin by removing the html tags\n",
    "2. Remove any punctuations or limited set of special characters like , or . or # etc.\n",
    "3. Check if the word is made up of english letters and is not alpha-numeric\n",
    "4. Check to see if the length of the word is greater than 2 (as it was researched that there is no adjective in 2-letters)\n",
    "5. Convert the word to lowercase\n",
    "6. Remove Stopwords\n",
    "7. Finally Snowball Stemming the word (it was obsereved to be better than Porter Stemming)<br>\n",
    "\n",
    "After which we collect the words used to describe positive and negative reviews"
   ]
  },
  {
   "cell_type": "code",
   "execution_count": 8,
   "metadata": {
    "colab": {},
    "colab_type": "code",
    "id": "I2NRwIj6MQvz"
   },
   "outputs": [
    {
     "name": "stdout",
     "output_type": "stream",
     "text": [
      "0\n",
      "For several years, I've been purchasing local honey from my local Natural Food Coop. Unfortunately, as the years have passed, not only has the price gone up but they have moved away from the unusual and toward more generic \"let's please everyone\" products. The local honey, star thistle, that I preferred, has a wonderful strong, earthy flavor to it and I've been missing it. Orange blossom honey is just, well, just sweet.<br /><br />This honey--Honey Tree's Organic Rainforest Honey has that nice strong, earthy, flavor that I have been missing. To me, honey is not just a sweetener but a flavor to add wherever I want. If I want just a sweetener, Splenda is just fine.<br /><br />Truthfully, I purchased this honey because of the price. I wish that it were available as a Subscribe & Save, but, regardless, I will be purchasing it on a regular basis.\n"
     ]
    }
   ],
   "source": [
    "# find sentences containing HTML tags\n",
    "import re\n",
    "i=0;\n",
    "for sent in final['Text'].values:\n",
    "    if (len(re.findall('<.*?>', sent))):\n",
    "        print(i)\n",
    "        print(sent)\n",
    "        break;\n",
    "    i += 1;"
   ]
  },
  {
   "cell_type": "code",
   "execution_count": 9,
   "metadata": {
    "colab": {},
    "colab_type": "code",
    "id": "hSYsO2neMQv2"
   },
   "outputs": [
    {
     "name": "stdout",
     "output_type": "stream",
     "text": [
      "{'all', 'shouldn', 'a', 'before', 'after', 'myself', \"she's\", 'should', 'this', 'o', 'we', \"you'll\", \"hasn't\", 'its', 'do', \"don't\", 'doing', 'during', 'been', 'his', 'again', 'ours', 'she', 'that', 'and', 'd', 'is', 'with', 'itself', 'below', 'him', 'when', 'were', \"aren't\", 'has', 'haven', 'had', 'how', 'ain', 'same', 'in', 'are', 'ourselves', 'll', 'their', 'out', 'own', \"hadn't\", 'why', 'up', \"you've\", 'weren', 'y', 'over', 'don', 'yourself', 'now', 'as', 'me', 'shan', 'himself', 'there', 'above', 'under', 'while', 'her', 'herself', 'an', 'or', 'so', 'by', \"it's\", 'doesn', 't', 'it', \"shan't\", 'to', 'my', \"isn't\", 'who', 'but', 'be', 'any', 'aren', 'you', 'from', 'won', 'them', 'hadn', 'some', \"shouldn't\", 'themselves', 'of', 'both', 'most', 'what', 'nor', 'too', 'the', 'down', 'no', \"mustn't\", 'will', 'once', 'only', 'if', 'few', 're', \"doesn't\", \"wouldn't\", 'because', 'each', 'being', 'into', 'm', 've', 'wouldn', 'through', 'i', 'on', 'wasn', 'have', 'then', 's', 'mightn', 'yours', 'mustn', 'hers', \"you're\", 'further', 'needn', 'didn', 'our', 'where', 'such', 'against', 'not', 'ma', \"haven't\", 'theirs', 'between', 'off', 'hasn', \"that'll\", \"needn't\", \"you'd\", 'here', \"wasn't\", 'at', \"should've\", \"won't\", 'other', 'can', 'isn', \"mightn't\", 'he', 'about', 'does', 'am', 'very', 'they', 'which', 'for', 'just', 'than', 'did', \"didn't\", 'yourselves', \"couldn't\", 'your', 'couldn', 'was', 'these', 'whom', 'having', 'more', 'until', \"weren't\", 'those'}\n",
      "************************************\n",
      "tasti\n"
     ]
    }
   ],
   "source": [
    "\n",
    "stop = set(stopwords.words('english')) #set of stopwords\n",
    "sno = nltk.stem.SnowballStemmer('english') #initialising the snowball stemmer\n",
    "\n",
    "def cleanhtml(sentence): #function to clean the word of any html-tags\n",
    "    cleanr = re.compile('<.*?>')\n",
    "    cleantext = re.sub(cleanr, ' ', sentence)\n",
    "    return cleantext\n",
    "def cleanpunc(sentence): #function to clean the word of any punctuation or special characters\n",
    "    cleaned = re.sub(r'[?|!|\\'|\"|#]',r'',sentence)\n",
    "    cleaned = re.sub(r'[.|,|)|(|\\|/]',r' ',cleaned)\n",
    "    return  cleaned\n",
    "print(stop)\n",
    "print('************************************')\n",
    "print(sno.stem('tasty'))"
   ]
  },
  {
   "cell_type": "code",
   "execution_count": 10,
   "metadata": {
    "colab": {},
    "colab_type": "code",
    "id": "BUGzVaKbMQv5"
   },
   "outputs": [],
   "source": [
    "#Code for implementing step-by-step the checks mentioned in the pre-processing phase\n",
    "# this code takes a while to run as it needs to run on 500k sentences.\n",
    "if not os.path.isfile('final.sqlite'):\n",
    "    final_string=[]\n",
    "    all_positive_words=[] # store words from +ve reviews here\n",
    "    all_negative_words=[] # store words from -ve reviews here.\n",
    "    for i, sent in enumerate(tqdm(final['Text'].values)):\n",
    "        filtered_sentence=[]\n",
    "        #print(sent);\n",
    "        sent=cleanhtml(sent) # remove HTMl tags\n",
    "        for w in sent.split():\n",
    "            # we have used cleanpunc(w).split(), one more split function here because consider w=\"abc.def\", cleanpunc(w) will return \"abc def\"\n",
    "            # if we dont use .split() function then we will be considring \"abc def\" as a single word, but if you use .split() function we will get \"abc\", \"def\"\n",
    "            for cleaned_words in cleanpunc(w).split():\n",
    "                if((cleaned_words.isalpha()) & (len(cleaned_words)>2)):    \n",
    "                    if(cleaned_words.lower() not in stop):\n",
    "                        s=(sno.stem(cleaned_words.lower())).encode('utf8')\n",
    "                        filtered_sentence.append(s)\n",
    "                        if (final['Score'].values)[i] == 1: \n",
    "                            all_positive_words.append(s) #list of all words used to describe positive reviews\n",
    "                        if(final['Score'].values)[i] == 0:\n",
    "                            all_negative_words.append(s) #list of all words used to describe negative reviews reviews\n",
    "        str1 = b\" \".join(filtered_sentence) #final string of cleaned words\n",
    "        #print(\"***********************************************************************\")\n",
    "        final_string.append(str1)\n",
    "\n",
    "    #############---- storing the data into .sqlite file ------########################\n",
    "    final['CleanedText']=final_string #adding a column of CleanedText which displays the data after pre-processing of the review \n",
    "    final['CleanedText']=final['CleanedText'].str.decode(\"utf-8\")\n",
    "        # store final table into an SQlLite table for future.\n",
    "    conn = sqlite3.connect('final.sqlite')\n",
    "    c=conn.cursor()\n",
    "    conn.text_factory = str\n",
    "    final.to_sql('Reviews', conn,  schema=None, if_exists='replace', \\\n",
    "                 index=True, index_label=None, chunksize=None, dtype=None)\n",
    "    conn.close()\n",
    "    \n",
    "    \n",
    "    with open('positive_words.pkl', 'wb') as f:\n",
    "        pickle.dump(all_positive_words, f)\n",
    "    with open('negitive_words.pkl', 'wb') as f:\n",
    "        pickle.dump(all_negative_words, f)"
   ]
  },
  {
   "cell_type": "code",
   "execution_count": 11,
   "metadata": {
    "colab": {},
    "colab_type": "code",
    "id": "m2CNKWUDMQv8"
   },
   "outputs": [
    {
     "data": {
      "text/plain": [
       "(25000, 12)"
      ]
     },
     "execution_count": 11,
     "metadata": {},
     "output_type": "execute_result"
    }
   ],
   "source": [
    "final.shape"
   ]
  },
  {
   "cell_type": "markdown",
   "metadata": {
    "colab_type": "text",
    "id": "hXA02Hw0MQv_"
   },
   "source": [
    "# [7.2.2] Bag of Words (BoW)"
   ]
  },
  {
   "cell_type": "code",
   "execution_count": 12,
   "metadata": {},
   "outputs": [
    {
     "name": "stdout",
     "output_type": "stream",
     "text": [
      "the type of count vectorizer : <class 'scipy.sparse.csr.csr_matrix'>\n",
      "the shape of out text BOW vectorizer :  (17500, 1508)\n",
      "the number of unique words : 1508\n"
     ]
    }
   ],
   "source": [
    "from sklearn.model_selection import train_test_split\n",
    "x = final['CleanedText'].values\n",
    "y = final['Score']\n",
    "\n",
    "# split the data set into train and test\n",
    "X_train, X_test, Y_train, Y_test = train_test_split(x, y, test_size=0.3, random_state=0)\n",
    "\n",
    "#BoW\n",
    "count_vect = CountVectorizer(min_df = 50) \n",
    "X_train_vec = count_vect.fit_transform(X_train)\n",
    "X_test_vec = count_vect.transform(X_test)\n",
    "print(\"the type of count vectorizer :\",type(X_train_vec))\n",
    "print(\"the shape of out text BOW vectorizer : \",X_train_vec.get_shape())\n",
    "print(\"the number of unique words :\", X_train_vec.get_shape()[1])"
   ]
  },
  {
   "cell_type": "code",
   "execution_count": 13,
   "metadata": {},
   "outputs": [],
   "source": [
    "from sklearn.neighbors import KNeighborsClassifier\n",
    "from sklearn.metrics import accuracy_score\n",
    "from sklearn.cross_validation import cross_val_score\n",
    "from collections import Counter\n",
    "from sklearn.metrics import accuracy_score\n",
    "from sklearn import cross_validation\n",
    "import warnings\n",
    "warnings.filterwarnings(\"ignore\")"
   ]
  },
  {
   "cell_type": "code",
   "execution_count": 14,
   "metadata": {},
   "outputs": [
    {
     "name": "stdout",
     "output_type": "stream",
     "text": [
      "\n",
      "The optimal number of neighbors is 17.\n"
     ]
    }
   ],
   "source": [
    "#creating odd list of K for KNN\n",
    "myList = list(range(0,50))\n",
    "neighbors = list(filter(lambda x: x % 2 != 0, myList))\n",
    "\n",
    "# empty list that will hold cv scores\n",
    "cv_scores = []\n",
    "\n",
    "#10-fold cross validation\n",
    "for k in neighbors:\n",
    "    knn = KNeighborsClassifier(n_neighbors=k, algorithm='brute')\n",
    "    scores = cross_val_score(knn, X_train_vec, Y_train, cv=10, scoring='accuracy', n_jobs=-1)\n",
    "    cv_scores.append(scores.mean())\n",
    "    \n",
    "#determining best k\n",
    "optimal_k = neighbors[cv_scores.index(max(cv_scores))]\n",
    "print('\\nThe optimal number of neighbors is %d.' % optimal_k)"
   ]
  },
  {
   "cell_type": "code",
   "execution_count": 15,
   "metadata": {},
   "outputs": [
    {
     "data": {
      "image/png": "[encoded data removed]",
      "text/plain": [
       "<Figure size 432x288 with 1 Axes>"
      ]
     },
     "metadata": {
      "needs_background": "light"
     },
     "output_type": "display_data"
    },
    {
     "name": "stdout",
     "output_type": "stream",
     "text": [
      "\n",
      " Accuracy for each k value is :  [0.798 0.833 0.844 0.846 0.846 0.847 0.846 0.847 0.847 0.846 0.846 0.846\n",
      " 0.846 0.845 0.845 0.845 0.845 0.845 0.845 0.845 0.845 0.845 0.845 0.845\n",
      " 0.845]\n"
     ]
    }
   ],
   "source": [
    "# plot accuracy vs k \n",
    "plt.plot(neighbors, cv_scores)\n",
    "plt.xlabel('Number of Neighbors K')\n",
    "plt.ylabel('Accuracy')\n",
    "plt.title('Accuracy VS K Plot',size=16)\n",
    "plt.grid()\n",
    "plt.show()\n",
    "\n",
    "print(\"\\n Accuracy for each k value is : \", np.round(cv_scores,3))"
   ]
  },
  {
   "cell_type": "code",
   "execution_count": 16,
   "metadata": {},
   "outputs": [
    {
     "name": "stdout",
     "output_type": "stream",
     "text": [
      "\n",
      "The Test Accuracy of the K-NN classifier for k = 17 is 84.253333%\n"
     ]
    }
   ],
   "source": [
    "# instantiate learning model k = optimal_k\n",
    "knn_optimal = KNeighborsClassifier(n_neighbors=optimal_k, algorithm='brute', n_jobs=-1)\n",
    "\n",
    "# fitting the model\n",
    "knn_optimal.fit(X_train_vec, Y_train)\n",
    "\n",
    "# predict the response\n",
    "pred = knn_optimal.predict(X_test_vec)\n",
    "\n",
    "# evaluate accuracy\n",
    "acc = accuracy_score(Y_test, pred) * 100\n",
    "print('\\nThe Test Accuracy of the K-NN classifier for k = %d is %f%%' % (optimal_k, acc))\n",
    "\n",
    "# Variables that will be used for  making table in Conclusion part of this assignment\n",
    "bow_brute_K = optimal_k\n",
    "bow_brute_train_acc = max(cv_scores)*100\n",
    "bow_brute_test_acc = acc"
   ]
  },
  {
   "cell_type": "code",
   "execution_count": 17,
   "metadata": {},
   "outputs": [
    {
     "data": {
      "image/png": "[encoded data removed]",
      "text/plain": [
       "<Figure size 720x504 with 2 Axes>"
      ]
     },
     "metadata": {
      "needs_background": "light"
     },
     "output_type": "display_data"
    }
   ],
   "source": [
    "# Code for drawing seaborn heatmaps\n",
    "class_names = ['negative','positive']\n",
    "df_heatmap = pd.DataFrame(confusion_matrix(Y_test, pred), index=class_names, columns=class_names )\n",
    "fig = plt.figure(figsize=(10,7))\n",
    "heatmap = sns.heatmap(df_heatmap, annot=True, fmt=\"d\")\n",
    "\n",
    "# Setting tick labels for heatmap\n",
    "heatmap.yaxis.set_ticklabels(heatmap.yaxis.get_ticklabels(), rotation=0, ha='right', fontsize=14)\n",
    "heatmap.xaxis.set_ticklabels(heatmap.xaxis.get_ticklabels(), rotation=0, ha='right', fontsize=14)\n",
    "plt.ylabel('Predicted label',size=18)\n",
    "plt.xlabel('True label',size=18)\n",
    "plt.title(\"Confusion Matrix\\n\",size=24)\n",
    "plt.show()"
   ]
  },
  {
   "cell_type": "markdown",
   "metadata": {},
   "source": [
    "## KNN with Kd-tree Algorithm"
   ]
  },
  {
   "cell_type": "code",
   "execution_count": 18,
   "metadata": {},
   "outputs": [
    {
     "name": "stdout",
     "output_type": "stream",
     "text": [
      "\n",
      "The optimal number of neighbors is 19.\n"
     ]
    }
   ],
   "source": [
    "from sklearn.decomposition import TruncatedSVD\n",
    "svd = TruncatedSVD(n_components=100)\n",
    "X_train_vec_dense = svd.fit_transform(X_train_vec)\n",
    "X_test_vec_dense = svd.transform(X_test_vec)\n",
    "\n",
    "\n",
    "# creating odd list of K for KNN\n",
    "myList = list(range(0,50))\n",
    "neighbors = list(filter(lambda x: x % 2 != 0, myList))\n",
    "\n",
    "# empty list that will hold cv scores\n",
    "cv_scores = []\n",
    "\n",
    "# 10-fold cross validation\n",
    "for k in neighbors:\n",
    "    knn = KNeighborsClassifier(n_neighbors=k, algorithm='kd_tree')\n",
    "    scores = cross_val_score(knn, X_train_vec_dense, Y_train, cv=10, scoring='accuracy', n_jobs=-1)\n",
    "    cv_scores.append(scores.mean())\n",
    "    \n",
    "# determining best k\n",
    "optimal_k = neighbors[cv_scores.index(max(cv_scores))]\n",
    "print('\\nThe optimal number of neighbors is %d.' % optimal_k)"
   ]
  },
  {
   "cell_type": "code",
   "execution_count": 19,
   "metadata": {},
   "outputs": [
    {
     "data": {
      "image/png": "[encoded data removed]",
      "text/plain": [
       "<Figure size 432x288 with 1 Axes>"
      ]
     },
     "metadata": {
      "needs_background": "light"
     },
     "output_type": "display_data"
    },
    {
     "name": "stdout",
     "output_type": "stream",
     "text": [
      "\n",
      " Accuracy for each k value is :  [0.776 0.817 0.831 0.84  0.845 0.845 0.846 0.847 0.848 0.849 0.848 0.848\n",
      " 0.848 0.848 0.847 0.846 0.847 0.847 0.847 0.847 0.847 0.847 0.847 0.847\n",
      " 0.846]\n"
     ]
    }
   ],
   "source": [
    "# plot accuracy vs k \n",
    "plt.plot(neighbors, cv_scores)\n",
    "plt.xlabel('Number of Neighbors K')\n",
    "plt.ylabel('Accuracy')\n",
    "plt.title('Accuracy VS K Plot',size=16)\n",
    "plt.grid()\n",
    "plt.show()\n",
    "\n",
    "print(\"\\n Accuracy for each k value is : \", np.round(cv_scores,3))"
   ]
  },
  {
   "cell_type": "code",
   "execution_count": 20,
   "metadata": {},
   "outputs": [
    {
     "name": "stdout",
     "output_type": "stream",
     "text": [
      "\n",
      "The Test Accuracy of the K-NN classifier for k = 19 is 84.733333%\n"
     ]
    }
   ],
   "source": [
    "# ============================== KNN with k = optimal_k ===============================================\n",
    "# instantiate learning model k = optimal_k\n",
    "knn_optimal = KNeighborsClassifier(n_neighbors=optimal_k, algorithm='kd_tree', n_jobs=-1)\n",
    "\n",
    "# fitting the model\n",
    "knn_optimal.fit(X_train_vec_dense, Y_train)\n",
    "\n",
    "# predict the response\n",
    "pred = knn_optimal.predict(X_test_vec_dense)\n",
    "\n",
    "# evaluate accuracy\n",
    "acc = accuracy_score(Y_test, pred) * 100\n",
    "print('\\nThe Test Accuracy of the K-NN classifier for k = %d is %f%%' % (optimal_k, acc))\n",
    "\n",
    "# Variables that will be used for  making table in Conclusion part of this assignment\n",
    "bow_kdTree_K = optimal_k\n",
    "bow_kdTree_train_acc = max(cv_scores)*100\n",
    "bow_kdTree_test_acc = acc"
   ]
  },
  {
   "cell_type": "code",
   "execution_count": 21,
   "metadata": {},
   "outputs": [
    {
     "data": {
      "image/png": "[encoded data removed]",
      "text/plain": [
       "<Figure size 720x504 with 2 Axes>"
      ]
     },
     "metadata": {
      "needs_background": "light"
     },
     "output_type": "display_data"
    }
   ],
   "source": [
    "# Code for drawing seaborn heatmaps\n",
    "class_names = ['negative','positive']\n",
    "df_heatmap = pd.DataFrame(confusion_matrix(Y_test, pred), index=class_names, columns=class_names )\n",
    "fig = plt.figure(figsize=(10,7))\n",
    "heatmap = sns.heatmap(df_heatmap, annot=True, fmt=\"d\")\n",
    "\n",
    "# Setting tick labels for heatmap\n",
    "heatmap.yaxis.set_ticklabels(heatmap.yaxis.get_ticklabels(), rotation=0, ha='right', fontsize=14)\n",
    "heatmap.xaxis.set_ticklabels(heatmap.xaxis.get_ticklabels(), rotation=0, ha='right', fontsize=14)\n",
    "plt.ylabel('Predicted label',size=18)\n",
    "plt.xlabel('True label',size=18)\n",
    "plt.title(\"Confusion Matrix\\n\",size=24)\n",
    "plt.show()"
   ]
  },
  {
   "cell_type": "markdown",
   "metadata": {
    "colab_type": "text",
    "id": "hdx-Cb0AMQwM"
   },
   "source": [
    "# [7.2.5] TF-IDF"
   ]
  },
  {
   "cell_type": "code",
   "execution_count": 22,
   "metadata": {
    "colab": {},
    "colab_type": "code",
    "id": "P-EUwU9nMQwN"
   },
   "outputs": [
    {
     "name": "stdout",
     "output_type": "stream",
     "text": [
      "the type of count vectorizer : <class 'scipy.sparse.csr.csr_matrix'>\n",
      "the shape of out text TFIDF vectorizer :  (17500, 1508)\n",
      "the number of unique words : 1508\n"
     ]
    }
   ],
   "source": [
    "tf_idf_vect = TfidfVectorizer(min_df=50)\n",
    "X_train_vec = tf_idf_vect.fit_transform(X_train)\n",
    "X_test_vec = tf_idf_vect.transform(X_test)\n",
    "print(\"the type of count vectorizer :\",type(X_train_vec))\n",
    "print(\"the shape of out text TFIDF vectorizer : \",X_train_vec.get_shape())\n",
    "print(\"the number of unique words :\", X_train_vec.get_shape()[1])"
   ]
  },
  {
   "cell_type": "code",
   "execution_count": 23,
   "metadata": {
    "colab": {},
    "colab_type": "code",
    "id": "lOELCSqEMQwQ"
   },
   "outputs": [
    {
     "name": "stdout",
     "output_type": "stream",
     "text": [
      "\n",
      "The optimal number of neighbors is 9.\n"
     ]
    }
   ],
   "source": [
    "# creating odd list of K for KNN\n",
    "myList = list(range(0,50))\n",
    "neighbors = list(filter(lambda x: x % 2 != 0, myList))\n",
    "\n",
    "# empty list that will hold cv scores\n",
    "cv_scores = []\n",
    "\n",
    "# 10-fold cross validation\n",
    "for k in neighbors:\n",
    "    knn = KNeighborsClassifier(n_neighbors=k, algorithm='brute')\n",
    "    scores = cross_val_score(knn, X_train_vec, Y_train, cv=10, scoring='accuracy', n_jobs=-1)\n",
    "    cv_scores.append(scores.mean())\n",
    "    \n",
    "# determining best k\n",
    "optimal_k = neighbors[cv_scores.index(max(cv_scores))]\n",
    "print('\\nThe optimal number of neighbors is %d.' % optimal_k)"
   ]
  },
  {
   "cell_type": "code",
   "execution_count": 24,
   "metadata": {
    "colab": {},
    "colab_type": "code",
    "id": "aRjaZzGdMQwT"
   },
   "outputs": [
    {
     "data": {
      "image/png": "[encoded data removed]",
      "text/plain": [
       "<Figure size 432x288 with 1 Axes>"
      ]
     },
     "metadata": {
      "needs_background": "light"
     },
     "output_type": "display_data"
    },
    {
     "name": "stdout",
     "output_type": "stream",
     "text": [
      "\n",
      " Accuracy for each k value is :  [0.831 0.845 0.854 0.855 0.855 0.855 0.855 0.855 0.854 0.854 0.854 0.854\n",
      " 0.854 0.854 0.854 0.853 0.853 0.853 0.853 0.853 0.853 0.852 0.852 0.852\n",
      " 0.851]\n"
     ]
    }
   ],
   "source": [
    "# plot accuracy vs k \n",
    "plt.plot(neighbors, cv_scores)\n",
    "plt.xlabel('Number of Neighbors K')\n",
    "plt.ylabel('Accuracy')\n",
    "plt.title('Accuracy VS K Plot',size=16)\n",
    "plt.grid()\n",
    "plt.show()\n",
    "\n",
    "print(\"\\n Accuracy for each k value is : \", np.round(cv_scores,3))"
   ]
  },
  {
   "cell_type": "code",
   "execution_count": 25,
   "metadata": {
    "colab": {},
    "colab_type": "code",
    "id": "ayhSkBo8MQwV"
   },
   "outputs": [
    {
     "name": "stdout",
     "output_type": "stream",
     "text": [
      "\n",
      "The Test Accuracy of the K-NN classifier for k = 9 is 85.440000%\n"
     ]
    }
   ],
   "source": [
    "# instantiate learning model k = optimal_k\n",
    "knn_optimal = KNeighborsClassifier(n_neighbors=optimal_k, algorithm='brute', n_jobs=-1)\n",
    "\n",
    "# fitting the model\n",
    "knn_optimal.fit(X_train_vec, Y_train)\n",
    "\n",
    "# predict the response\n",
    "pred = knn_optimal.predict(X_test_vec)\n",
    "\n",
    "# evaluate accuracy\n",
    "acc = accuracy_score(Y_test, pred) * 100\n",
    "print('\\nThe Test Accuracy of the K-NN classifier for k = %d is %f%%' % (optimal_k, acc))\n",
    "\n",
    "# Variables that will be used for  making table in Conclusion part of this assignment\n",
    "tfidf_brute_K = optimal_k\n",
    "tfidf_brute_train_acc = max(cv_scores)*100\n",
    "tfidf_brute_test_acc = acc"
   ]
  },
  {
   "cell_type": "code",
   "execution_count": 26,
   "metadata": {},
   "outputs": [
    {
     "data": {
      "image/png": "[encoded data removed]",
      "text/plain": [
       "<Figure size 720x504 with 2 Axes>"
      ]
     },
     "metadata": {
      "needs_background": "light"
     },
     "output_type": "display_data"
    }
   ],
   "source": [
    "# Code for drawing seaborn heatmaps\n",
    "class_names = ['negative','positive']\n",
    "df_heatmap = pd.DataFrame(confusion_matrix(Y_test, pred), index=class_names, columns=class_names )\n",
    "fig = plt.figure(figsize=(10,7))\n",
    "heatmap = sns.heatmap(df_heatmap, annot=True, fmt=\"d\")\n",
    "\n",
    "# Setting tick labels for heatmap\n",
    "heatmap.yaxis.set_ticklabels(heatmap.yaxis.get_ticklabels(), rotation=0, ha='right', fontsize=14)\n",
    "heatmap.xaxis.set_ticklabels(heatmap.xaxis.get_ticklabels(), rotation=0, ha='right', fontsize=14)\n",
    "plt.ylabel('Predicted label',size=18)\n",
    "plt.xlabel('True label',size=18)\n",
    "plt.title(\"Confusion Matrix\\n\",size=24)\n",
    "plt.show()"
   ]
  },
  {
   "cell_type": "markdown",
   "metadata": {},
   "source": [
    "## 10 - Fold Cross-Validation (kd_tree implementation)"
   ]
  },
  {
   "cell_type": "code",
   "execution_count": 27,
   "metadata": {},
   "outputs": [
    {
     "name": "stdout",
     "output_type": "stream",
     "text": [
      "\n",
      "The optimal number of neighbors is 49.\n"
     ]
    }
   ],
   "source": [
    "svd = TruncatedSVD(n_components=100)\n",
    "X_train_vec_dense = svd.fit_transform(X_train_vec)\n",
    "X_test_vec_dense = svd.transform(X_test_vec)\n",
    "\n",
    "# creating odd list of K for KNN\n",
    "myList = list(range(0,50))\n",
    "neighbors = list(filter(lambda x: x % 2 != 0, myList))\n",
    "\n",
    "# empty list that will hold cv scores\n",
    "cv_scores = []\n",
    "\n",
    "# 10-fold cross validation\n",
    "for k in neighbors:\n",
    "    knn = KNeighborsClassifier(n_neighbors=k, algorithm='kd_tree')\n",
    "    scores = cross_val_score(knn, X_train_vec_dense, Y_train, cv=10, scoring='accuracy', n_jobs=-1)\n",
    "    cv_scores.append(scores.mean())\n",
    "    \n",
    "# determining best k\n",
    "optimal_k = neighbors[cv_scores.index(max(cv_scores))]\n",
    "print('\\nThe optimal number of neighbors is %d.' % optimal_k)"
   ]
  },
  {
   "cell_type": "code",
   "execution_count": 28,
   "metadata": {},
   "outputs": [
    {
     "data": {
      "image/png": "[encoded data removed]",
      "text/plain": [
       "<Figure size 432x288 with 1 Axes>"
      ]
     },
     "metadata": {
      "needs_background": "light"
     },
     "output_type": "display_data"
    }
   ],
   "source": [
    "# plot accuracy vs k \n",
    "plt.plot(neighbors, cv_scores)\n",
    "plt.xlabel('Number of Neighbors K')\n",
    "plt.ylabel('Accuracy')\n",
    "plt.title('Accuracy VS K Plot',size=16)\n",
    "plt.grid()\n",
    "plt.show()"
   ]
  },
  {
   "cell_type": "code",
   "execution_count": 29,
   "metadata": {},
   "outputs": [
    {
     "name": "stdout",
     "output_type": "stream",
     "text": [
      "\n",
      "The Test Accuracy of the K-NN classifier for k = 49 is 85.080000%\n"
     ]
    }
   ],
   "source": [
    "knn_optimal = KNeighborsClassifier(n_neighbors=optimal_k, algorithm='kd_tree', n_jobs=-1)\n",
    "\n",
    "# fitting the model\n",
    "knn_optimal.fit(X_train_vec_dense, Y_train)\n",
    "\n",
    "# predict the response\n",
    "pred = knn_optimal.predict(X_test_vec_dense)\n",
    "\n",
    "# evaluate accuracy\n",
    "acc = accuracy_score(Y_test, pred) * 100\n",
    "print('\\nThe Test Accuracy of the K-NN classifier for k = %d is %f%%' % (optimal_k, acc))\n",
    "\n",
    "# Variables that will be used for  making table in Conclusion part of this assignment\n",
    "tfidf_kdTree_K = optimal_k\n",
    "tfidf_kdTree_train_acc = max(cv_scores)*100\n",
    "tfidf_kdTree_test_acc = acc"
   ]
  },
  {
   "cell_type": "code",
   "execution_count": 30,
   "metadata": {},
   "outputs": [
    {
     "data": {
      "image/png": "[encoded data removed]",
      "text/plain": [
       "<Figure size 720x504 with 2 Axes>"
      ]
     },
     "metadata": {
      "needs_background": "light"
     },
     "output_type": "display_data"
    }
   ],
   "source": [
    "# Code for drawing seaborn heatmaps\n",
    "class_names = ['negative','positive']\n",
    "df_heatmap = pd.DataFrame(confusion_matrix(Y_test, pred), index=class_names, columns=class_names )\n",
    "fig = plt.figure(figsize=(10,7))\n",
    "heatmap = sns.heatmap(df_heatmap, annot=True, fmt=\"d\")\n",
    "\n",
    "# Setting tick labels for heatmap\n",
    "heatmap.yaxis.set_ticklabels(heatmap.yaxis.get_ticklabels(), rotation=0, ha='right', fontsize=14)\n",
    "heatmap.xaxis.set_ticklabels(heatmap.xaxis.get_ticklabels(), rotation=0, ha='right', fontsize=14)\n",
    "plt.ylabel('Predicted label',size=18)\n",
    "plt.xlabel('True label',size=18)\n",
    "plt.title(\"Confusion Matrix\\n\",size=24)\n",
    "plt.show()"
   ]
  },
  {
   "cell_type": "code",
   "execution_count": null,
   "metadata": {},
   "outputs": [],
   "source": []
  },
  {
   "cell_type": "code",
   "execution_count": null,
   "metadata": {},
   "outputs": [],
   "source": []
  },
  {
   "cell_type": "markdown",
   "metadata": {
    "colab_type": "text",
    "id": "FvLejEvqMQwY"
   },
   "source": [
    "# [7.2.6] Word2Vec"
   ]
  },
  {
   "cell_type": "code",
   "execution_count": 31,
   "metadata": {
    "colab": {},
    "colab_type": "code",
    "id": "WeKWZN4eMQws"
   },
   "outputs": [
    {
     "name": "stdout",
     "output_type": "stream",
     "text": [
      "number of words that occured minimum 5 times  5860\n"
     ]
    }
   ],
   "source": [
    "# List of sentence in X_train text\n",
    "sent_of_train=[]\n",
    "for sent in X_train:\n",
    "    sent_of_train.append(sent.split())\n",
    "\n",
    "# List of sentence in X_est text\n",
    "sent_of_test=[]\n",
    "for sent in X_test:\n",
    "    sent_of_test.append(sent.split())   \n",
    "    \n",
    "# Train your own Word2Vec model using your own train text corpus \n",
    "# min_count = 5 considers only words that occured atleast 5 times\n",
    "w2v_model=Word2Vec(sent_of_train,min_count=5,size=50, workers=4)\n",
    "\n",
    "w2v_words = list(w2v_model.wv.vocab)\n",
    "print(\"number of words that occured minimum 5 times \",len(w2v_words))"
   ]
  },
  {
   "cell_type": "markdown",
   "metadata": {
    "colab_type": "text",
    "id": "V1eebHVHMQwv"
   },
   "source": [
    "# [7.2.7] Avg W2V, TFIDF-W2V"
   ]
  },
  {
   "cell_type": "code",
   "execution_count": 32,
   "metadata": {},
   "outputs": [],
   "source": [
    "# compute average word2vec for each review for X_train .\n",
    "train_vectors = []; \n",
    "for sent in sent_of_train:\n",
    "    sent_vec = np.zeros(50) \n",
    "    cnt_words =0; \n",
    "    for word in sent: # \n",
    "        if word in w2v_words:\n",
    "            vec = w2v_model.wv[word]\n",
    "            sent_vec += vec\n",
    "            cnt_words += 1\n",
    "    if cnt_words != 0:\n",
    "        sent_vec /= cnt_words\n",
    "    train_vectors.append(sent_vec)\n",
    "    \n",
    "# compute average word2vec for each review for X_test .\n",
    "test_vectors = []; \n",
    "for sent in sent_of_test:\n",
    "    sent_vec = np.zeros(50) \n",
    "    cnt_words =0; \n",
    "    for word in sent: # \n",
    "        if word in w2v_words:\n",
    "            vec = w2v_model.wv[word]\n",
    "            sent_vec += vec\n",
    "            cnt_words += 1\n",
    "    if cnt_words != 0:\n",
    "        sent_vec /= cnt_words\n",
    "    test_vectors.append(sent_vec)"
   ]
  },
  {
   "cell_type": "markdown",
   "metadata": {},
   "source": [
    "## 10 Fold Cross-Validation (Brute force implementation)"
   ]
  },
  {
   "cell_type": "code",
   "execution_count": 33,
   "metadata": {},
   "outputs": [
    {
     "name": "stdout",
     "output_type": "stream",
     "text": [
      "\n",
      "The optimal number of neighbors is 35.\n"
     ]
    },
    {
     "data": {
      "image/png": "[encoded data removed]",
      "text/plain": [
       "<Figure size 432x288 with 1 Axes>"
      ]
     },
     "metadata": {
      "needs_background": "light"
     },
     "output_type": "display_data"
    },
    {
     "name": "stdout",
     "output_type": "stream",
     "text": [
      "\n",
      " Accuracy for each k value is :  [0.811 0.845 0.852 0.857 0.859 0.859 0.859 0.859 0.859 0.859 0.86  0.859\n",
      " 0.859 0.859 0.859 0.86  0.859 0.86  0.859 0.859 0.858 0.859 0.859 0.859\n",
      " 0.858]\n"
     ]
    }
   ],
   "source": [
    "# creating odd list of K for KNN\n",
    "myList = list(range(0,50))\n",
    "neighbors = list(filter(lambda x: x % 2 != 0, myList))\n",
    "\n",
    "# empty list that will hold cv scores\n",
    "cv_scores = []\n",
    "\n",
    "# 10-fold cross validation\n",
    "for k in neighbors:\n",
    "    knn = KNeighborsClassifier(n_neighbors=k, algorithm='brute')\n",
    "    scores = cross_val_score(knn, train_vectors, Y_train, cv=10, scoring='accuracy', n_jobs=-1)\n",
    "    cv_scores.append(scores.mean())\n",
    "    \n",
    "# determining best k\n",
    "optimal_k = neighbors[cv_scores.index(max(cv_scores))]\n",
    "print('\\nThe optimal number of neighbors is %d.' % optimal_k)\n",
    "plt.plot(neighbors, cv_scores)\n",
    "plt.xlabel('Number of Neighbors K')\n",
    "plt.ylabel('Accuracy')\n",
    "plt.title('Accuracy VS K Plot',size=16)\n",
    "plt.grid()\n",
    "plt.show()\n",
    "\n",
    "print(\"\\n Accuracy for each k value is : \", np.round(cv_scores,3))"
   ]
  },
  {
   "cell_type": "code",
   "execution_count": 34,
   "metadata": {},
   "outputs": [
    {
     "name": "stdout",
     "output_type": "stream",
     "text": [
      "\n",
      "The Test Accuracy of the K-NN classifier for k = 35 is 85.653333%\n"
     ]
    }
   ],
   "source": [
    "knn_optimal = KNeighborsClassifier(n_neighbors=optimal_k, algorithm='brute', n_jobs=-1)\n",
    "\n",
    "# fitting the model\n",
    "knn_optimal.fit(train_vectors, Y_train)\n",
    "\n",
    "# predict the response\n",
    "pred = knn_optimal.predict(test_vectors)\n",
    "\n",
    "# evaluate accuracy\n",
    "acc = accuracy_score(Y_test, pred) * 100\n",
    "print('\\nThe Test Accuracy of the K-NN classifier for k = %d is %f%%' % (optimal_k, acc))\n",
    "\n",
    "# Variables that will be used for  making table in Conclusion part of this assignment\n",
    "Avg_Word2Vec_brute_K = optimal_k\n",
    "Avg_Word2Vec_brute_train_acc = max(cv_scores)*100\n",
    "Avg_word2Vec_brute_test_acc = acc"
   ]
  },
  {
   "cell_type": "code",
   "execution_count": 35,
   "metadata": {},
   "outputs": [
    {
     "data": {
      "image/png": "[encoded data removed]",
      "text/plain": [
       "<Figure size 720x504 with 2 Axes>"
      ]
     },
     "metadata": {
      "needs_background": "light"
     },
     "output_type": "display_data"
    }
   ],
   "source": [
    "class_names = ['negative','positive']\n",
    "df_heatmap = pd.DataFrame(confusion_matrix(Y_test, pred), index=class_names, columns=class_names )\n",
    "fig = plt.figure(figsize=(10,7))\n",
    "heatmap = sns.heatmap(df_heatmap, annot=True, fmt=\"d\")\n",
    "\n",
    "# Setting tick labels for heatmap\n",
    "heatmap.yaxis.set_ticklabels(heatmap.yaxis.get_ticklabels(), rotation=0, ha='right', fontsize=14)\n",
    "heatmap.xaxis.set_ticklabels(heatmap.xaxis.get_ticklabels(), rotation=0, ha='right', fontsize=14)\n",
    "plt.ylabel('Predicted label',size=18)\n",
    "plt.xlabel('True label',size=18)\n",
    "plt.title(\"Confusion Matrix\\n\",size=24)\n",
    "plt.show()"
   ]
  },
  {
   "cell_type": "markdown",
   "metadata": {},
   "source": [
    "# 10 - Fold Cross-Validation (kd_tree implementation)"
   ]
  },
  {
   "cell_type": "code",
   "execution_count": 36,
   "metadata": {},
   "outputs": [
    {
     "name": "stdout",
     "output_type": "stream",
     "text": [
      "\n",
      "The optimal number of neighbors is 35.\n"
     ]
    },
    {
     "data": {
      "image/png": "[encoded data removed]",
      "text/plain": [
       "<Figure size 432x288 with 1 Axes>"
      ]
     },
     "metadata": {
      "needs_background": "light"
     },
     "output_type": "display_data"
    },
    {
     "name": "stdout",
     "output_type": "stream",
     "text": [
      "\n",
      " Accuracy for each k value is :  [0.811 0.845 0.852 0.857 0.859 0.859 0.859 0.859 0.859 0.859 0.86  0.859\n",
      " 0.859 0.859 0.859 0.86  0.859 0.86  0.859 0.859 0.858 0.859 0.859 0.859\n",
      " 0.858]\n"
     ]
    }
   ],
   "source": [
    "# creating odd list of K for KNN\n",
    "myList = list(range(0,50))\n",
    "neighbors = list(filter(lambda x: x % 2 != 0, myList))\n",
    "\n",
    "# empty list that will hold cv scores\n",
    "cv_scores = []\n",
    "\n",
    "# 10-fold cross validation\n",
    "for k in neighbors:\n",
    "    knn = KNeighborsClassifier(n_neighbors=k, algorithm='kd_tree')\n",
    "    scores = cross_val_score(knn, train_vectors, Y_train, cv=10, scoring='accuracy', n_jobs=-1)\n",
    "    cv_scores.append(scores.mean())\n",
    "    \n",
    "# determining best k\n",
    "optimal_k = neighbors[cv_scores.index(max(cv_scores))]\n",
    "print('\\nThe optimal number of neighbors is %d.' % optimal_k)\n",
    "# plot accuracy vs k \n",
    "plt.plot(neighbors, cv_scores)\n",
    "plt.xlabel('Number of Neighbors K')\n",
    "plt.ylabel('Accuracy')\n",
    "plt.title('Accuracy VS K Plot',size=16)\n",
    "plt.grid()\n",
    "plt.show()\n",
    "\n",
    "print(\"\\n Accuracy for each k value is : \", np.round(cv_scores,3))"
   ]
  },
  {
   "cell_type": "code",
   "execution_count": 37,
   "metadata": {},
   "outputs": [
    {
     "name": "stdout",
     "output_type": "stream",
     "text": [
      "\n",
      "The Test Accuracy of the K-NN classifier for k = 35 is 85.653333%\n"
     ]
    }
   ],
   "source": [
    "# instantiate learning model k = optimal_k\n",
    "knn_optimal = KNeighborsClassifier(n_neighbors=optimal_k, algorithm='kd_tree', n_jobs=-1)\n",
    "\n",
    "# fitting the model\n",
    "knn_optimal.fit(train_vectors, Y_train)\n",
    "\n",
    "# predict the response\n",
    "pred = knn_optimal.predict(test_vectors)\n",
    "\n",
    "# evaluate accuracy\n",
    "acc = accuracy_score(Y_test, pred) * 100\n",
    "print('\\nThe Test Accuracy of the K-NN classifier for k = %d is %f%%' % (optimal_k, acc))\n",
    "\n",
    "# Variables that will be used for  making table in Conclusion part of this assignment\n",
    "Avg_Word2Vec_kdTree_K = optimal_k\n",
    "Avg_Word2Vec_kdTree_train_acc = max(cv_scores)*100\n",
    "Avg_Word2Vec_kdTree_test_acc = acc"
   ]
  },
  {
   "cell_type": "code",
   "execution_count": 38,
   "metadata": {},
   "outputs": [
    {
     "data": {
      "image/png": "[encoded data removed]",
      "text/plain": [
       "<Figure size 720x504 with 2 Axes>"
      ]
     },
     "metadata": {
      "needs_background": "light"
     },
     "output_type": "display_data"
    }
   ],
   "source": [
    "class_names = ['negative','positive']\n",
    "df_heatmap = pd.DataFrame(confusion_matrix(Y_test, pred), index=class_names, columns=class_names )\n",
    "fig = plt.figure(figsize=(10,7))\n",
    "heatmap = sns.heatmap(df_heatmap, annot=True, fmt=\"d\")\n",
    "\n",
    "# Setting tick labels for heatmap\n",
    "heatmap.yaxis.set_ticklabels(heatmap.yaxis.get_ticklabels(), rotation=0, ha='right', fontsize=14)\n",
    "heatmap.xaxis.set_ticklabels(heatmap.xaxis.get_ticklabels(), rotation=0, ha='right', fontsize=14)\n",
    "plt.ylabel('Predicted label',size=18)\n",
    "plt.xlabel('True label',size=18)\n",
    "plt.title(\"Confusion Matrix\\n\",size=24)\n",
    "plt.show()"
   ]
  },
  {
   "cell_type": "markdown",
   "metadata": {},
   "source": [
    "# TFIDF-Word2Vec"
   ]
  },
  {
   "cell_type": "code",
   "execution_count": 39,
   "metadata": {},
   "outputs": [],
   "source": [
    "# TF-IDF weighted Word2Vec\n",
    "tf_idf_vect = TfidfVectorizer()\n",
    "\n",
    "# final_tf_idf1 is the sparse matrix with row= sentence, col=word and cell_val = tfidf\n",
    "final_tf_idf1 = tf_idf_vect.fit_transform(X_train)\n",
    "\n",
    "# tfidf words/col-names\n",
    "tfidf_feat = tf_idf_vect.get_feature_names()\n",
    "\n",
    "# compute TFIDF Weighted Word2Vec for each review for X_test .\n",
    "tfidf_test_vectors = []; \n",
    "row=0;\n",
    "for sent in sent_of_test: \n",
    "    sent_vec = np.zeros(50) \n",
    "    weight_sum =0; \n",
    "    for word in sent: \n",
    "        if word in w2v_words:\n",
    "            vec = w2v_model.wv[word]\n",
    "            # obtain the tf_idfidf of a word in a sentence/review\n",
    "            tf_idf = final_tf_idf1[row, tfidf_feat.index(word)]\n",
    "            sent_vec += (vec * tf_idf)\n",
    "            weight_sum += tf_idf\n",
    "    if weight_sum != 0:\n",
    "        sent_vec /= weight_sum\n",
    "    tfidf_test_vectors.append(sent_vec)\n",
    "    row += 1  \n",
    "    \n",
    "# compute TFIDF Weighted Word2Vec for each review for X_train .\n",
    "tfidf_train_vectors = []; \n",
    "row=0;\n",
    "for sent in sent_of_train: \n",
    "    sent_vec = np.zeros(50) \n",
    "    weight_sum =0; \n",
    "    for word in sent: \n",
    "        if word in w2v_words:\n",
    "            vec = w2v_model.wv[word]\n",
    "            # obtain the tf_idfidf of a word in a sentence/review\n",
    "            tf_idf = final_tf_idf1[row, tfidf_feat.index(word)]\n",
    "            sent_vec += (vec * tf_idf)\n",
    "            weight_sum += tf_idf\n",
    "    if weight_sum != 0:\n",
    "        sent_vec /= weight_sum\n",
    "    tfidf_train_vectors.append(sent_vec)\n",
    "    row += 1"
   ]
  },
  {
   "cell_type": "markdown",
   "metadata": {},
   "source": [
    "## 10 Fold Cross-Validation (Brute force implementation)"
   ]
  },
  {
   "cell_type": "code",
   "execution_count": 40,
   "metadata": {},
   "outputs": [
    {
     "name": "stdout",
     "output_type": "stream",
     "text": [
      "\n",
      "The optimal number of neighbors is 13.\n"
     ]
    },
    {
     "data": {
      "image/png": "[encoded data removed]",
      "text/plain": [
       "<Figure size 432x288 with 1 Axes>"
      ]
     },
     "metadata": {
      "needs_background": "light"
     },
     "output_type": "display_data"
    },
    {
     "name": "stdout",
     "output_type": "stream",
     "text": [
      "\n",
      " Accuracy for each k value is :  [0.793 0.831 0.846 0.853 0.854 0.855 0.857 0.857 0.856 0.857 0.857 0.856\n",
      " 0.856 0.856 0.855 0.855 0.856 0.855 0.854 0.855 0.854 0.854 0.854 0.853\n",
      " 0.853]\n"
     ]
    }
   ],
   "source": [
    "# creating odd list of K for KNN\n",
    "myList = list(range(0,50))\n",
    "neighbors = list(filter(lambda x: x % 2 != 0, myList))\n",
    "\n",
    "# empty list that will hold cv scores\n",
    "cv_scores = []\n",
    "\n",
    "# 10-fold cross validation\n",
    "for k in neighbors:\n",
    "    knn = KNeighborsClassifier(n_neighbors=k, algorithm='brute')\n",
    "    scores = cross_val_score(knn, tfidf_train_vectors, Y_train, cv=10, scoring='accuracy', n_jobs=-1)\n",
    "    cv_scores.append(scores.mean())\n",
    "    \n",
    "# determining best k\n",
    "optimal_k = neighbors[cv_scores.index(max(cv_scores))]\n",
    "print('\\nThe optimal number of neighbors is %d.' % optimal_k)\n",
    "# plot accuracy vs k \n",
    "plt.plot(neighbors, cv_scores)\n",
    "plt.xlabel('Number of Neighbors K')\n",
    "plt.ylabel('Accuracy')\n",
    "plt.title('Accuracy VS K Plot',size=16)\n",
    "plt.grid()\n",
    "plt.show()\n",
    "\n",
    "print(\"\\n Accuracy for each k value is : \", np.round(cv_scores,3))"
   ]
  },
  {
   "cell_type": "code",
   "execution_count": 41,
   "metadata": {},
   "outputs": [
    {
     "name": "stdout",
     "output_type": "stream",
     "text": [
      "\n",
      "The Test Accuracy of the K-NN classifier for k = 13 is 79.986667%\n"
     ]
    }
   ],
   "source": [
    "knn_optimal = KNeighborsClassifier(n_neighbors=optimal_k, algorithm='brute', n_jobs=-1)\n",
    "\n",
    "# fitting the model\n",
    "knn_optimal.fit(tfidf_train_vectors, Y_train)\n",
    "\n",
    "# predict the response\n",
    "pred = knn_optimal.predict(tfidf_test_vectors)\n",
    "\n",
    "# evaluate accuracy\n",
    "acc = accuracy_score(Y_test, pred) * 100\n",
    "print('\\nThe Test Accuracy of the K-NN classifier for k = %d is %f%%' % (optimal_k, acc))\n",
    "\n",
    "# Variables that will be used for  making table in Conclusion part of this assignment\n",
    "TFIDF_Word2Vec_brute_K = optimal_k\n",
    "TFIDF_Word2Vec_brute_train_acc = max(cv_scores)*100\n",
    "TFIDF_word2Vec_brute_test_acc = acc"
   ]
  },
  {
   "cell_type": "code",
   "execution_count": 42,
   "metadata": {},
   "outputs": [
    {
     "data": {
      "image/png": "[encoded data removed]",
      "text/plain": [
       "<Figure size 720x504 with 2 Axes>"
      ]
     },
     "metadata": {
      "needs_background": "light"
     },
     "output_type": "display_data"
    }
   ],
   "source": [
    "class_names = ['negative','positive']\n",
    "df_heatmap = pd.DataFrame(confusion_matrix(Y_test, pred), index=class_names, columns=class_names )\n",
    "fig = plt.figure(figsize=(10,7))\n",
    "heatmap = sns.heatmap(df_heatmap, annot=True, fmt=\"d\")\n",
    "\n",
    "# Setting tick labels for heatmap\n",
    "heatmap.yaxis.set_ticklabels(heatmap.yaxis.get_ticklabels(), rotation=0, ha='right', fontsize=14)\n",
    "heatmap.xaxis.set_ticklabels(heatmap.xaxis.get_ticklabels(), rotation=0, ha='right', fontsize=14)\n",
    "plt.ylabel('Predicted label',size=18)\n",
    "plt.xlabel('True label',size=18)\n",
    "plt.title(\"Confusion Matrix\\n\",size=24)\n",
    "plt.show()"
   ]
  },
  {
   "cell_type": "markdown",
   "metadata": {},
   "source": [
    "## 10 Fold Cross-Validation (kd_tree implementation)"
   ]
  },
  {
   "cell_type": "code",
   "execution_count": 43,
   "metadata": {},
   "outputs": [
    {
     "name": "stdout",
     "output_type": "stream",
     "text": [
      "\n",
      "The optimal number of neighbors is 13.\n"
     ]
    },
    {
     "data": {
      "image/png": "[encoded data removed]",
      "text/plain": [
       "<Figure size 432x288 with 1 Axes>"
      ]
     },
     "metadata": {
      "needs_background": "light"
     },
     "output_type": "display_data"
    },
    {
     "name": "stdout",
     "output_type": "stream",
     "text": [
      "\n",
      " Accuracy for each k value is :  [0.793 0.831 0.846 0.853 0.854 0.855 0.857 0.857 0.856 0.857 0.857 0.856\n",
      " 0.856 0.856 0.855 0.855 0.856 0.855 0.854 0.855 0.854 0.854 0.854 0.853\n",
      " 0.853]\n"
     ]
    }
   ],
   "source": [
    "myList = list(range(0,50))\n",
    "neighbors = list(filter(lambda x: x % 2 != 0, myList))\n",
    "\n",
    "# empty list that will hold cv scores\n",
    "cv_scores = []\n",
    "\n",
    "# 10-fold cross validation\n",
    "for k in neighbors:\n",
    "    knn = KNeighborsClassifier(n_neighbors=k, algorithm='kd_tree')\n",
    "    scores = cross_val_score(knn, tfidf_train_vectors, Y_train, cv=10, scoring='accuracy', n_jobs=-1)\n",
    "    cv_scores.append(scores.mean())\n",
    "    \n",
    "# determining best k\n",
    "optimal_k = neighbors[cv_scores.index(max(cv_scores))]\n",
    "print('\\nThe optimal number of neighbors is %d.' % optimal_k)\n",
    "plt.plot(neighbors, cv_scores)\n",
    "plt.xlabel('Number of Neighbors K')\n",
    "plt.ylabel('Accuracy')\n",
    "plt.title('Accuracy VS K Plot',size=16)\n",
    "plt.grid()\n",
    "plt.show()\n",
    "\n",
    "print(\"\\n Accuracy for each k value is : \", np.round(cv_scores,3))"
   ]
  },
  {
   "cell_type": "code",
   "execution_count": 44,
   "metadata": {},
   "outputs": [
    {
     "name": "stdout",
     "output_type": "stream",
     "text": [
      "\n",
      "The Test Accuracy of the K-NN classifier for k = 13 is 79.986667%\n"
     ]
    }
   ],
   "source": [
    "knn_optimal = KNeighborsClassifier(n_neighbors=optimal_k, algorithm='kd_tree', n_jobs=-1)\n",
    "\n",
    "# fitting the model\n",
    "knn_optimal.fit(tfidf_train_vectors, Y_train)\n",
    "\n",
    "# predict the response\n",
    "pred = knn_optimal.predict(tfidf_test_vectors)\n",
    "\n",
    "# evaluate accuracy\n",
    "acc = accuracy_score(Y_test, pred) * 100\n",
    "print('\\nThe Test Accuracy of the K-NN classifier for k = %d is %f%%' % (optimal_k, acc))\n",
    "\n",
    "# Variables that will be used for  making table in Conclusion part of this assignment\n",
    "TFIDF_Word2Vec_kdTree_K = optimal_k\n",
    "TFIDF_Word2Vec_kdTree_train_acc = max(cv_scores)*100\n",
    "TFIDF_Word2Vec_kdTree_test_acc = acc"
   ]
  },
  {
   "cell_type": "code",
   "execution_count": 45,
   "metadata": {},
   "outputs": [
    {
     "data": {
      "image/png": "[encoded data removed]",
      "text/plain": [
       "<Figure size 720x504 with 2 Axes>"
      ]
     },
     "metadata": {
      "needs_background": "light"
     },
     "output_type": "display_data"
    }
   ],
   "source": [
    "class_names = ['negative','positive']\n",
    "df_heatmap = pd.DataFrame(confusion_matrix(Y_test, pred), index=class_names, columns=class_names )\n",
    "fig = plt.figure(figsize=(10,7))\n",
    "heatmap = sns.heatmap(df_heatmap, annot=True, fmt=\"d\")\n",
    "\n",
    "# Setting tick labels for heatmap\n",
    "heatmap.yaxis.set_ticklabels(heatmap.yaxis.get_ticklabels(), rotation=0, ha='right', fontsize=14)\n",
    "heatmap.xaxis.set_ticklabels(heatmap.xaxis.get_ticklabels(), rotation=0, ha='right', fontsize=14)\n",
    "plt.ylabel('Predicted label',size=18)\n",
    "plt.xlabel('True label',size=18)\n",
    "plt.title(\"Confusion Matrix\\n\",size=24)\n",
    "plt.show()"
   ]
  },
  {
   "cell_type": "code",
   "execution_count": 52,
   "metadata": {},
   "outputs": [
    {
     "name": "stdout",
     "output_type": "stream",
     "text": [
      "+-------+---------------------------------------+--------+-------------------+-------------------+\n",
      "| S.NO. |                 MODEL                 | Best K | Training Accuracy |   Test Accuracy   |\n",
      "+-------+---------------------------------------+--------+-------------------+-------------------+\n",
      "|   1   |       KNN using 'brute' for BoW       |   17   | 84.66856390157189 | 84.25333333333333 |\n",
      "|   2   |       KNN using 'kdTree' for BoW      |   19   | 84.88569696092728 | 84.73333333333333 |\n",
      "|   3   |      KNN using 'brute' for TFIDF      |   9    | 85.54286597038188 |       85.44       |\n",
      "|   4   |      KNN using 'kdTree' for TFIDF     |   49   | 85.56576231558418 |       85.08       |\n",
      "|   5   |   KNN using 'brute' for Avg-Word2Vec  |   35   | 86.00001215440629 | 85.65333333333334 |\n",
      "|   6   |  KNN using 'kdTree' for Avg-Word2Vec  |   35   | 86.00001215440629 | 85.65333333333334 |\n",
      "|   7   |  KNN using 'brute' for TFIDF-Word2Vec |   13   | 85.70283008745471 | 79.98666666666666 |\n",
      "|   8   | KNN using 'kdTree' for TFIDF-Word2Vec |   13   | 85.70283008745471 | 79.98666666666666 |\n",
      "+-------+---------------------------------------+--------+-------------------+-------------------+\n"
     ]
    }
   ],
   "source": [
    "# Creating table using PrettyTable library\n",
    "from prettytable import PrettyTable\n",
    "\n",
    "names = [\"KNN using 'brute' for BoW\", \"KNN using 'kdTree' for BoW\", \"KNN using 'brute' for TFIDF\", \\\n",
    "        \"KNN using 'kdTree' for TFIDF\", \"KNN using 'brute' for Avg-Word2Vec\", \"KNN using 'kdTree' for Avg-Word2Vec\", \\\n",
    "        \"KNN using 'brute' for TFIDF-Word2Vec\", \"KNN using 'kdTree' for TFIDF-Word2Vec\"]\n",
    "\n",
    "optimal_K = [bow_brute_K, bow_kdTree_K, tfidf_brute_K, tfidf_kdTree_K, Avg_Word2Vec_brute_K, Avg_Word2Vec_kdTree_K, \\\n",
    "             TFIDF_Word2Vec_brute_K, TFIDF_Word2Vec_kdTree_K]\n",
    "\n",
    "train_acc = [bow_brute_train_acc, bow_kdTree_train_acc, tfidf_brute_train_acc, tfidf_kdTree_train_acc, \\\n",
    "             Avg_Word2Vec_brute_train_acc, Avg_Word2Vec_kdTree_train_acc, TFIDF_Word2Vec_brute_train_acc, \\\n",
    "             TFIDF_Word2Vec_kdTree_train_acc]\n",
    "\n",
    "test_acc = [bow_brute_test_acc, bow_kdTree_test_acc, tfidf_brute_test_acc, tfidf_kdTree_test_acc, \\\n",
    "            Avg_word2Vec_brute_test_acc, Avg_Word2Vec_kdTree_test_acc, TFIDF_word2Vec_brute_test_acc, \\\n",
    "            TFIDF_Word2Vec_kdTree_test_acc]\n",
    "\n",
    "numbering = [1,2,3,4,5,6,7,8]\n",
    "\n",
    "# Initializing prettytable\n",
    "ptable = PrettyTable()\n",
    "\n",
    "# Adding columns\n",
    "ptable.add_column(\"S.NO.\",numbering)\n",
    "ptable.add_column(\"MODEL\",names)\n",
    "ptable.add_column(\"Best K\",optimal_K)\n",
    "ptable.add_column(\"Training Accuracy\",train_acc)\n",
    "ptable.add_column(\"Test Accuracy\",test_acc)\n",
    "\n",
    "# Printing the Table\n",
    "print(ptable)"
   ]
  },
  {
   "cell_type": "code",
   "execution_count": null,
   "metadata": {},
   "outputs": [],
   "source": []
  }
 ],
 "metadata": {
  "colab": {
   "collapsed_sections": [
    "0Zhvc5AMMQwD"
   ],
   "name": "Amazon Fine Food Reviews Analysis.ipynb",
   "provenance": [],
   "version": "0.3.2"
  },
  "kernelspec": {
   "display_name": "Python 3",
   "language": "python",
   "name": "python3"
  },
  "language_info": {
   "codemirror_mode": {
    "name": "ipython",
    "version": 3
   },
   "file_extension": ".py",
   "mimetype": "text/x-python",
   "name": "python",
   "nbconvert_exporter": "python",
   "pygments_lexer": "ipython3",
   "version": "3.7.0"
  }
 },
 "nbformat": 4,
 "nbformat_minor": 1
}

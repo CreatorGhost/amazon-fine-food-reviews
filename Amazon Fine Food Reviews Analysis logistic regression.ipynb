{
 "cells": [
  {
   "cell_type": "markdown",
   "metadata": {
    "colab_type": "text",
    "id": "cyXEgMWtMQvM"
   },
   "source": [
    "# [1] Amazon Fine Food Reviews Analysis\n",
    "\n",
    "\n",
    "Data Source: https://www.kaggle.com/snap/amazon-fine-food-reviews\n",
    "\n",
    "The Amazon Fine Food Reviews dataset consists of reviews of fine foods from Amazon.<br>\n",
    "\n",
    "Number of reviews: 568,454<br>\n",
    "Number of users: 256,059<br>\n",
    "Number of products: 74,258<br>\n",
    "Timespan: Oct 1999 - Oct 2012<br>\n",
    "Number of Attributes/Columns in data: 10 \n",
    "\n",
    "Attribute Information:\n",
    "\n",
    "1. Id\n",
    "2. ProductId - unique identifier for the product\n",
    "3. UserId - unqiue identifier for the user\n",
    "4. ProfileName\n",
    "5. HelpfulnessNumerator - number of users who found the review helpful\n",
    "6. HelpfulnessDenominator - number of users who indicated whether they found the review helpful or not\n",
    "7. Score - rating between 1 and 5\n",
    "8. Time - timestamp for the review\n",
    "9. Summary - brief summary of the review\n",
    "10. Text - text of the review\n",
    "\n",
    "\n",
    "#### Objective:\n",
    "Given a review, determine whether the review is positive (Rating of 4 or 5) or negative (rating of 1 or 2).\n",
    "\n",
    "<br>\n",
    "[Q] How to determine if a review is positive or negative?<br>\n",
    "<br> \n",
    "[Ans] We could use the Score/Rating. A rating of 4 or 5 could be cosnidered a positive review. A review of 1 or 2 could be considered negative. A review of 3 is nuetral and ignored. This is an approximate and proxy way of determining the polarity (positivity/negativity) of a review.\n",
    "\n",
    "\n"
   ]
  },
  {
   "cell_type": "markdown",
   "metadata": {
    "colab_type": "text",
    "id": "nTN9VK62MQvN"
   },
   "source": [
    "## [7.1] Loading the data\n",
    "\n",
    "The dataset is available in two forms\n",
    "1. .csv file\n",
    "2. SQLite Database\n",
    "\n",
    "In order to load the data, We have used the SQLITE dataset as it easier to query the data and visualise the data efficiently.\n",
    "<br> \n",
    "\n",
    "Here as we only want to get the global sentiment of the recommendations (positive or negative), we will purposefully ignore all Scores equal to 3. If the score id above 3, then the recommendation wil be set to \"positive\". Otherwise, it will be set to \"negative\"."
   ]
  },
  {
   "cell_type": "code",
   "execution_count": 1,
   "metadata": {
    "colab": {},
    "colab_type": "code",
    "id": "vXnuoQYEMQvO"
   },
   "outputs": [
    {
     "name": "stderr",
     "output_type": "stream",
     "text": [
      "C:\\Users\\Sai charan\\Anaconda3\\lib\\site-packages\\ipykernel\\parentpoller.py:116: UserWarning: Parent poll failed.  If the frontend dies,\n",
      "                the kernel may be left running.  Please let us know\n",
      "                about your system (bitness, Python, etc.) at\n",
      "                ipython-dev@scipy.org\n",
      "  ipython-dev@scipy.org\"\"\")\n",
      "C:\\Users\\Sai charan\\Anaconda3\\lib\\site-packages\\gensim\\utils.py:1197: UserWarning: detected Windows; aliasing chunkize to chunkize_serial\n",
      "  warnings.warn(\"detected Windows; aliasing chunkize to chunkize_serial\")\n"
     ]
    }
   ],
   "source": [
    "%matplotlib inline\n",
    "import warnings\n",
    "warnings.filterwarnings(\"ignore\")\n",
    "\n",
    "import sqlite3\n",
    "import pandas as pd\n",
    "import numpy as np\n",
    "import nltk\n",
    "import string\n",
    "import matplotlib.pyplot as plt\n",
    "import seaborn as sns\n",
    "from sklearn.feature_extraction.text import TfidfTransformer\n",
    "from sklearn.feature_extraction.text import TfidfVectorizer\n",
    "\n",
    "from sklearn.feature_extraction.text import CountVectorizer\n",
    "from sklearn.metrics import confusion_matrix\n",
    "from sklearn import metrics\n",
    "from sklearn.metrics import roc_curve, auc\n",
    "from nltk.stem.porter import PorterStemmer\n",
    "\n",
    "import re\n",
    "# Tutorial about Python regular expressions: https://pymotw.com/2/re/\n",
    "import string\n",
    "from nltk.corpus import stopwords\n",
    "from nltk.stem import PorterStemmer\n",
    "from nltk.stem.wordnet import WordNetLemmatizer\n",
    "\n",
    "from gensim.models import Word2Vec\n",
    "from gensim.models import KeyedVectors\n",
    "import pickle\n",
    "\n",
    "from tqdm import tqdm\n",
    "import os\n",
    "warnings.filterwarnings(\"ignore\")\n",
    "\n",
    "%matplotlib inline \n",
    "# sets the backend of matplotlib to the 'inline' backend:\n",
    "#With this backend, the output of plotting commands is displayed inline within frontends like the Jupyter notebook,\n",
    "#directly below the code cell that produced it. The resulting plots will then also be stored in the notebook document.\n",
    "\n",
    "#Functions to save objects for later use and retireve it\n",
    "import pickle\n",
    "def savetofile(obj,filename):\n",
    "    pickle.dump(obj,open(filename+\".p\",\"wb\"))\n",
    "def openfromfile(filename):\n",
    "    temp = pickle.load(open(filename+\".p\",\"rb\"))\n",
    "    return temp"
   ]
  },
  {
   "cell_type": "markdown",
   "metadata": {
    "colab_type": "text",
    "id": "CF7NMcGnMQvX"
   },
   "source": [
    "#  Exploratory Data Analysis\n",
    "\n",
    "## [7.1.2] Data Cleaning: Deduplication\n",
    "\n",
    "It is observed (as shown in the table below) that the reviews data had many duplicate entries. Hence it was necessary to remove duplicates in order to get unbiased results for the analysis of the data.  Following is an example:"
   ]
  },
  {
   "cell_type": "code",
   "execution_count": 2,
   "metadata": {
    "colab": {},
    "colab_type": "code",
    "id": "-lrJx9N9MQvT"
   },
   "outputs": [
    {
     "data": {
      "text/html": [
       "<div>\n",
       "<style scoped>\n",
       "    .dataframe tbody tr th:only-of-type {\n",
       "        vertical-align: middle;\n",
       "    }\n",
       "\n",
       "    .dataframe tbody tr th {\n",
       "        vertical-align: top;\n",
       "    }\n",
       "\n",
       "    .dataframe thead th {\n",
       "        text-align: right;\n",
       "    }\n",
       "</style>\n",
       "<table border=\"1\" class=\"dataframe\">\n",
       "  <thead>\n",
       "    <tr style=\"text-align: right;\">\n",
       "      <th></th>\n",
       "      <th>index</th>\n",
       "      <th>Id</th>\n",
       "      <th>ProductId</th>\n",
       "      <th>UserId</th>\n",
       "      <th>ProfileName</th>\n",
       "      <th>HelpfulnessNumerator</th>\n",
       "      <th>HelpfulnessDenominator</th>\n",
       "      <th>Score</th>\n",
       "      <th>Time</th>\n",
       "      <th>Summary</th>\n",
       "      <th>Text</th>\n",
       "      <th>CleanedText</th>\n",
       "    </tr>\n",
       "  </thead>\n",
       "  <tbody>\n",
       "    <tr>\n",
       "      <th>0</th>\n",
       "      <td>138706</td>\n",
       "      <td>150524</td>\n",
       "      <td>0006641040</td>\n",
       "      <td>ACITT7DI6IDDL</td>\n",
       "      <td>shari zychinski</td>\n",
       "      <td>0</td>\n",
       "      <td>0</td>\n",
       "      <td>positive</td>\n",
       "      <td>939340800</td>\n",
       "      <td>EVERY book is educational</td>\n",
       "      <td>this witty little book makes my son laugh at l...</td>\n",
       "      <td>witti littl book make son laugh loud recit car...</td>\n",
       "    </tr>\n",
       "    <tr>\n",
       "      <th>1</th>\n",
       "      <td>138683</td>\n",
       "      <td>150501</td>\n",
       "      <td>0006641040</td>\n",
       "      <td>AJ46FKXOVC7NR</td>\n",
       "      <td>Nicholas A Mesiano</td>\n",
       "      <td>2</td>\n",
       "      <td>2</td>\n",
       "      <td>positive</td>\n",
       "      <td>940809600</td>\n",
       "      <td>This whole series is great way to spend time w...</td>\n",
       "      <td>I can remember seeing the show when it aired o...</td>\n",
       "      <td>rememb see show air televis year ago child sis...</td>\n",
       "    </tr>\n",
       "    <tr>\n",
       "      <th>2</th>\n",
       "      <td>417839</td>\n",
       "      <td>451856</td>\n",
       "      <td>B00004CXX9</td>\n",
       "      <td>AIUWLEQ1ADEG5</td>\n",
       "      <td>Elizabeth Medina</td>\n",
       "      <td>0</td>\n",
       "      <td>0</td>\n",
       "      <td>positive</td>\n",
       "      <td>944092800</td>\n",
       "      <td>Entertainingl Funny!</td>\n",
       "      <td>Beetlejuice is a well written movie ..... ever...</td>\n",
       "      <td>beetlejuic well written movi everyth excel act...</td>\n",
       "    </tr>\n",
       "    <tr>\n",
       "      <th>3</th>\n",
       "      <td>346055</td>\n",
       "      <td>374359</td>\n",
       "      <td>B00004CI84</td>\n",
       "      <td>A344SMIA5JECGM</td>\n",
       "      <td>Vincent P. Ross</td>\n",
       "      <td>1</td>\n",
       "      <td>2</td>\n",
       "      <td>positive</td>\n",
       "      <td>944438400</td>\n",
       "      <td>A modern day fairy tale</td>\n",
       "      <td>A twist of rumplestiskin captured on film, sta...</td>\n",
       "      <td>twist rumplestiskin captur film star michael k...</td>\n",
       "    </tr>\n",
       "    <tr>\n",
       "      <th>4</th>\n",
       "      <td>417838</td>\n",
       "      <td>451855</td>\n",
       "      <td>B00004CXX9</td>\n",
       "      <td>AJH6LUC1UT1ON</td>\n",
       "      <td>The Phantom of the Opera</td>\n",
       "      <td>0</td>\n",
       "      <td>0</td>\n",
       "      <td>positive</td>\n",
       "      <td>946857600</td>\n",
       "      <td>FANTASTIC!</td>\n",
       "      <td>Beetlejuice is an excellent and funny movie. K...</td>\n",
       "      <td>beetlejuic excel funni movi keaton hilari wack...</td>\n",
       "    </tr>\n",
       "  </tbody>\n",
       "</table>\n",
       "</div>"
      ],
      "text/plain": [
       "    index      Id   ProductId          UserId               ProfileName  \\\n",
       "0  138706  150524  0006641040   ACITT7DI6IDDL           shari zychinski   \n",
       "1  138683  150501  0006641040   AJ46FKXOVC7NR        Nicholas A Mesiano   \n",
       "2  417839  451856  B00004CXX9   AIUWLEQ1ADEG5          Elizabeth Medina   \n",
       "3  346055  374359  B00004CI84  A344SMIA5JECGM           Vincent P. Ross   \n",
       "4  417838  451855  B00004CXX9   AJH6LUC1UT1ON  The Phantom of the Opera   \n",
       "\n",
       "   HelpfulnessNumerator  HelpfulnessDenominator     Score       Time  \\\n",
       "0                     0                       0  positive  939340800   \n",
       "1                     2                       2  positive  940809600   \n",
       "2                     0                       0  positive  944092800   \n",
       "3                     1                       2  positive  944438400   \n",
       "4                     0                       0  positive  946857600   \n",
       "\n",
       "                                             Summary  \\\n",
       "0                          EVERY book is educational   \n",
       "1  This whole series is great way to spend time w...   \n",
       "2                               Entertainingl Funny!   \n",
       "3                            A modern day fairy tale   \n",
       "4                                         FANTASTIC!   \n",
       "\n",
       "                                                Text  \\\n",
       "0  this witty little book makes my son laugh at l...   \n",
       "1  I can remember seeing the show when it aired o...   \n",
       "2  Beetlejuice is a well written movie ..... ever...   \n",
       "3  A twist of rumplestiskin captured on film, sta...   \n",
       "4  Beetlejuice is an excellent and funny movie. K...   \n",
       "\n",
       "                                         CleanedText  \n",
       "0  witti littl book make son laugh loud recit car...  \n",
       "1  rememb see show air televis year ago child sis...  \n",
       "2  beetlejuic well written movi everyth excel act...  \n",
       "3  twist rumplestiskin captur film star michael k...  \n",
       "4  beetlejuic excel funni movi keaton hilari wack...  "
      ]
     },
     "execution_count": 2,
     "metadata": {},
     "output_type": "execute_result"
    }
   ],
   "source": [
    "#Using sqlite3 to retrieve data from sqlite file\n",
    "\n",
    "con = sqlite3.connect(\"final.sqlite\")#Loading Cleaned/ Preprocesed text that we did in Text Preprocessing\n",
    "\n",
    "#Using pandas functions to query from sql table\n",
    "final = pd.read_sql_query(\"\"\"\n",
    "SELECT * FROM Reviews order by Time\n",
    "\"\"\",con)\n",
    "\n",
    "#Reviews is the name of the table given\n",
    "#Taking only the data where score != 3 as score 3 will be neutral and it won't help us much\n",
    "final.head()"
   ]
  },
  {
   "cell_type": "code",
   "execution_count": 3,
   "metadata": {},
   "outputs": [],
   "source": [
    "final['Score'] = final['Score'].replace('positive',1)\n",
    "final['Score'] = final['Score'].replace('negative',0)"
   ]
  },
  {
   "cell_type": "code",
   "execution_count": 4,
   "metadata": {},
   "outputs": [
    {
     "data": {
      "text/plain": [
       "False    364171\n",
       "dtype: int64"
      ]
     },
     "execution_count": 4,
     "metadata": {},
     "output_type": "execute_result"
    }
   ],
   "source": [
    "final.duplicated(subset={\"UserId\",\"ProfileName\",\"Time\",\"Text\"}).value_counts()"
   ]
  },
  {
   "cell_type": "code",
   "execution_count": 5,
   "metadata": {},
   "outputs": [],
   "source": [
    "final =  final.drop_duplicates(subset={\"UserId\",\"ProfileName\",\"Time\",\"Text\"},keep=\"first\")"
   ]
  },
  {
   "cell_type": "code",
   "execution_count": 6,
   "metadata": {},
   "outputs": [
    {
     "name": "stdout",
     "output_type": "stream",
     "text": [
      "Size of data 364171  rows \n"
     ]
    }
   ],
   "source": [
    "final = final[final.HelpfulnessNumerator <= final.HelpfulnessDenominator]\n",
    "print(\"Size of data\",final['Id'].size,\" rows \")"
   ]
  },
  {
   "cell_type": "code",
   "execution_count": 7,
   "metadata": {},
   "outputs": [
    {
     "data": {
      "text/plain": [
       "'I Want This text!'"
      ]
     },
     "execution_count": 7,
     "metadata": {},
     "output_type": "execute_result"
    }
   ],
   "source": [
    "import re #Regex (Regualar Expr Operations)\n",
    "#string = r\"sdfsdfd\" :- r is for raw string as Regex often uses \\ backslashes(\\w), so they are often raw strings(r’\\d’)\n",
    "\n",
    "########Function to remove html tags from data\n",
    "def striphtml(data):\n",
    "    p = re.compile('<.*?>')#Find this kind of pattern\n",
    "#     print(p.findall(data))#List of strings which follow the regex pattern\n",
    "    return p.sub('',data) #Substitute nothing at the place of strings which matched the patterns\n",
    "\n",
    "striphtml('<a href=\"foo.com\" class=\"bar\">I Want This <b>text!</b></a><>')"
   ]
  },
  {
   "cell_type": "code",
   "execution_count": 8,
   "metadata": {},
   "outputs": [
    {
     "data": {
      "text/plain": [
       "'fsd sdfsdfdsvv'"
      ]
     },
     "execution_count": 8,
     "metadata": {},
     "output_type": "execute_result"
    }
   ],
   "source": [
    "def strippunc(data):\n",
    "    p = re.compile(r'[?|!|\\'|\"|#|.|,|)|(|\\|/|~|%|*]')\n",
    "    return p.sub('',data)\n",
    "strippunc(\"fsd*?~,,,( sdfsdfdsvv)#\")"
   ]
  },
  {
   "cell_type": "code",
   "execution_count": 9,
   "metadata": {},
   "outputs": [
    {
     "name": "stdout",
     "output_type": "stream",
     "text": [
      "['i', 'me', 'my', 'myself', 'we', 'our', 'ours', 'ourselves', 'you', \"you're\", \"you've\", \"you'll\", \"you'd\", 'your', 'yours', 'yourself', 'yourselves', 'he', 'him', 'his', 'himself', 'she', \"she's\", 'her', 'hers', 'herself', 'it', \"it's\", 'its', 'itself', 'they', 'them', 'their', 'theirs', 'themselves', 'what', 'which', 'who', 'whom', 'this', 'that', \"that'll\", 'these', 'those', 'am', 'is', 'are', 'was', 'were', 'be', 'been', 'being', 'have', 'has', 'had', 'having', 'do', 'does', 'did', 'doing', 'a', 'an', 'the', 'and', 'but', 'if', 'or', 'because', 'as', 'until', 'while', 'of', 'at', 'by', 'for', 'with', 'about', 'between', 'into', 'through', 'during', 'before', 'after', 'above', 'below', 'to', 'from', 'up', 'down', 'in', 'out', 'on', 'off', 'over', 'under', 'again', 'further', 'then', 'once', 'here', 'there', 'when', 'where', 'why', 'how', 'all', 'any', 'both', 'each', 'few', 'more', 'most', 'other', 'some', 'such', 'no', 'nor', 'only', 'own', 'same', 'so', 'than', 'too', 'very', 's', 't', 'can', 'will', 'just', 'should', \"should've\", 'now', 'd', 'll', 'm', 'o', 're', 've', 'y', 'ma', 'shan', \"shan't\"]\n"
     ]
    }
   ],
   "source": [
    "from nltk.corpus import stopwords\n",
    "from nltk.stem import PorterStemmer\n",
    "from nltk.stem.wordnet import WordNetLemmatizer\n",
    "\n",
    "stop = stopwords.words('english') #All the stopwords in English language\n",
    "#excluding some useful words from stop words list as we doing sentiment analysis\n",
    "excluding = ['against','not','don', \"don't\",'ain', 'aren', \"aren't\", 'couldn', \"couldn't\", 'didn', \"didn't\",\n",
    "             'doesn', \"doesn't\", 'hadn', \"hadn't\", 'hasn', \"hasn't\", 'haven', \"haven't\", 'isn', \"isn't\", \n",
    "             'mightn', \"mightn't\", 'mustn', \"mustn't\", 'needn', \"needn't\",'shouldn', \"shouldn't\", 'wasn',\n",
    "             \"wasn't\", 'weren', \"weren't\", 'won', \"won't\", 'wouldn', \"wouldn't\"]\n",
    "stop = [words for words in stop if words not in excluding]\n",
    "print(stop)"
   ]
  },
  {
   "cell_type": "code",
   "execution_count": 10,
   "metadata": {},
   "outputs": [
    {
     "name": "stdout",
     "output_type": "stream",
     "text": [
      "Stem/Root words of the some of the words using SnowBall Stemmer:\n",
      "tasti\n",
      "tast\n",
      "tastiest\n",
      "delici\n",
      "amaz\n",
      "amaz\n",
      "initi\n",
      "fabul\n",
      "honda c\n",
      "unpleas\n"
     ]
    }
   ],
   "source": [
    "from nltk.stem import SnowballStemmer\n",
    "snow = SnowballStemmer('english') #initialising the snowball stemmer\n",
    "print(\"Stem/Root words of the some of the words using SnowBall Stemmer:\")\n",
    "print(snow.stem('tasty'))\n",
    "print(snow.stem('tasteful'))\n",
    "print(snow.stem('tastiest'))\n",
    "print(snow.stem('delicious'))\n",
    "print(snow.stem('amazing'))\n",
    "print(snow.stem('amaze'))\n",
    "print(snow.stem('initialize'))\n",
    "print(snow.stem('fabulous'))\n",
    "print(snow.stem('Honda City'))\n",
    "print(snow.stem('unpleasant'\n",
    "\n",
    "))"
   ]
  },
  {
   "cell_type": "code",
   "execution_count": 11,
   "metadata": {},
   "outputs": [
    {
     "name": "stdout",
     "output_type": "stream",
     "text": [
      "Beetlejuice is a well written movie ..... everything about it is excellent! From the acting to the special effects you will be delighted you chose to view this movie.\n",
      "['Beetlejuice', 'is', 'a', 'well', 'written', 'movie', 'everything', 'about', 'it', 'is', 'excellent', 'From', 'the', 'acting', 'to', 'the', 'special', 'effects', 'you', 'will', 'be', 'delighted', 'you', 'chose', 'to', 'view', 'this', 'movie']\n",
      "================================> Beetlejuice\n",
      "Selected: Stem Word-> b'beetlejuic'\n",
      "================================> is\n",
      "Eliminated as it is a numerical value or character of lenght less than 2\n",
      "================================> a\n",
      "Eliminated as it is a numerical value or character of lenght less than 2\n",
      "================================> well\n",
      "Selected: Stem Word-> b'well'\n",
      "================================> written\n",
      "Selected: Stem Word-> b'written'\n",
      "================================> movie\n",
      "Selected: Stem Word-> b'movi'\n",
      "================================> everything\n",
      "Selected: Stem Word-> b'everyth'\n",
      "================================> about\n",
      "Eliminated as it is a stopword\n",
      "================================> it\n",
      "Eliminated as it is a numerical value or character of lenght less than 2\n",
      "================================> is\n",
      "Eliminated as it is a numerical value or character of lenght less than 2\n",
      "================================> excellent\n",
      "Selected: Stem Word-> b'excel'\n",
      "================================> From\n",
      "Eliminated as it is a stopword\n",
      "================================> the\n",
      "Eliminated as it is a stopword\n",
      "================================> acting\n",
      "Selected: Stem Word-> b'act'\n",
      "================================> to\n",
      "Eliminated as it is a numerical value or character of lenght less than 2\n",
      "================================> the\n",
      "Eliminated as it is a stopword\n",
      "================================> special\n",
      "Selected: Stem Word-> b'special'\n",
      "================================> effects\n",
      "Selected: Stem Word-> b'effect'\n",
      "================================> you\n",
      "Eliminated as it is a stopword\n",
      "================================> will\n",
      "Eliminated as it is a stopword\n",
      "================================> be\n",
      "Eliminated as it is a numerical value or character of lenght less than 2\n",
      "================================> delighted\n",
      "Selected: Stem Word-> b'delight'\n",
      "================================> you\n",
      "Eliminated as it is a stopword\n",
      "================================> chose\n",
      "Selected: Stem Word-> b'chose'\n",
      "================================> to\n",
      "Eliminated as it is a numerical value or character of lenght less than 2\n",
      "================================> view\n",
      "Selected: Stem Word-> b'view'\n",
      "================================> this\n",
      "Eliminated as it is a stopword\n",
      "================================> movie\n",
      "Selected: Stem Word-> b'movi'\n",
      "***********************************************************************\n",
      "Finally selected words from the review:\n",
      " [b'beetlejuic well written movi everyth excel act special effect delight chose view movi']\n"
     ]
    }
   ],
   "source": [
    "str1=' '\n",
    "final_string=[]\n",
    "all_positive_words=[] # store words from +ve reviews here\n",
    "all_negative_words=[] # store words from -ve reviews here.\n",
    "s=''\n",
    "for sent in final['Text'][2:3].values: #Running only for 2nd review\n",
    "    filtered_sentence=[]\n",
    "    print(sent) #Each review\n",
    "    sent=striphtml(sent)# remove HTMl tags\n",
    "    sent=strippunc(sent)# remove Punctuation Symbols\n",
    "    print(sent.split())\n",
    "    for w in sent.split():\n",
    "        print(\"================================>\",w)\n",
    "        if((w.isalpha()) and (len(w)>2)):#If it is a numerical value or character of lenght less than 2    \n",
    "            if(w.lower() not in stop):# If it is a stopword\n",
    "                s=(snow.stem(w.lower())).encode('utf8') #Stemming the word using SnowBall Stemmer\n",
    "                print(\"Selected: Stem Word->\",s)\n",
    "                filtered_sentence.append(s)\n",
    "            else:\n",
    "                print(\"Eliminated as it is a stopword\")\n",
    "                continue\n",
    "        else:\n",
    "            print(\"Eliminated as it is a numerical value or character of lenght less than 2\")\n",
    "            continue \n",
    "#     print(filtered_sentence)\n",
    "    str1 = b\" \".join(filtered_sentence) #final string of cleaned words\n",
    "    \n",
    "    final_string.append(str1)\n",
    "    print(\"***********************************************************************\")\n",
    "    print(\"Finally selected words from the review:\\n\",final_string)"
   ]
  },
  {
   "cell_type": "code",
   "execution_count": 12,
   "metadata": {},
   "outputs": [
    {
     "name": "stdout",
     "output_type": "stream",
     "text": [
      "Wall time: 24min 1s\n"
     ]
    }
   ],
   "source": [
    "%%time\n",
    "# Code takes a while to run as it needs to run on around 500k sentences.\n",
    "i=0\n",
    "str1=' '\n",
    "final_string=[]\n",
    "all_positive_words=[] # store words from +ve reviews here\n",
    "all_negative_words=[] # store words from -ve reviews here.\n",
    "s=''\n",
    "for sent in final['Text'].values:\n",
    "    filtered_sentence=[]\n",
    "#     print(sent) #Each review\n",
    "    sent=striphtml(sent)# remove HTMl tags\n",
    "    sent=strippunc(sent)# remove Punctuation Symbols\n",
    "#     print(sent.split())\n",
    "    for w in sent.split():\n",
    "#         print(\"================================>\",w)\n",
    "        if((w.isalpha()) and (len(w)>2)):#If it is a numerical value or character of lenght less than 2    \n",
    "            if(w.lower() not in stop):# If it is a stopword\n",
    "                s=(snow.stem(w.lower())).encode('utf8') #Stemming the word using SnowBall Stemmer\n",
    "                                        #encoding as byte-string/utf-8\n",
    "#                 print(\"Selected: Stem Word->\",s)\n",
    "                filtered_sentence.append(s)\n",
    "                if (final['Score'].values)[i] == 'Positive': \n",
    "                    all_positive_words.append(s) #list of all words used to describe positive reviews\n",
    "                if(final['Score'].values)[i] == 'Negative':\n",
    "                    all_negative_words.append(s) #list of all words used to describe negative reviews reviews\n",
    "            else:\n",
    "#                 print(\"Eliminated as it is a stopword\")\n",
    "                continue\n",
    "        else:\n",
    "#             print(\"Eliminated as it is a numerical value or character of lenght less than 2\")\n",
    "            continue \n",
    "#     print(filtered_sentence)\n",
    "    str1 = b\" \".join(filtered_sentence) #final string of cleaned words\n",
    "            #encoding as byte-string/utf-8\n",
    "    \n",
    "    final_string.append(str1)\n",
    "#     print(\"***********************************************************************\")\n",
    "#     print(\"Finally selected words from the review:\\n\",final_string)\n",
    "    i+=1"
   ]
  },
  {
   "cell_type": "code",
   "execution_count": 13,
   "metadata": {},
   "outputs": [
    {
     "name": "stdout",
     "output_type": "stream",
     "text": [
      "Wall time: 2min 41s\n"
     ]
    }
   ],
   "source": [
    "%%time\n",
    "# Code takes a while to run as it needs to run on around 500k sentences.\n",
    "i=0\n",
    "str1=' '\n",
    "final_string_nostem=[]\n",
    "s=''\n",
    "for sent in final['Text'].values:\n",
    "    filtered_sentence=[]\n",
    "    sent=striphtml(sent)# remove HTMl tags\n",
    "    sent=strippunc(sent)# remove Punctuation Symbols\n",
    "    for w in sent.split():\n",
    "        if((w.isalpha()) and (len(w)>2)):#If it is a numerical value or character of lenght less than 2    \n",
    "            if(w.lower() not in stop):# If it is a stopword\n",
    "                s=w.lower().encode('utf8') #encoding as byte-string/utf-8\n",
    "            else:\n",
    "                continue\n",
    "        else:\n",
    "            continue \n",
    "    str1 = b\" \".join(filtered_sentence)     \n",
    "    final_string_nostem.append(str1)\n",
    "    i+=1"
   ]
  },
  {
   "cell_type": "code",
   "execution_count": 14,
   "metadata": {},
   "outputs": [
    {
     "data": {
      "text/html": [
       "<div>\n",
       "<style scoped>\n",
       "    .dataframe tbody tr th:only-of-type {\n",
       "        vertical-align: middle;\n",
       "    }\n",
       "\n",
       "    .dataframe tbody tr th {\n",
       "        vertical-align: top;\n",
       "    }\n",
       "\n",
       "    .dataframe thead th {\n",
       "        text-align: right;\n",
       "    }\n",
       "</style>\n",
       "<table border=\"1\" class=\"dataframe\">\n",
       "  <thead>\n",
       "    <tr style=\"text-align: right;\">\n",
       "      <th></th>\n",
       "      <th>index</th>\n",
       "      <th>Id</th>\n",
       "      <th>ProductId</th>\n",
       "      <th>UserId</th>\n",
       "      <th>ProfileName</th>\n",
       "      <th>HelpfulnessNumerator</th>\n",
       "      <th>HelpfulnessDenominator</th>\n",
       "      <th>Score</th>\n",
       "      <th>Time</th>\n",
       "      <th>Summary</th>\n",
       "      <th>Text</th>\n",
       "      <th>CleanedText</th>\n",
       "      <th>CleanedText_NoStem</th>\n",
       "    </tr>\n",
       "  </thead>\n",
       "  <tbody>\n",
       "    <tr>\n",
       "      <th>0</th>\n",
       "      <td>138706</td>\n",
       "      <td>150524</td>\n",
       "      <td>0006641040</td>\n",
       "      <td>ACITT7DI6IDDL</td>\n",
       "      <td>shari zychinski</td>\n",
       "      <td>0</td>\n",
       "      <td>0</td>\n",
       "      <td>1</td>\n",
       "      <td>939340800</td>\n",
       "      <td>EVERY book is educational</td>\n",
       "      <td>this witty little book makes my son laugh at l...</td>\n",
       "      <td>b'witti littl book make son laugh loud recit c...</td>\n",
       "      <td>b''</td>\n",
       "    </tr>\n",
       "    <tr>\n",
       "      <th>1</th>\n",
       "      <td>138683</td>\n",
       "      <td>150501</td>\n",
       "      <td>0006641040</td>\n",
       "      <td>AJ46FKXOVC7NR</td>\n",
       "      <td>Nicholas A Mesiano</td>\n",
       "      <td>2</td>\n",
       "      <td>2</td>\n",
       "      <td>1</td>\n",
       "      <td>940809600</td>\n",
       "      <td>This whole series is great way to spend time w...</td>\n",
       "      <td>I can remember seeing the show when it aired o...</td>\n",
       "      <td>b'rememb see show air televis year ago child s...</td>\n",
       "      <td>b''</td>\n",
       "    </tr>\n",
       "    <tr>\n",
       "      <th>2</th>\n",
       "      <td>417839</td>\n",
       "      <td>451856</td>\n",
       "      <td>B00004CXX9</td>\n",
       "      <td>AIUWLEQ1ADEG5</td>\n",
       "      <td>Elizabeth Medina</td>\n",
       "      <td>0</td>\n",
       "      <td>0</td>\n",
       "      <td>1</td>\n",
       "      <td>944092800</td>\n",
       "      <td>Entertainingl Funny!</td>\n",
       "      <td>Beetlejuice is a well written movie ..... ever...</td>\n",
       "      <td>b'beetlejuic well written movi everyth excel a...</td>\n",
       "      <td>b''</td>\n",
       "    </tr>\n",
       "  </tbody>\n",
       "</table>\n",
       "</div>"
      ],
      "text/plain": [
       "    index      Id   ProductId         UserId         ProfileName  \\\n",
       "0  138706  150524  0006641040  ACITT7DI6IDDL     shari zychinski   \n",
       "1  138683  150501  0006641040  AJ46FKXOVC7NR  Nicholas A Mesiano   \n",
       "2  417839  451856  B00004CXX9  AIUWLEQ1ADEG5    Elizabeth Medina   \n",
       "\n",
       "   HelpfulnessNumerator  HelpfulnessDenominator  Score       Time  \\\n",
       "0                     0                       0      1  939340800   \n",
       "1                     2                       2      1  940809600   \n",
       "2                     0                       0      1  944092800   \n",
       "\n",
       "                                             Summary  \\\n",
       "0                          EVERY book is educational   \n",
       "1  This whole series is great way to spend time w...   \n",
       "2                               Entertainingl Funny!   \n",
       "\n",
       "                                                Text  \\\n",
       "0  this witty little book makes my son laugh at l...   \n",
       "1  I can remember seeing the show when it aired o...   \n",
       "2  Beetlejuice is a well written movie ..... ever...   \n",
       "\n",
       "                                         CleanedText CleanedText_NoStem  \n",
       "0  b'witti littl book make son laugh loud recit c...                b''  \n",
       "1  b'rememb see show air televis year ago child s...                b''  \n",
       "2  b'beetlejuic well written movi everyth excel a...                b''  "
      ]
     },
     "execution_count": 14,
     "metadata": {},
     "output_type": "execute_result"
    }
   ],
   "source": [
    "#Adding a column of CleanedText which displays the data after pre-processing of the review \n",
    "final['CleanedText']=final_string\n",
    "final['CleanedText_NoStem']=final_string_nostem\n",
    "final.head(3)"
   ]
  },
  {
   "cell_type": "code",
   "execution_count": null,
   "metadata": {},
   "outputs": [],
   "source": []
  },
  {
   "cell_type": "code",
   "execution_count": 15,
   "metadata": {},
   "outputs": [],
   "source": [
    "final = final.sample(100000)"
   ]
  },
  {
   "cell_type": "code",
   "execution_count": 16,
   "metadata": {},
   "outputs": [
    {
     "data": {
      "text/html": [
       "<div>\n",
       "<style scoped>\n",
       "    .dataframe tbody tr th:only-of-type {\n",
       "        vertical-align: middle;\n",
       "    }\n",
       "\n",
       "    .dataframe tbody tr th {\n",
       "        vertical-align: top;\n",
       "    }\n",
       "\n",
       "    .dataframe thead th {\n",
       "        text-align: right;\n",
       "    }\n",
       "</style>\n",
       "<table border=\"1\" class=\"dataframe\">\n",
       "  <thead>\n",
       "    <tr style=\"text-align: right;\">\n",
       "      <th></th>\n",
       "      <th>index</th>\n",
       "      <th>Id</th>\n",
       "      <th>ProductId</th>\n",
       "      <th>UserId</th>\n",
       "      <th>ProfileName</th>\n",
       "      <th>HelpfulnessNumerator</th>\n",
       "      <th>HelpfulnessDenominator</th>\n",
       "      <th>Score</th>\n",
       "      <th>Time</th>\n",
       "      <th>Summary</th>\n",
       "      <th>Text</th>\n",
       "      <th>CleanedText</th>\n",
       "      <th>CleanedText_NoStem</th>\n",
       "    </tr>\n",
       "  </thead>\n",
       "  <tbody>\n",
       "    <tr>\n",
       "      <th>2</th>\n",
       "      <td>417839</td>\n",
       "      <td>451856</td>\n",
       "      <td>B00004CXX9</td>\n",
       "      <td>AIUWLEQ1ADEG5</td>\n",
       "      <td>Elizabeth Medina</td>\n",
       "      <td>0</td>\n",
       "      <td>0</td>\n",
       "      <td>1</td>\n",
       "      <td>944092800</td>\n",
       "      <td>Entertainingl Funny!</td>\n",
       "      <td>Beetlejuice is a well written movie ..... ever...</td>\n",
       "      <td>b'beetlejuic well written movi everyth excel a...</td>\n",
       "      <td>b''</td>\n",
       "    </tr>\n",
       "    <tr>\n",
       "      <th>14</th>\n",
       "      <td>138001</td>\n",
       "      <td>149770</td>\n",
       "      <td>B00004S1C5</td>\n",
       "      <td>A1KXONFPU2XQ5K</td>\n",
       "      <td>Stephanie Manley</td>\n",
       "      <td>8</td>\n",
       "      <td>8</td>\n",
       "      <td>1</td>\n",
       "      <td>965779200</td>\n",
       "      <td>Very easy to use</td>\n",
       "      <td>This are so much easier to use than the Wilson...</td>\n",
       "      <td>b'much easier use wilson past color color vibr...</td>\n",
       "      <td>b''</td>\n",
       "    </tr>\n",
       "    <tr>\n",
       "      <th>16</th>\n",
       "      <td>346115</td>\n",
       "      <td>374421</td>\n",
       "      <td>B00004CI84</td>\n",
       "      <td>A1FJOY14X3MUHE</td>\n",
       "      <td>Justin Howard</td>\n",
       "      <td>2</td>\n",
       "      <td>2</td>\n",
       "      <td>1</td>\n",
       "      <td>966297600</td>\n",
       "      <td>A fresh, original film from master storyteller...</td>\n",
       "      <td>This is such a great film, I don't even know h...</td>\n",
       "      <td>b'great film dont even know sum first complet ...</td>\n",
       "      <td>b''</td>\n",
       "    </tr>\n",
       "    <tr>\n",
       "      <th>17</th>\n",
       "      <td>346102</td>\n",
       "      <td>374408</td>\n",
       "      <td>B00004CI84</td>\n",
       "      <td>A1GB1Q193DNFGR</td>\n",
       "      <td>Bruce Lee Pullen</td>\n",
       "      <td>5</td>\n",
       "      <td>5</td>\n",
       "      <td>1</td>\n",
       "      <td>970531200</td>\n",
       "      <td>Fabulous Comedic Fanasy Directed by a Master</td>\n",
       "      <td>Beetlejuice is an awe-inspiring wonderfully am...</td>\n",
       "      <td>b'beetlejuic wonder amus comed romp explor inc...</td>\n",
       "      <td>b''</td>\n",
       "    </tr>\n",
       "    <tr>\n",
       "      <th>20</th>\n",
       "      <td>346054</td>\n",
       "      <td>374358</td>\n",
       "      <td>B00004CI84</td>\n",
       "      <td>A1HWMNSQF14MP8</td>\n",
       "      <td>will@socialaw.com</td>\n",
       "      <td>1</td>\n",
       "      <td>2</td>\n",
       "      <td>1</td>\n",
       "      <td>978134400</td>\n",
       "      <td>A Afterlife Success</td>\n",
       "      <td>Many movies, have dealt with the figure of dea...</td>\n",
       "      <td>b'mani movi dealt figur death dead good angel ...</td>\n",
       "      <td>b''</td>\n",
       "    </tr>\n",
       "    <tr>\n",
       "      <th>21</th>\n",
       "      <td>138018</td>\n",
       "      <td>149790</td>\n",
       "      <td>B00004S1C6</td>\n",
       "      <td>A1IU7S4HCK1XK0</td>\n",
       "      <td>Joanna Daneman</td>\n",
       "      <td>25</td>\n",
       "      <td>27</td>\n",
       "      <td>1</td>\n",
       "      <td>982800000</td>\n",
       "      <td>Make your own Martha Stewart style cakes and c...</td>\n",
       "      <td>I don't know why anyone would ever use those l...</td>\n",
       "      <td>b'dont know anyon would ever use littl liquid ...</td>\n",
       "      <td>b''</td>\n",
       "    </tr>\n",
       "    <tr>\n",
       "      <th>29</th>\n",
       "      <td>346032</td>\n",
       "      <td>374334</td>\n",
       "      <td>B00004CI84</td>\n",
       "      <td>A2HIZRVOKXKZ52</td>\n",
       "      <td>KAY N. FOWLER</td>\n",
       "      <td>0</td>\n",
       "      <td>0</td>\n",
       "      <td>1</td>\n",
       "      <td>1012780800</td>\n",
       "      <td>Beetlejuice - Great Fun for Everyone!</td>\n",
       "      <td>When vacationing Adam and Barbara Maitland mee...</td>\n",
       "      <td>b'vacat adam barbara maitland meet demis kill ...</td>\n",
       "      <td>b''</td>\n",
       "    </tr>\n",
       "    <tr>\n",
       "      <th>32</th>\n",
       "      <td>346030</td>\n",
       "      <td>374332</td>\n",
       "      <td>B00004CI84</td>\n",
       "      <td>AEPJYN0NAX9N4</td>\n",
       "      <td>Jody L. Schoth</td>\n",
       "      <td>0</td>\n",
       "      <td>0</td>\n",
       "      <td>1</td>\n",
       "      <td>1014163200</td>\n",
       "      <td>Excellent... Hilarious</td>\n",
       "      <td>Just hilarious... my favorite part is the dini...</td>\n",
       "      <td>b'hilari favorit part dine room scene sing dan...</td>\n",
       "      <td>b''</td>\n",
       "    </tr>\n",
       "    <tr>\n",
       "      <th>34</th>\n",
       "      <td>346113</td>\n",
       "      <td>374419</td>\n",
       "      <td>B00004CI84</td>\n",
       "      <td>ADIDQRLLR4KBQ</td>\n",
       "      <td>\"paradise_found\"</td>\n",
       "      <td>2</td>\n",
       "      <td>2</td>\n",
       "      <td>1</td>\n",
       "      <td>1015545600</td>\n",
       "      <td>Because My Middle Name is &amp;quot;Weird&amp;quot;</td>\n",
       "      <td>Set in a small New England town, Tim Burton's ...</td>\n",
       "      <td>b'set small new england town tim burton master...</td>\n",
       "      <td>b''</td>\n",
       "    </tr>\n",
       "    <tr>\n",
       "      <th>41</th>\n",
       "      <td>346053</td>\n",
       "      <td>374357</td>\n",
       "      <td>B00004CI84</td>\n",
       "      <td>A31RM5QU797HPJ</td>\n",
       "      <td>Drez</td>\n",
       "      <td>1</td>\n",
       "      <td>2</td>\n",
       "      <td>1</td>\n",
       "      <td>1024531200</td>\n",
       "      <td>&amp;quot;I'm the ghost with the most, babe&amp;quot;</td>\n",
       "      <td>Simply put: Beetlejuice is the funniest comedy...</td>\n",
       "      <td>b'simpli beetlejuic funniest comedi kind sinc ...</td>\n",
       "      <td>b''</td>\n",
       "    </tr>\n",
       "  </tbody>\n",
       "</table>\n",
       "</div>"
      ],
      "text/plain": [
       "     index      Id   ProductId          UserId        ProfileName  \\\n",
       "2   417839  451856  B00004CXX9   AIUWLEQ1ADEG5   Elizabeth Medina   \n",
       "14  138001  149770  B00004S1C5  A1KXONFPU2XQ5K   Stephanie Manley   \n",
       "16  346115  374421  B00004CI84  A1FJOY14X3MUHE      Justin Howard   \n",
       "17  346102  374408  B00004CI84  A1GB1Q193DNFGR   Bruce Lee Pullen   \n",
       "20  346054  374358  B00004CI84  A1HWMNSQF14MP8  will@socialaw.com   \n",
       "21  138018  149790  B00004S1C6  A1IU7S4HCK1XK0     Joanna Daneman   \n",
       "29  346032  374334  B00004CI84  A2HIZRVOKXKZ52      KAY N. FOWLER   \n",
       "32  346030  374332  B00004CI84   AEPJYN0NAX9N4     Jody L. Schoth   \n",
       "34  346113  374419  B00004CI84   ADIDQRLLR4KBQ   \"paradise_found\"   \n",
       "41  346053  374357  B00004CI84  A31RM5QU797HPJ               Drez   \n",
       "\n",
       "    HelpfulnessNumerator  HelpfulnessDenominator  Score        Time  \\\n",
       "2                      0                       0      1   944092800   \n",
       "14                     8                       8      1   965779200   \n",
       "16                     2                       2      1   966297600   \n",
       "17                     5                       5      1   970531200   \n",
       "20                     1                       2      1   978134400   \n",
       "21                    25                      27      1   982800000   \n",
       "29                     0                       0      1  1012780800   \n",
       "32                     0                       0      1  1014163200   \n",
       "34                     2                       2      1  1015545600   \n",
       "41                     1                       2      1  1024531200   \n",
       "\n",
       "                                              Summary  \\\n",
       "2                                Entertainingl Funny!   \n",
       "14                                   Very easy to use   \n",
       "16  A fresh, original film from master storyteller...   \n",
       "17       Fabulous Comedic Fanasy Directed by a Master   \n",
       "20                                A Afterlife Success   \n",
       "21  Make your own Martha Stewart style cakes and c...   \n",
       "29              Beetlejuice - Great Fun for Everyone!   \n",
       "32                             Excellent... Hilarious   \n",
       "34        Because My Middle Name is &quot;Weird&quot;   \n",
       "41      &quot;I'm the ghost with the most, babe&quot;   \n",
       "\n",
       "                                                 Text  \\\n",
       "2   Beetlejuice is a well written movie ..... ever...   \n",
       "14  This are so much easier to use than the Wilson...   \n",
       "16  This is such a great film, I don't even know h...   \n",
       "17  Beetlejuice is an awe-inspiring wonderfully am...   \n",
       "20  Many movies, have dealt with the figure of dea...   \n",
       "21  I don't know why anyone would ever use those l...   \n",
       "29  When vacationing Adam and Barbara Maitland mee...   \n",
       "32  Just hilarious... my favorite part is the dini...   \n",
       "34  Set in a small New England town, Tim Burton's ...   \n",
       "41  Simply put: Beetlejuice is the funniest comedy...   \n",
       "\n",
       "                                          CleanedText CleanedText_NoStem  \n",
       "2   b'beetlejuic well written movi everyth excel a...                b''  \n",
       "14  b'much easier use wilson past color color vibr...                b''  \n",
       "16  b'great film dont even know sum first complet ...                b''  \n",
       "17  b'beetlejuic wonder amus comed romp explor inc...                b''  \n",
       "20  b'mani movi dealt figur death dead good angel ...                b''  \n",
       "21  b'dont know anyon would ever use littl liquid ...                b''  \n",
       "29  b'vacat adam barbara maitland meet demis kill ...                b''  \n",
       "32  b'hilari favorit part dine room scene sing dan...                b''  \n",
       "34  b'set small new england town tim burton master...                b''  \n",
       "41  b'simpli beetlejuic funniest comedi kind sinc ...                b''  "
      ]
     },
     "execution_count": 16,
     "metadata": {},
     "output_type": "execute_result"
    }
   ],
   "source": [
    "final.sort_values('Time',inplace=True) \n",
    "final.head(10)"
   ]
  },
  {
   "cell_type": "code",
   "execution_count": 17,
   "metadata": {},
   "outputs": [],
   "source": [
    "savetofile(final,\"sample_lr\")"
   ]
  },
  {
   "cell_type": "code",
   "execution_count": 18,
   "metadata": {},
   "outputs": [],
   "source": [
    "final = openfromfile(\"sample_lr\")"
   ]
  },
  {
   "cell_type": "code",
   "execution_count": null,
   "metadata": {},
   "outputs": [],
   "source": []
  },
  {
   "cell_type": "markdown",
   "metadata": {
    "colab_type": "text",
    "id": "hXA02Hw0MQv_"
   },
   "source": [
    "# [7.2.2] Bag of Words (BoW)"
   ]
  },
  {
   "cell_type": "code",
   "execution_count": 19,
   "metadata": {
    "colab": {},
    "colab_type": "code",
    "id": "giCwNM_rMQwA"
   },
   "outputs": [
    {
     "name": "stdout",
     "output_type": "stream",
     "text": [
      "Train Data Size:  (70000, 67222)\n",
      "Test Data Size:  (30000, 67222)\n"
     ]
    }
   ],
   "source": [
    "from sklearn.feature_extraction.text import CountVectorizer\n",
    "from sklearn.model_selection import train_test_split\n",
    "from sklearn import preprocessing\n",
    "\n",
    "#Breaking into Train and test\n",
    "X_train, X_test, y_train, y_test = train_test_split(final['CleanedText'].values,final['Score'].values,test_size=0.3,shuffle=False)\n",
    "\n",
    "#Text -> Uni gram Vectors\n",
    "uni_gram = CountVectorizer() \n",
    "X_train = uni_gram.fit_transform(X_train)\n",
    "#Normalize Data\n",
    "X_train = preprocessing.normalize(X_train)\n",
    "print(\"Train Data Size: \",X_train.shape)\n",
    "X_test = uni_gram.transform(X_test)\n",
    "#Normalize Data\n",
    "X_test = preprocessing.normalize(X_test)\n",
    "print(\"Test Data Size: \",X_test.shape)"
   ]
  },
  {
   "cell_type": "code",
   "execution_count": 20,
   "metadata": {},
   "outputs": [
    {
     "name": "stdout",
     "output_type": "stream",
     "text": [
      "(6370, 67222) (6363, 67222)\n",
      "(12733, 67222) (6363, 67222)\n",
      "(19096, 67222) (6363, 67222)\n",
      "(25459, 67222) (6363, 67222)\n",
      "(31822, 67222) (6363, 67222)\n",
      "(38185, 67222) (6363, 67222)\n",
      "(44548, 67222) (6363, 67222)\n",
      "(50911, 67222) (6363, 67222)\n",
      "(57274, 67222) (6363, 67222)\n",
      "(63637, 67222) (6363, 67222)\n"
     ]
    }
   ],
   "source": [
    "#To show how Time Series Split splits the data\n",
    "from sklearn.model_selection import TimeSeriesSplit\n",
    "tscv = TimeSeriesSplit(n_splits=10)\n",
    "for train, cv in tscv.split(X_train):\n",
    "#     print(\"%s %s\" % (train, cv))\n",
    "    print(X_train[train].shape, X_train[cv].shape)"
   ]
  },
  {
   "cell_type": "raw",
   "metadata": {},
   "source": [
    "Finding the best \"C\" or \"1/lambda\" and regularizer [ L1 or L2 ] using Forward Chaining Cross Validation or Time Series CV"
   ]
  },
  {
   "cell_type": "code",
   "execution_count": 21,
   "metadata": {},
   "outputs": [
    {
     "name": "stdout",
     "output_type": "stream",
     "text": [
      "Wall time: 0 ns\n",
      "Fitting 10 folds for each of 30 candidates, totalling 300 fits\n"
     ]
    },
    {
     "name": "stderr",
     "output_type": "stream",
     "text": [
      "[Parallel(n_jobs=1)]: Done 300 out of 300 | elapsed: 15.7min finished\n"
     ]
    },
    {
     "name": "stdout",
     "output_type": "stream",
     "text": [
      "Best HyperParameter:  {'C': 10, 'penalty': 'l2'}\n",
      "Best Accuracy: 91.48%\n"
     ]
    }
   ],
   "source": [
    "%time\n",
    "from sklearn.model_selection import GridSearchCV\n",
    "from sklearn.linear_model import LogisticRegression\n",
    "\n",
    "clf = LogisticRegression()\n",
    "#params we need to try on classifier\n",
    "param_grid = {'C':[1000,500,100,50,10,5,1,0.5,0.1,0.05,0.01,0.005,0.001,0.0005,0.0001],\n",
    "             'penalty':['l1','l2']} \n",
    "tscv = TimeSeriesSplit(n_splits=10) #For time based splitting\n",
    "gsv = GridSearchCV(clf,param_grid,cv=tscv,verbose=1)\n",
    "gsv.fit(X_train,y_train)\n",
    "savetofile(gsv,\"Log Reg/gsv_uni\")\n",
    "print(\"Best HyperParameter: \",gsv.best_params_)\n",
    "print(\"Best Accuracy: %.2f%%\"%(gsv.best_score_*100))"
   ]
  },
  {
   "cell_type": "code",
   "execution_count": 22,
   "metadata": {},
   "outputs": [
    {
     "data": {
      "image/png": "[encoded data removed]",
      "text/plain": [
       "<Figure size 432x288 with 1 Axes>"
      ]
     },
     "metadata": {
      "needs_background": "light"
     },
     "output_type": "display_data"
    }
   ],
   "source": [
    "def plot_error_vs_c(gsv):\n",
    "    x1=[]\n",
    "    y1=[]\n",
    "    x2=[]\n",
    "    y2=[]\n",
    "    for a in gsv.grid_scores_:\n",
    "        if (a[0]['penalty']) == 'l1':\n",
    "            y1.append(1-a[1])\n",
    "            x1.append(a[0]['C'])\n",
    "        else:\n",
    "            y2.append(1-a[1])\n",
    "            x2.append(a[0]['C'])\n",
    "    plt.xlim(-10,1010)\n",
    "    plt.ylim(0,0.2)\n",
    "    plt.xlabel(\"C\",fontsize=15)\n",
    "    plt.ylabel(\"Misclassification Error\")\n",
    "    plt.title('Misclassification Error v/s C')\n",
    "    plt.plot(x1,y1,'b',label=\"L1\")\n",
    "    plt.plot(x2,y2,'r',label=\"L2\")\n",
    "    plt.legend()\n",
    "    plt.show()\n",
    "gsv = openfromfile(\"Log Reg/gsv_uni\")\n",
    "plot_error_vs_c(gsv)"
   ]
  },
  {
   "cell_type": "code",
   "execution_count": 23,
   "metadata": {},
   "outputs": [
    {
     "name": "stdout",
     "output_type": "stream",
     "text": [
      "Accuracy on test set: 91.520%\n",
      "Precision on test set: 0.932\n",
      "Recall on test set: 0.968\n",
      "F1-Score on test set: 0.950\n",
      "Non Zero weights: 67222\n",
      "Confusion Matrix of test set:\n",
      " [ [TN  FP]\n",
      " [FN TP] ]\n",
      "\n"
     ]
    },
    {
     "data": {
      "text/plain": [
       "<matplotlib.axes._subplots.AxesSubplot at 0x238844305f8>"
      ]
     },
     "execution_count": 23,
     "metadata": {},
     "output_type": "execute_result"
    },
    {
     "data": {
      "image/png": "[encoded data removed]",
      "text/plain": [
       "<Figure size 432x288 with 2 Axes>"
      ]
     },
     "metadata": {},
     "output_type": "display_data"
    }
   ],
   "source": [
    "from sklearn.metrics import accuracy_score\n",
    "from sklearn.metrics import confusion_matrix\n",
    "from sklearn.metrics import precision_score\n",
    "from sklearn.metrics import f1_score\n",
    "from sklearn.metrics import recall_score\n",
    "#Testing Accuracy on Test data\n",
    "from sklearn.linear_model import LogisticRegression\n",
    "\n",
    "clf = LogisticRegression(C= 10, penalty= 'l2')\n",
    "clf.fit(X_train,y_train)\n",
    "y_pred = clf.predict(X_test)\n",
    "print(\"Accuracy on test set: %0.3f%%\"%(accuracy_score(y_test, y_pred)*100))\n",
    "print(\"Precision on test set: %0.3f\"%(precision_score(y_test, y_pred)))\n",
    "print(\"Recall on test set: %0.3f\"%(recall_score(y_test, y_pred)))\n",
    "print(\"F1-Score on test set: %0.3f\"%(f1_score(y_test, y_pred)))\n",
    "print(\"Non Zero weights:\",np.count_nonzero(clf.coef_))\n",
    "print(\"Confusion Matrix of test set:\\n [ [TN  FP]\\n [FN TP] ]\\n\")\n",
    "df_cm = pd.DataFrame(confusion_matrix(y_test, y_pred), range(2),range(2))\n",
    "sns.set(font_scale=1.4)#for label size\n",
    "sns.heatmap(df_cm, annot=True,annot_kws={\"size\": 16}, fmt='g')"
   ]
  },
  {
   "cell_type": "markdown",
   "metadata": {},
   "source": [
    "Showing how sparsity increases as we increase lambda or decrease C when L1 Regularizer is used"
   ]
  },
  {
   "cell_type": "code",
   "execution_count": 24,
   "metadata": {},
   "outputs": [
    {
     "name": "stdout",
     "output_type": "stream",
     "text": [
      "Accuracy on test set: 85.900%\n",
      "F1-Score on test set: 0.915\n",
      "Non Zero weights: 16162\n"
     ]
    }
   ],
   "source": [
    "from sklearn.linear_model import LogisticRegression\n",
    "\n",
    "clf = LogisticRegression(C= 1000, penalty= 'l1')\n",
    "clf.fit(X_train,y_train)\n",
    "y_pred = clf.predict(X_test)\n",
    "print(\"Accuracy on test set: %0.3f%%\"%(accuracy_score(y_test, y_pred)*100))\n",
    "print(\"F1-Score on test set: %0.3f\"%(f1_score(y_test, y_pred)))\n",
    "print(\"Non Zero weights:\",np.count_nonzero(clf.coef_))"
   ]
  },
  {
   "cell_type": "code",
   "execution_count": 25,
   "metadata": {},
   "outputs": [
    {
     "name": "stdout",
     "output_type": "stream",
     "text": [
      "Accuracy on test set: 88.960%\n",
      "F1-Score on test set: 0.934\n",
      "Non Zero weights: 12716\n"
     ]
    }
   ],
   "source": [
    "from sklearn.linear_model import LogisticRegression\n",
    "\n",
    "clf = LogisticRegression(C= 100, penalty= 'l1')\n",
    "clf.fit(X_train,y_train)\n",
    "y_pred = clf.predict(X_test)\n",
    "print(\"Accuracy on test set: %0.3f%%\"%(accuracy_score(y_test, y_pred)*100))\n",
    "print(\"F1-Score on test set: %0.3f\"%(f1_score(y_test\n",
    "\n",
    ", y_pred)))\n",
    "print(\"Non Zero weights:\",np.count_nonzero(clf.coef_))"
   ]
  },
  {
   "cell_type": "code",
   "execution_count": 26,
   "metadata": {},
   "outputs": [
    {
     "name": "stdout",
     "output_type": "stream",
     "text": [
      "Accuracy on test set: 91.220%\n",
      "F1-Score on test set: 0.948\n",
      "Non Zero weights: 5901\n"
     ]
    }
   ],
   "source": [
    "from sklearn.linear_model import LogisticRegression\n",
    "\n",
    "clf = LogisticRegression(C= 10, penalty= 'l1')\n",
    "clf.fit(X_train,y_train)\n",
    "y_pred = clf.predict(X_test)\n",
    "print(\"Accuracy on test set: %0.3f%%\"%(accuracy_score(y_test, y_pred)*100))\n",
    "print(\"F1-Score on test set: %0.3f\"%(f1_score(y_test, y_pred)))\n",
    "print(\"Non Zero weights:\",np.count_nonzero(clf.coef_))"
   ]
  },
  {
   "cell_type": "code",
   "execution_count": 27,
   "metadata": {},
   "outputs": [
    {
     "name": "stdout",
     "output_type": "stream",
     "text": [
      "Accuracy on test set: 91.260%\n",
      "F1-Score on test set: 0.948\n",
      "Non Zero weights: 1043\n"
     ]
    }
   ],
   "source": [
    "from sklearn.linear_model import LogisticRegression\n",
    "\n",
    "clf = LogisticRegression(C= 1, penalty= 'l1')\n",
    "clf.fit(X_train,y_train)\n",
    "y_pred = clf.predict(X_test)\n",
    "print(\"Accuracy on test set: %0.3f%%\"%(accuracy_score(y_test, y_pred)*100))\n",
    "print(\"F1-Score on test set: %0.3f\"%(f1_score(y_test, y_pred)))\n",
    "print(\"Non Zero weights:\",np.count_nonzero(clf.coef_))"
   ]
  },
  {
   "cell_type": "code",
   "execution_count": 28,
   "metadata": {},
   "outputs": [
    {
     "name": "stdout",
     "output_type": "stream",
     "text": [
      "Accuracy on test set: 88.683%\n",
      "F1-Score on test set: 0.935\n",
      "Non Zero weights: 192\n"
     ]
    }
   ],
   "source": [
    "from sklearn.linear_model import LogisticRegression\n",
    "\n",
    "clf = LogisticRegression(C= 0.1, penalty= 'l1')\n",
    "clf.fit(X_train,y_train)\n",
    "y_pred = clf.predict(X_test)\n",
    "print(\"Accuracy on test set: %0.3f%%\"%(accuracy_score(y_test, y_pred)*100))\n",
    "print(\"F1-Score on test set: %0.3f\"%(f1_score(y_test, y_pred)))\n",
    "print(\"Non Zero weights:\",np.count_nonzero(clf.coef_))"
   ]
  },
  {
   "cell_type": "code",
   "execution_count": 29,
   "metadata": {},
   "outputs": [
    {
     "name": "stdout",
     "output_type": "stream",
     "text": [
      "Accuracy on test set: 82.990%\n",
      "F1-Score on test set: 0.907\n",
      "Non Zero weights: 12\n"
     ]
    }
   ],
   "source": [
    "from sklearn.linear_model import LogisticRegression\n",
    "\n",
    "clf = LogisticRegression(C= 0.01, penalty= 'l1')\n",
    "clf.fit(X_train,y_train)\n",
    "y_pred = clf.predict(X_test)\n",
    "print(\"Accuracy on test set: %0.3f%%\"%(accuracy_score(y_test, y_pred)*100))\n",
    "print(\"F1-Score on test set: %0.3f\"%(f1_score(y_test, y_pred)))\n",
    "print(\"Non Zero weights:\",np.count_nonzero(clf.coef_))"
   ]
  },
  {
   "cell_type": "markdown",
   "metadata": {},
   "source": [
    "\n",
    "\n",
    "We can see how drastically the sparsity increases from 13861 non-zero weights(@ C=1000) to only 12 non-zero weights(@ C=0.01) when we use L1 Regularization\n",
    "Using Randomized Search CV to find best parameters"
   ]
  },
  {
   "cell_type": "code",
   "execution_count": 30,
   "metadata": {},
   "outputs": [
    {
     "name": "stdout",
     "output_type": "stream",
     "text": [
      "Wall time: 0 ns\n",
      "Fitting 10 folds for each of 10 candidates, totalling 100 fits\n"
     ]
    },
    {
     "name": "stderr",
     "output_type": "stream",
     "text": [
      "[Parallel(n_jobs=1)]: Done 100 out of 100 | elapsed:  5.9min finished\n"
     ]
    },
    {
     "name": "stdout",
     "output_type": "stream",
     "text": [
      "Best HyperParameter:  {'penalty': 'l2', 'C': 10}\n",
      "Best Accuracy: 91.48%\n"
     ]
    }
   ],
   "source": [
    "%time\n",
    "from sklearn.model_selection import RandomizedSearchCV\n",
    "from sklearn.linear_model import LogisticRegression\n",
    "\n",
    "clf = LogisticRegression()\n",
    "#params we need to try on classifier\n",
    "param_grid = { 'C':[1000,500,100,50,10,5,1,0.5,0.1,0.05,0.01,0.005,0.001,0.0005,0.0001],\n",
    "              'penalty':['l1','l2']}\n",
    "tscv = TimeSeriesSplit(n_splits=10) #For time based splitting\n",
    "gsv = RandomizedSearchCV(clf,param_grid,cv=tscv,verbose=1)\n",
    "gsv.fit(X_train,y_train)\n",
    "savetofile(gsv,\"Log Reg/gsv_uni_r\")\n",
    "print(\"Best HyperParameter: \",gsv.best_params_)\n",
    "print(\"Best Accuracy: %.2f%%\"%(gsv.best_score_*100))"
   ]
  },
  {
   "cell_type": "code",
   "execution_count": 31,
   "metadata": {},
   "outputs": [
    {
     "name": "stdout",
     "output_type": "stream",
     "text": [
      "Accuracy on test set: 91.540%\n",
      "Precision on test set: 0.931\n",
      "Recall on test set: 0.970\n",
      "F1-Score on test set: 0.950\n",
      "Non Zero weights: 67222\n",
      "Confusion Matrix of test set:\n",
      " [ [TN  FP]\n",
      " [FN TP] ]\n",
      "\n"
     ]
    },
    {
     "data": {
      "text/plain": [
       "<matplotlib.axes._subplots.AxesSubplot at 0x238db185b00>"
      ]
     },
     "execution_count": 31,
     "metadata": {},
     "output_type": "execute_result"
    },
    {
     "data": {
      "image/png": "[encoded data removed]",
      "text/plain": [
       "<Figure size 432x288 with 2 Axes>"
      ]
     },
     "metadata": {},
     "output_type": "display_data"
    }
   ],
   "source": [
    "#Testing Accuracy on Test data\n",
    "from sklearn.linear_model import LogisticRegression\n",
    "\n",
    "clf = LogisticRegression(C= 5, penalty= 'l2')\n",
    "clf.fit(X_train,y_train)\n",
    "y_pred = clf.predict(X_test)\n",
    "print(\"Accuracy on test set: %0.3f%%\"%(accuracy_score(y_test, y_pred)*100))\n",
    "print(\"Precision on test set: %0.3f\"%(precision_score(y_test, y_pred)))\n",
    "print(\"Recall on test set: %0.3f\"%(recall_score(y_test, y_pred)))\n",
    "print(\"F1-Score on test set: %0.3f\"%(f1_score(y_test, y_pred)))\n",
    "print(\"Non Zero weights:\",np.count_nonzero(clf.coef_))\n",
    "print(\"Confusion Matrix of test set:\\n [ [TN  FP]\\n [FN TP] ]\\n\")\n",
    "df_cm = pd.DataFrame(confusion_matrix(y_test, y_pred), range(2),range(2))\n",
    "sns.set(font_scale=1.4)#for label size\n",
    "sns.heatmap(df_cm, annot=True,annot_kws={\"size\": 16}, fmt='g')"
   ]
  },
  {
   "cell_type": "code",
   "execution_count": 32,
   "metadata": {},
   "outputs": [
    {
     "data": {
      "image/png": "[encoded data removed]",
      "text/plain": [
       "<Figure size 432x288 with 1 Axes>"
      ]
     },
     "metadata": {},
     "output_type": "display_data"
    }
   ],
   "source": [
    "def plot_error_vs_c_r(gsv):\n",
    "    x1=[]\n",
    "    y1=[]\n",
    "    x2=[]\n",
    "    y2=[]\n",
    "    for a in gsv.grid_scores_:\n",
    "        if (a[0]['penalty']) == 'l1':\n",
    "            y1.append(1-a[1])\n",
    "            x1.append(a[0]['C'])\n",
    "        else:\n",
    "            y2.append(1-a[1])\n",
    "            x2.append(a[0]['C'])\n",
    "\n",
    "    ind1 = np.argsort(x1)\n",
    "    x1=np.array(x1)\n",
    "    y1=np.array(y1)\n",
    "    ind2 = np.argsort(x2)\n",
    "    x2=np.array(x2)\n",
    "    y2=np.array(y2)\n",
    "    plt.xlim(-10,1010)\n",
    "    plt.ylim(0,0.2)\n",
    "    plt.xlabel(\"C\",fontsize=15)\n",
    "    plt.ylabel(\"Misclassification Error\")\n",
    "    plt.title('Misclassification Error v/s C')\n",
    "    plt.plot(x1[ind1],y1[ind1],'b',label=\"L1\")\n",
    "    plt.plot(x2[ind2],y2[ind2],'r',label=\"L2\")\n",
    "    plt.legend()\n",
    "    plt.show()\n",
    "gsv = openfromfile(\"Log Reg/gsv_uni_r\")\n",
    "plot_error_vs_c_r(gsv)"
   ]
  },
  {
   "cell_type": "markdown",
   "metadata": {},
   "source": [
    "Perturbation Test"
   ]
  },
  {
   "cell_type": "code",
   "execution_count": 33,
   "metadata": {},
   "outputs": [
    {
     "name": "stdout",
     "output_type": "stream",
     "text": [
      "Accuracy on test set: 91.520%\n",
      "Non Zero weights: 67222\n"
     ]
    }
   ],
   "source": [
    "from sklearn.linear_model import LogisticRegression\n",
    "\n",
    "clf = LogisticRegression(C= 10, penalty= 'l2')\n",
    "clf.fit(X_train,y_train)\n",
    "y_pred = clf.predict(X_test)\n",
    "print(\"Accuracy on test set: %0.3f%%\"%(accuracy_score(y_test, y_pred)*100))\n",
    "print(\"Non Zero weights:\",np.count_nonzero(clf.coef_))"
   ]
  },
  {
   "cell_type": "code",
   "execution_count": 34,
   "metadata": {},
   "outputs": [
    {
     "name": "stdout",
     "output_type": "stream",
     "text": [
      "[ 6.15102136e-01  5.51515061e-04 -4.83691241e-01  3.19053598e-04\n",
      "  2.31122851e-02  2.31122851e-02  8.40310670e-03  5.84255701e-03\n",
      "  7.74631981e-03  1.65145668e-02  4.41763292e-02  3.34143641e-04\n",
      "  8.25588389e-04  5.20033375e-02  2.67408205e-02  1.23340960e-03\n",
      "  1.08914358e-02 -4.22694267e-01  1.15138183e-02  8.91828846e-02\n",
      "  1.11423962e-01  6.02835785e-01  1.71586517e+00 -3.76046683e-02\n",
      " -1.83565180e+00 -6.09771907e-01  2.77869119e-03  2.22239157e-01\n",
      "  3.44068941e-02  1.10986208e-01  8.35684781e-02  4.30898707e-02\n",
      "  1.42644698e-02 -2.59818546e-02  9.85762548e-01 -1.73468665e-01\n",
      " -8.73255074e-01  1.39875447e-02  8.60950141e-02 -8.67920652e-01\n",
      "  3.04345182e-03  2.65919666e-02 -2.69469874e-04 -6.60990342e-03\n",
      "  4.43122107e-03  3.38111976e-01  4.17929483e-03  6.46828746e-02\n",
      "  4.74990143e-03  2.14376220e-01]\n"
     ]
    }
   ],
   "source": [
    "from scipy.sparse import find\n",
    "#Weights before adding random noise\n",
    "weights1 = find(clf.coef_[0])[2]\n",
    "print(weights1[:50])"
   ]
  },
  {
   "cell_type": "code",
   "execution_count": 35,
   "metadata": {},
   "outputs": [],
   "source": [
    "X_train_t = X_train\n",
    "#Random noise\n",
    "epsilon = np.random.uniform(low=-0.0001, high=0.0001, size=(find(X_train_t)[0].size,))\n",
    "#Getting the postions(row and column) and value of non-zero datapoints \n",
    "a,b,c = find(X_train_t)\n",
    "\n",
    "#Introducing random noise to non-zero datapoints\n",
    "X_train_t[a,b] = epsilon + X_train_t[a,b]"
   ]
  },
  {
   "cell_type": "code",
   "execution_count": 36,
   "metadata": {},
   "outputs": [
    {
     "name": "stdout",
     "output_type": "stream",
     "text": [
      "Accuracy on test set: 91.520%\n",
      "Non Zero weights: 67222\n"
     ]
    }
   ],
   "source": [
    "#Training on train data having random noise\n",
    "from sklearn.linear_model import LogisticRegression\n",
    "\n",
    "clf = LogisticRegression(C= 10, penalty= 'l2')\n",
    "clf.fit(X_train_t,y_train)\n",
    "y_pred = clf.predict(X_test)\n",
    "print(\"Accuracy on test set: %0.3f%%\"%(accuracy_score(y_test, y_pred)*100))\n",
    "print(\"Non Zero weights:\",np.count_nonzero(clf.coef_))"
   ]
  },
  {
   "cell_type": "code",
   "execution_count": 37,
   "metadata": {},
   "outputs": [
    {
     "name": "stdout",
     "output_type": "stream",
     "text": [
      "[ 6.14883330e-01  5.51432483e-04 -4.83171444e-01  3.18358801e-04\n",
      "  2.30901279e-02  2.30839137e-02  8.41071192e-03  5.83928095e-03\n",
      "  7.74502769e-03  1.64921320e-02  4.42126298e-02  3.34471251e-04\n",
      "  8.25732941e-04  5.20183876e-02  2.68372114e-02  1.23295290e-03\n",
      "  1.08808763e-02 -4.22607678e-01  1.15080313e-02  8.90639423e-02\n",
      "  1.11348320e-01  6.02927199e-01  1.71576633e+00 -3.76123780e-02\n",
      " -1.83694573e+00 -6.09834581e-01  2.76772572e-03  2.22171953e-01\n",
      "  3.43653618e-02  1.10952194e-01  8.37217580e-02  4.31502601e-02\n",
      "  1.43272682e-02 -2.59850089e-02  9.85805802e-01 -1.73294272e-01\n",
      " -8.73817060e-01  1.39538605e-02  8.61348484e-02 -8.67441964e-01\n",
      "  3.03817964e-03  2.66137035e-02 -2.96280407e-04 -6.59805066e-03\n",
      "  4.43510092e-03  3.38396507e-01  4.18548240e-03  6.46331641e-02\n",
      "  4.75140192e-03  2.14232153e-01]\n"
     ]
    }
   ],
   "source": [
    "from scipy.sparse import find\n",
    "#Weights after adding random noise\n",
    "weights2 = find(clf.coef_[0])[2]\n",
    "print(weights2[:50])"
   ]
  },
  {
   "cell_type": "code",
   "execution_count": 38,
   "metadata": {},
   "outputs": [
    {
     "name": "stdout",
     "output_type": "stream",
     "text": [
      "67222\n"
     ]
    }
   ],
   "source": [
    "print(weights2.size)"
   ]
  },
  {
   "cell_type": "code",
   "execution_count": 39,
   "metadata": {},
   "outputs": [],
   "source": [
    "weights_diff = (abs(weights1 - weights2)/weights1) * 100"
   ]
  },
  {
   "cell_type": "code",
   "execution_count": 40,
   "metadata": {},
   "outputs": [
    {
     "name": "stdout",
     "output_type": "stream",
     "text": [
      "6\n"
     ]
    }
   ],
   "source": [
    "print(weights_diff[np.where(weights_diff > 30)].size)"
   ]
  },
  {
   "cell_type": "markdown",
   "metadata": {
    "colab_type": "text",
    "id": "0Zhvc5AMMQwD"
   },
   "source": [
    "## [7.2.4] Bi-Grams and n-Grams.\n",
    "\n",
    "**Motivation**\n",
    "\n",
    "Now that we have our list of words describing positive and negative reviews lets analyse them.<br>\n",
    "\n",
    "We begin analysis by getting the frequency distribution of the words as shown below"
   ]
  },
  {
   "cell_type": "code",
   "execution_count": 41,
   "metadata": {},
   "outputs": [
    {
     "name": "stdout",
     "output_type": "stream",
     "text": [
      "Train Data Size:  (70000, 1066892)\n",
      "Test Data Size:  (30000, 1066892)\n"
     ]
    }
   ],
   "source": [
    "from sklearn.feature_extraction.text import CountVectorizer\n",
    "from sklearn.model_selection import train_test_split\n",
    "from sklearn import preprocessing\n",
    "\n",
    "#Breaking into Train and test\n",
    "X_train, X_test, y_train, y_test = train_test_split(final['CleanedText'].values,final['Score'].values,test_size=0.3,shuffle=False)\n",
    "\n",
    "#taking one words and two consecutive words together\n",
    "bi_gram = CountVectorizer(ngram_range=(1,2)) \n",
    "X_train = bi_gram.fit_transform(X_train)\n",
    "#Normalize Data\n",
    "X_train = preprocessing.normalize(X_train)\n",
    "print(\"Train Data Size: \",X_train.shape)\n",
    "X_test = bi_gram.transform(X_test)\n",
    "#Normalize Data\n",
    "X_test = preprocessing.normalize(X_test)\n",
    "print(\"Test Data Size: \",X_test.shape)"
   ]
  },
  {
   "cell_type": "code",
   "execution_count": 42,
   "metadata": {},
   "outputs": [
    {
     "name": "stdout",
     "output_type": "stream",
     "text": [
      "Wall time: 0 ns\n",
      "Fitting 10 folds for each of 30 candidates, totalling 300 fits\n"
     ]
    },
    {
     "name": "stderr",
     "output_type": "stream",
     "text": [
      "[Parallel(n_jobs=1)]: Done 300 out of 300 | elapsed: 23.2min finished\n"
     ]
    },
    {
     "name": "stdout",
     "output_type": "stream",
     "text": [
      "Best HyperParameter:  {'C': 1000, 'penalty': 'l2'}\n",
      "Best Accuracy: 92.41%\n"
     ]
    }
   ],
   "source": [
    "%time\n",
    "from sklearn.model_selection import GridSearchCV\n",
    "from sklearn.linear_model import LogisticRegression\n",
    "\n",
    "clf = LogisticRegression()\n",
    "#params we need to try on classifier\n",
    "param_grid = {'C':[1000,500,100,50,10,5,1,0.5,0.1,0.05,0.01,0.005,0.001,0.0005,0.0001],\n",
    "             'penalty':['l1','l2']} \n",
    "tscv = TimeSeriesSplit(n_splits=10) #For time based splitting\n",
    "gsv = GridSearchCV(clf,param_grid,cv=tscv,verbose=1)\n",
    "gsv.fit(X_train,y_train)\n",
    "savetofile(gsv,\"Log Reg/gsv_bi\")\n",
    "print(\"Best HyperParameter: \",gsv.best_params_)\n",
    "print(\"Best Accuracy: %.2f%%\"%(gsv.best_score_*100))"
   ]
  },
  {
   "cell_type": "code",
   "execution_count": 43,
   "metadata": {},
   "outputs": [
    {
     "data": {
      "image/png": "[encoded data removed]",
      "text/plain": [
       "<Figure size 432x288 with 1 Axes>"
      ]
     },
     "metadata": {},
     "output_type": "display_data"
    }
   ],
   "source": [
    "gsv = openfromfile(\"Log Reg/gsv_bi\")\n",
    "plot_error_vs_c(gsv)"
   ]
  },
  {
   "cell_type": "code",
   "execution_count": 44,
   "metadata": {},
   "outputs": [
    {
     "name": "stdout",
     "output_type": "stream",
     "text": [
      "Accuracy on test set: 92.887%\n",
      "Precision on test set: 0.943\n",
      "Recall on test set: 0.973\n",
      "F1-Score on test set: 0.958\n",
      "Non Zero weights: 1066892\n",
      "Confusion Matrix of test set:\n",
      " [ [TN  FP]\n",
      " [FN TP] ]\n",
      "\n"
     ]
    },
    {
     "data": {
      "text/plain": [
       "<matplotlib.axes._subplots.AxesSubplot at 0x23895a5cf60>"
      ]
     },
     "execution_count": 44,
     "metadata": {},
     "output_type": "execute_result"
    },
    {
     "data": {
      "image/png": "[encoded data removed]",
      "text/plain": [
       "<Figure size 432x288 with 2 Axes>"
      ]
     },
     "metadata": {},
     "output_type": "display_data"
    }
   ],
   "source": [
    "#Testing Accuracy on Test data\n",
    "from sklearn.linear_model import LogisticRegression\n",
    "\n",
    "clf = LogisticRegression(C= 100, penalty= 'l2')\n",
    "clf.fit(X_train,y_train)\n",
    "y_pred = clf.predict(X_test)\n",
    "print(\"Accuracy on test set: %0.3f%%\"%(accuracy_score(y_test, y_pred)*100))\n",
    "print(\"Precision on test set: %0.3f\"%(precision_score(y_test, y_pred)))\n",
    "print(\"Recall on test set: %0.3f\"%(recall_score(y_test, y_pred)))\n",
    "print(\"F1-Score on test set: %0.3f\"%(f1_score(y_test, y_pred)))\n",
    "print(\"Non Zero weights:\",np.count_nonzero(clf.coef_))\n",
    "print(\"Confusion Matrix of test set:\\n [ [TN  FP]\\n [FN TP] ]\\n\")\n",
    "df_cm = pd.DataFrame(confusion_matrix(y_test, y_pred), range(2),range(2))\n",
    "sns.set(font_scale=1.4)#for label size\n",
    "sns.heatmap(df_cm, annot=True,annot_kws={\"size\": 16}, fmt='g')"
   ]
  },
  {
   "cell_type": "markdown",
   "metadata": {},
   "source": [
    "Showing how sparsity increases as we increase lambda or decrease C when L1 Regularizer is used"
   ]
  },
  {
   "cell_type": "code",
   "execution_count": 45,
   "metadata": {},
   "outputs": [
    {
     "name": "stdout",
     "output_type": "stream",
     "text": [
      "Accuracy on test set: 92.017%\n",
      "F1-Score on test set: 0.952\n",
      "Non Zero weights: 16235\n"
     ]
    }
   ],
   "source": [
    "from sklearn.linear_model import LogisticRegression\n",
    "\n",
    "clf = LogisticRegression(C= 1000, penalty= 'l1')\n",
    "clf.fit(X_train,y_train)\n",
    "y_pred = clf.predict(X_test)\n",
    "print(\"Accuracy on test set: %0.3f%%\"%(accuracy_score(y_test, y_pred)*100))\n",
    "print(\"F1-Score on test set: %0.3f\"%(f1_score(y_test, y_pred)))\n",
    "print(\"Non Zero weights:\",np.count_nonzero(clf.coef_))"
   ]
  },
  {
   "cell_type": "code",
   "execution_count": 46,
   "metadata": {},
   "outputs": [
    {
     "name": "stdout",
     "output_type": "stream",
     "text": [
      "Accuracy on test set: 92.017%\n",
      "F1-Score on test set: 0.952\n",
      "Non Zero weights: 12587\n"
     ]
    }
   ],
   "source": [
    "from sklearn.linear_model import LogisticRegression\n",
    "\n",
    "clf = LogisticRegression(C= 100, penalty= 'l1')\n",
    "clf.fit(X_train,y_train)\n",
    "y_pred = clf.predict(X_test)\n",
    "print(\"Accuracy on test set: %0.3f%%\"%(accuracy_score(y_test, y_pred)*100))\n",
    "print(\"F1-Score on test set: %0.3f\"%(f1_score(y_test, y_pred)))\n",
    "print(\"Non Zero weights:\",np.count_nonzero(clf.coef_))"
   ]
  },
  {
   "cell_type": "code",
   "execution_count": 47,
   "metadata": {},
   "outputs": [
    {
     "name": "stdout",
     "output_type": "stream",
     "text": [
      "Accuracy on test set: 92.370%\n",
      "F1-Score on test set: 0.954\n",
      "Non Zero weights: 8093\n"
     ]
    }
   ],
   "source": [
    "from sklearn.linear_model import LogisticRegression\n",
    "\n",
    "clf = LogisticRegression(C= 10, penalty= 'l1')\n",
    "clf.fit(X_train,y_train)\n",
    "y_pred = clf.predict(X_test)\n",
    "print(\"Accuracy on test set: %0.3f%%\"%(accuracy_score(y_test, y_pred)*100))\n",
    "print(\"F1-Score on test set: %0.3f\"%(f1_score(y_test, y_pred)))\n",
    "print(\"Non Zero weights:\",np.count_nonzero(clf.coef_))"
   ]
  },
  {
   "cell_type": "code",
   "execution_count": 48,
   "metadata": {},
   "outputs": [
    {
     "name": "stdout",
     "output_type": "stream",
     "text": [
      "Accuracy on test set: 92.080%\n",
      "F1-Score on test set: 0.953\n",
      "Non Zero weights: 988\n"
     ]
    }
   ],
   "source": [
    "from sklearn.linear_model import LogisticRegression\n",
    "\n",
    "clf = LogisticRegression(C= 1, penalty= 'l1')\n",
    "clf.fit(X_train,y_train)\n",
    "y_pred = clf.predict(X_test)\n",
    "print(\"Accuracy on test set: %0.3f%%\"%(accuracy_score(y_test, y_pred)*100))\n",
    "print(\"F1-Score on test set: %0.3f\"%(f1_score(y_test, y_pred)))\n",
    "print(\"Non Zero weights:\",np.count_nonzero(clf.coef_))"
   ]
  },
  {
   "cell_type": "code",
   "execution_count": 49,
   "metadata": {},
   "outputs": [
    {
     "name": "stdout",
     "output_type": "stream",
     "text": [
      "Accuracy on test set: 88.387%\n",
      "F1-Score on test set: 0.933\n",
      "Non Zero weights: 157\n"
     ]
    }
   ],
   "source": [
    "from sklearn.linear_model import LogisticRegression\n",
    "\n",
    "clf = LogisticRegression(C= 0.1, penalty= 'l1')\n",
    "clf.fit(X_train,y_train)\n",
    "y_pred = clf.predict(X_test)\n",
    "print(\"Accuracy on test set: %0.3f%%\"%(accuracy_score(y_test, y_pred)*100))\n",
    "print(\"F1-Score on test set: %0.3f\"%(f1_score(y_test, y_pred)))\n",
    "print(\"Non Zero weights:\",np.count_nonzero(clf.coef_))"
   ]
  },
  {
   "cell_type": "code",
   "execution_count": 50,
   "metadata": {},
   "outputs": [
    {
     "name": "stdout",
     "output_type": "stream",
     "text": [
      "Accuracy on test set: 82.863%\n",
      "F1-Score on test set: 0.906\n",
      "Non Zero weights: 7\n"
     ]
    }
   ],
   "source": [
    "from sklearn.linear_model import LogisticRegression\n",
    "\n",
    "clf = LogisticRegression(C= 0.01, penalty= 'l1')\n",
    "clf.fit(X_train,y_train)\n",
    "y_pred = clf.predict(X_test)\n",
    "print(\"Accuracy on test set: %0.3f%%\"%(accuracy_score(y_test, y_pred)*100))\n",
    "print(\"F1-Score on test set: %0.3f\"%(f1_score(y_test, y_pred)))\n",
    "print(\"Non Zero weights:\",np.count_nonzero(clf.coef_))"
   ]
  },
  {
   "cell_type": "markdown",
   "metadata": {},
   "source": [
    "\n",
    "\n",
    "We can see how drastically the sparsity increases from 52309 non-zero weights(@ C=1000) to only 55 non-zero weights(@ C=0.01) when we use L1 Regularization\n",
    "Using Randomized Search CV to find best parameters"
   ]
  },
  {
   "cell_type": "code",
   "execution_count": 51,
   "metadata": {},
   "outputs": [
    {
     "name": "stdout",
     "output_type": "stream",
     "text": [
      "Wall time: 0 ns\n",
      "Fitting 10 folds for each of 10 candidates, totalling 100 fits\n"
     ]
    },
    {
     "name": "stderr",
     "output_type": "stream",
     "text": [
      "[Parallel(n_jobs=1)]: Done 100 out of 100 | elapsed:  7.4min finished\n"
     ]
    },
    {
     "name": "stdout",
     "output_type": "stream",
     "text": [
      "Best HyperParameter:  {'penalty': 'l2', 'C': 50}\n",
      "Best Accuracy: 92.31%\n"
     ]
    }
   ],
   "source": [
    "%time\n",
    "from sklearn.model_selection import RandomizedSearchCV\n",
    "from sklearn.linear_model import LogisticRegression\n",
    "\n",
    "clf = LogisticRegression()\n",
    "#params we need to try on classifier\n",
    "param_grid = {'C':[1000,500,100,50,10,5,1,0.5,0.1,0.05,0.01,0.005,0.001,0.0005,0.0001],\n",
    "              'penalty':['l1','l2']}\n",
    "tscv = TimeSeriesSplit(n_splits=10) #For time based splitting\n",
    "gsv = RandomizedSearchCV(clf,param_grid,cv=tscv,verbose=1)\n",
    "gsv.fit(X_train,y_train)\n",
    "savetofile(gsv,\"Log Reg/gsv_bi_r\")\n",
    "print(\"Best HyperParameter: \",gsv.best_params_)\n",
    "print(\"Best Accuracy: %.2f%%\"%(gsv.best_score_*100))"
   ]
  },
  {
   "cell_type": "code",
   "execution_count": 52,
   "metadata": {},
   "outputs": [
    {
     "data": {
      "image/png": "[encoded data removed]",
      "text/plain": [
       "<Figure size 432x288 with 1 Axes>"
      ]
     },
     "metadata": {},
     "output_type": "display_data"
    }
   ],
   "source": [
    "gsv = openfromfile(\"Log Reg/gsv_bi_r\")\n",
    "plot_error_vs_c_r(gsv)"
   ]
  },
  {
   "cell_type": "code",
   "execution_count": 53,
   "metadata": {},
   "outputs": [
    {
     "name": "stdout",
     "output_type": "stream",
     "text": [
      "Accuracy on test set: 92.887%\n",
      "Precision on test set: 0.943\n",
      "Recall on test set: 0.973\n",
      "F1-Score on test set: 0.958\n",
      "Non Zero weights: 1066892\n",
      "Confusion Matrix of test set:\n",
      " [ [TN  FP]\n",
      " [FN TP] ]\n",
      "\n"
     ]
    },
    {
     "data": {
      "text/plain": [
       "<matplotlib.axes._subplots.AxesSubplot at 0x2389aaf5940>"
      ]
     },
     "execution_count": 53,
     "metadata": {},
     "output_type": "execute_result"
    },
    {
     "data": {
      "image/png": "[encoded data removed]",
      "text/plain": [
       "<Figure size 432x288 with 2 Axes>"
      ]
     },
     "metadata": {},
     "output_type": "display_data"
    }
   ],
   "source": [
    "#Testing Accuracy on Test data\n",
    "from sklearn.linear_model import LogisticRegression\n",
    "\n",
    "clf = LogisticRegression(C= 100, penalty= 'l2')\n",
    "clf.fit(X_train,y_train)\n",
    "y_pred = clf.predict(X_test)\n",
    "print(\"Accuracy on test set: %0.3f%%\"%(accuracy_score(y_test, y_pred)*100))\n",
    "print(\"Precision on test set: %0.3f\"%(precision_score(y_test, y_pred)))\n",
    "print(\"Recall on test set: %0.3f\"%(recall_score(y_test, y_pred)))\n",
    "print(\"F1-Score on test set: %0.3f\"%(f1_score(y_test, y_pred)))\n",
    "print(\"Non Zero weights:\",np.count_nonzero(clf.coef_))\n",
    "print(\"Confusion Matrix of test set:\\n [ [TN  FP]\\n [FN TP] ]\\n\")\n",
    "df_cm = pd.DataFrame(confusion_matrix(y_test, y_pred), range(2),range(2))\n",
    "sns.set(font_scale=1.4)#for label size\n",
    "sns.heatmap(df_cm, annot=True,annot_kws={\"size\": 16}, fmt='g')"
   ]
  },
  {
   "cell_type": "markdown",
   "metadata": {},
   "source": [
    "Perturbation Test"
   ]
  },
  {
   "cell_type": "code",
   "execution_count": 54,
   "metadata": {},
   "outputs": [
    {
     "name": "stdout",
     "output_type": "stream",
     "text": [
      "Accuracy on test set: 92.873%\n",
      "Non Zero weights: 1066892\n"
     ]
    }
   ],
   "source": [
    "from sklearn.linear_model import LogisticRegression\n",
    "\n",
    "clf = LogisticRegression(C= 500, penalty= 'l2')\n",
    "clf.fit(X_train,y_train)\n",
    "y_pred = clf.predict(X_test)\n",
    "print(\"Accuracy on test set: %0.3f%%\"%(accuracy_score(y_test, y_pred)*100))\n",
    "print(\"Non Zero weights:\",np.count_nonzero(clf.coef_))"
   ]
  },
  {
   "cell_type": "code",
   "execution_count": 55,
   "metadata": {},
   "outputs": [
    {
     "name": "stdout",
     "output_type": "stream",
     "text": [
      "Accuracy on test set: 92.873%\n",
      "Non Zero weights: 1066892\n"
     ]
    }
   ],
   "source": [
    "from sklearn.linear_model import LogisticRegression\n",
    "\n",
    "clf = LogisticRegression(C= 500, penalty= 'l2')\n",
    "clf.fit(X_train,y_train)\n",
    "y_pred = clf.predict(X_test)\n",
    "print(\"Accuracy on test set: %0.3f%%\"%(accuracy_score(y_test, y_pred)*100))\n",
    "print(\"Non Zero weights:\",np.count_nonzero(clf.coef_))"
   ]
  },
  {
   "cell_type": "code",
   "execution_count": 56,
   "metadata": {},
   "outputs": [
    {
     "name": "stdout",
     "output_type": "stream",
     "text": [
      "[ 1.25706174e+00  6.69879822e-02  5.07612582e-01  5.98663762e-01\n",
      "  1.61048512e-04  1.61048512e-04 -6.25396504e-01 -6.25396504e-01\n",
      "  1.17634541e-03  1.17634541e-03  3.95124780e-02  3.95124780e-02\n",
      "  3.95124780e-02  3.95124780e-02  3.23814354e-03  3.23814354e-03\n",
      "  1.01350275e-02  1.01350275e-02  2.09814713e-02  2.09814713e-02\n",
      "  3.03064661e-02  3.03064661e-02  3.68823313e-02  3.68823313e-02\n",
      "  3.15836742e-04  3.15836742e-04  3.58041144e-04  1.31750814e-01\n",
      "  1.31750814e-01  4.91985245e-02  3.89083709e-03  2.18000684e-01\n",
      " -1.72692997e-01  2.08978672e-03  2.08978672e-03  6.16863835e-03\n",
      "  6.16863835e-03 -2.32846181e-01 -2.32846181e-01  5.48441601e-03\n",
      "  5.48441601e-03  6.07715552e-02  4.82379666e-02  1.25335885e-02\n",
      "  3.90021912e-01  3.90021912e-01  6.63501173e-01  4.60476844e-05\n",
      "  2.21136359e-01  4.42272718e-01]\n"
     ]
    }
   ],
   "source": [
    "from scipy.sparse import find\n",
    "#Weights before adding random noise\n",
    "weights1 = find(clf.coef_[0])[2]\n",
    "print(weights1[:50])"
   ]
  },
  {
   "cell_type": "code",
   "execution_count": 57,
   "metadata": {},
   "outputs": [],
   "source": [
    "X_train_t = X_train\n",
    "#Random noise\n",
    "epsilon = np.random.uniform(low=-0.0001, high=0.0001, size=(find(X_train_t)[0].size,))\n",
    "#Getting the postions(row and column) and value of non-zero datapoints \n",
    "a,b,c = find(X_train_t)\n",
    "\n",
    "#Introducing random noise to non-zero datapoints\n",
    "X_train_t[a,b] = epsilon + X_train_t[a,b]"
   ]
  },
  {
   "cell_type": "code",
   "execution_count": 58,
   "metadata": {},
   "outputs": [
    {
     "name": "stdout",
     "output_type": "stream",
     "text": [
      "Accuracy on test set: 92.713%\n",
      "Non Zero weights: 1066892\n"
     ]
    }
   ],
   "source": [
    "#Training on train data having random noise\n",
    "from sklearn.linear_model import LogisticRegression\n",
    "\n",
    "clf = LogisticRegression(C= 10, penalty= 'l2')\n",
    "clf.fit(X_train_t,y_train)\n",
    "y_pred = clf.predict(X_test)\n",
    "print(\"Accuracy on test set: %0.3f%%\"%(accuracy_score(y_test, y_pred)*100))\n",
    "print(\"Non Zero weights:\",np.count_nonzero(clf.coef_))"
   ]
  },
  {
   "cell_type": "code",
   "execution_count": 59,
   "metadata": {},
   "outputs": [
    {
     "name": "stdout",
     "output_type": "stream",
     "text": [
      "[ 3.74402234e-01  2.14615700e-02  1.39345538e-01  1.74278155e-01\n",
      "  1.70830678e-04  1.70786265e-04 -2.17387375e-01 -2.17426011e-01\n",
      "  1.92216067e-03  1.91961115e-03  1.00240433e-02  1.00773595e-02\n",
      "  1.00400738e-02  1.00688297e-02  4.32314641e-03  4.32678973e-03\n",
      "  1.09229924e-02  1.09294153e-02  5.27996576e-03  5.26008826e-03\n",
      "  1.41473683e-02  1.41465061e-02  1.22710341e-02  1.22761700e-02\n",
      "  5.19983830e-04  5.19113248e-04  6.58206918e-04  4.66236663e-02\n",
      "  4.66280761e-02  3.07081260e-02  5.84466606e-03  6.23972625e-02\n",
      " -3.76137147e-02  3.37909438e-03  3.38230070e-03  6.87136499e-03\n",
      "  6.86999766e-03 -8.71127513e-02 -8.70644065e-02  8.54184810e-03\n",
      "  8.53590157e-03  3.38209530e-02  2.45876782e-02  9.26437021e-03\n",
      "  1.14309843e-01  1.14356309e-01  2.53273022e-01  4.39799154e-05\n",
      "  8.44971796e-02  1.68775028e-01]\n"
     ]
    }
   ],
   "source": [
    "from scipy.sparse import find\n",
    "#Weights after adding random noise\n",
    "weights2 = find(clf.coef_[0])[2]\n",
    "print(weights2[:50])"
   ]
  },
  {
   "cell_type": "code",
   "execution_count": 60,
   "metadata": {},
   "outputs": [
    {
     "name": "stdout",
     "output_type": "stream",
     "text": [
      "1066892\n"
     ]
    }
   ],
   "source": [
    "print(weights2.size)"
   ]
  },
  {
   "cell_type": "code",
   "execution_count": 61,
   "metadata": {},
   "outputs": [],
   "source": [
    "weights_diff = (abs(weights1 - weights2)/weights1) * 100"
   ]
  },
  {
   "cell_type": "code",
   "execution_count": 62,
   "metadata": {},
   "outputs": [
    {
     "name": "stdout",
     "output_type": "stream",
     "text": [
      "684658\n"
     ]
    }
   ],
   "source": [
    "print(weights_diff[np.where(weights_diff > 30)].size)"
   ]
  },
  {
   "cell_type": "markdown",
   "metadata": {},
   "source": [
    "\n",
    "\n",
    "526050 features have weight changes greater than 30%. Hence the features are multicollinear\n",
    "Feature Importance[Top 25]"
   ]
  },
  {
   "cell_type": "code",
   "execution_count": 63,
   "metadata": {},
   "outputs": [
    {
     "name": "stdout",
     "output_type": "stream",
     "text": [
      "\t\t\tPositive\t\t\t\t\t\tNegative\n",
      "________________________________________________________________________________________________\n",
      "\t-16.5223\tworst          \t\t\t\t15.7354\tnot disappoint \n",
      "\t-14.1624\tdisappoint     \t\t\t\t12.9754\tdelici         \n",
      "\t-13.1949\tnot worth      \t\t\t\t10.8029\tperfect        \n",
      "\t-13.0976\tterribl        \t\t\t\t10.6946\thigh recommend \n",
      "\t-11.9867\taw             \t\t\t\t10.2774\tbest           \n",
      "\t-11.3426\thorribl        \t\t\t\t9.6109\twont disappoint\n",
      "\t-10.6609\tnot good       \t\t\t\t9.5170\tamaz           \n",
      "\t-10.1731\tnot recommend  \t\t\t\t9.4466\tnot bad        \n",
      "\t-10.0430\tbland          \t\t\t\t9.3502\texcel          \n",
      "\t-9.9911\tunfortun       \t\t\t\t8.9763\tgreat          \n",
      "\t-9.8742\treturn         \t\t\t\t8.8212\taddict         \n",
      "\t-9.1450\tdisgust        \t\t\t\t8.4884\tawesom         \n",
      "\t-8.7924\tnot happi      \t\t\t\t8.3882\thappi          \n",
      "\t-8.7496\tweak           \t\t\t\t8.1093\tfavorit        \n",
      "\t-8.5958\trip            \t\t\t\t8.0813\tnot bitter     \n",
      "\t-8.5774\tstale          \t\t\t\t7.8032\tyummi          \n",
      "\t-8.3950\truin           \t\t\t\t7.6154\tnice           \n",
      "\t-8.2552\tnot buy        \t\t\t\t7.5410\tsatisfi        \n",
      "\t-8.1914\tnasti          \t\t\t\t7.4427\tfantast        \n",
      "\t-7.9224\twont buy       \t\t\t\t7.3982\tbeat           \n",
      "\t-7.8764\tnever buy      \t\t\t\t7.3732\ttasti          \n",
      "\t-7.6851\ttwo star       \t\t\t\t7.1111\tglad           \n",
      "\t-7.5015\tthrew          \t\t\t\t7.0816\tsmooth         \n",
      "\t-7.3808\ttasteless      \t\t\t\t6.9245\teven better    \n",
      "\t-7.3719\tgross          \t\t\t\t6.8639\tcomplaint      \n"
     ]
    }
   ],
   "source": [
    "def show_most_informative_features(vectorizer, clf, n=25):\n",
    "    feature_names = vectorizer.get_feature_names()\n",
    "    coefs_with_fns = sorted(zip(clf.coef_[0], feature_names))\n",
    "    top = zip(coefs_with_fns[:n], coefs_with_fns[:-(n + 1):-1])\n",
    "    print(\"\\t\\t\\tPositive\\t\\t\\t\\t\\t\\tNegative\")\n",
    "    print(\"________________________________________________________________________________________________\")\n",
    "    for (coef_1, fn_1), (coef_2, fn_2) in top:\n",
    "        print(\"\\t%.4f\\t%-15s\\t\\t\\t\\t%.4f\\t%-15s\" % (coef_1, fn_1, coef_2, fn_2))\n",
    "        \n",
    "show_most_informative_features(bi_gram,clf)"
   ]
  },
  {
   "cell_type": "code",
   "execution_count": null,
   "metadata": {},
   "outputs": [],
   "source": []
  },
  {
   "cell_type": "markdown",
   "metadata": {
    "colab_type": "text",
    "id": "hdx-Cb0AMQwM"
   },
   "source": [
    "# [7.2.5] TF-IDF"
   ]
  },
  {
   "cell_type": "code",
   "execution_count": 64,
   "metadata": {},
   "outputs": [
    {
     "name": "stdout",
     "output_type": "stream",
     "text": [
      "Train Data Size:  (70000, 1066892)\n",
      "Test Data Size:  (30000, 1066892)\n",
      "Wall time: 20.7 s\n"
     ]
    }
   ],
   "source": [
    "%%time\n",
    "from sklearn.feature_extraction.text import TfidfVectorizer\n",
    "from sklearn.model_selection import train_test_split\n",
    "from sklearn import preprocessing\n",
    "\n",
    "#Breaking into Train and test\n",
    "X_train, X_test, y_train, y_test = train_test_split(final['CleanedText'].values,final['Score'].values,test_size=0.3,shuffle=False)\n",
    "\n",
    "tfidf = TfidfVectorizer(ngram_range=(1,2)) #Using bi-grams\n",
    "X_train = tfidf.fit_transform(X_train)\n",
    "#Normalize Data\n",
    "X_train = preprocessing.normalize(X_train)\n",
    "print(\"Train Data Size: \",X_train.shape)\n",
    "X_test = tfidf.transform(X_test)\n",
    "#Normalize Data\n",
    "X_test = preprocessing.normalize(X_test)\n",
    "print(\"Test Data Size: \",X_test.shape)"
   ]
  },
  {
   "cell_type": "code",
   "execution_count": 65,
   "metadata": {},
   "outputs": [
    {
     "name": "stdout",
     "output_type": "stream",
     "text": [
      "Wall time: 0 ns\n",
      "Fitting 10 folds for each of 30 candidates, totalling 300 fits\n"
     ]
    },
    {
     "name": "stderr",
     "output_type": "stream",
     "text": [
      "[Parallel(n_jobs=1)]: Done 300 out of 300 | elapsed: 25.8min finished\n"
     ]
    },
    {
     "name": "stdout",
     "output_type": "stream",
     "text": [
      "Best HyperParameter:  {'C': 5, 'penalty': 'l1'}\n",
      "Best Accuracy: 92.29%\n"
     ]
    }
   ],
   "source": [
    "%time\n",
    "from sklearn.model_selection import GridSearchCV\n",
    "from sklearn.linear_model import LogisticRegression\n",
    "\n",
    "clf = LogisticRegression()\n",
    "\n",
    "#params we need to try on classifier\n",
    "param_grid = {'C':[1000,500,100,50,10,5,1,0.5,0.1,0.05,0.01,0.005,0.001,0.0005,0.0001],\n",
    "             'penalty':['l1','l2']} \n",
    "tscv = TimeSeriesSplit(n_splits=10) #For time based splitting\n",
    "gsv = GridSearchCV(clf,param_grid,cv=tscv,verbose=1)\n",
    "gsv.fit(X_train,y_train)\n",
    "savetofile(gsv,\"Log Reg/gsv_tfidf\")\n",
    "print(\"Best HyperParameter: \",gsv.best_params_)\n",
    "print(\"Best Accuracy: %.2f%%\"%(gsv.best_score_*100))"
   ]
  },
  {
   "cell_type": "code",
   "execution_count": 66,
   "metadata": {},
   "outputs": [
    {
     "data": {
      "image/png": "[encoded data removed]",
      "text/plain": [
       "<Figure size 432x288 with 1 Axes>"
      ]
     },
     "metadata": {},
     "output_type": "display_data"
    }
   ],
   "source": [
    "gsv = openfromfile(\"Log Reg/gsv_tfidf\")\n",
    "plot_error_vs_c(gsv)"
   ]
  },
  {
   "cell_type": "code",
   "execution_count": 67,
   "metadata": {},
   "outputs": [
    {
     "name": "stdout",
     "output_type": "stream",
     "text": [
      "Accuracy on test set: 92.720%\n",
      "Precision on test set: 0.946\n",
      "Recall on test set: 0.967\n",
      "F1-Score on test set: 0.956\n",
      "Non Zero weights: 5969\n",
      "Confusion Matrix of test set:\n",
      " [ [TN  FP]\n",
      " [FN TP] ]\n",
      "\n"
     ]
    },
    {
     "data": {
      "text/plain": [
       "<matplotlib.axes._subplots.AxesSubplot at 0x2389aaf5898>"
      ]
     },
     "execution_count": 67,
     "metadata": {},
     "output_type": "execute_result"
    },
    {
     "data": {
      "image/png": "[encoded data removed]",
      "text/plain": [
       "<Figure size 432x288 with 2 Axes>"
      ]
     },
     "metadata": {},
     "output_type": "display_data"
    }
   ],
   "source": [
    "#Testing Accuracy on Test data\n",
    "from sklearn.linear_model import LogisticRegression\n",
    "\n",
    "clf = LogisticRegression(C= 5, penalty= 'l1')\n",
    "clf.fit(X_train,y_train)\n",
    "y_pred = clf.predict(X_test)\n",
    "print(\"Accuracy on test set: %0.3f%%\"%(accuracy_score(y_test, y_pred)*100))\n",
    "print(\"Precision on test set: %0.3f\"%(precision_score(y_test, y_pred)))\n",
    "print(\"Recall on test set: %0.3f\"%(recall_score(y_test, y_pred)))\n",
    "print(\"F1-Score on test set: %0.3f\"%(f1_score(y_test, y_pred)))\n",
    "print(\"Non Zero weights:\",np.count_nonzero(clf.coef_))\n",
    "print(\"Confusion Matrix of test set:\\n [ [TN  FP]\\n [FN TP] ]\\n\")\n",
    "df_cm = pd.DataFrame(confusion_matrix(y_test, y_pred), range(2),range(2))\n",
    "sns.set(font_scale=1.4)#for label size\n",
    "sns.heatmap(df_cm, annot=True,annot_kws={\"size\": 16}, fmt='g')"
   ]
  },
  {
   "cell_type": "markdown",
   "metadata": {},
   "source": [
    "Showing how sparsity increases as we increase lambda or decrease C when L1 Regularizer is use"
   ]
  },
  {
   "cell_type": "code",
   "execution_count": 68,
   "metadata": {},
   "outputs": [
    {
     "name": "stdout",
     "output_type": "stream",
     "text": [
      "Accuracy on test set: 92.260%\n",
      "F1-Score on test set: 0.954\n",
      "Non Zero weights: 19526\n"
     ]
    }
   ],
   "source": [
    "from sklearn.linear_model import LogisticRegression\n",
    "\n",
    "clf = LogisticRegression(C= 1000, penalty= 'l1')\n",
    "clf.fit(X_train,y_train)\n",
    "y_pred = clf.predict(X_test)\n",
    "print(\"Accuracy on test set: %0.3f%%\"%(accuracy_score(y_test, y_pred)*100))\n",
    "print(\"F1-Score on test set: %0.3f\"%(f1_score(y_test, y_pred)))\n",
    "print(\"Non Zero weights:\",np.count_nonzero(clf.coef_))"
   ]
  },
  {
   "cell_type": "code",
   "execution_count": 69,
   "metadata": {},
   "outputs": [
    {
     "name": "stdout",
     "output_type": "stream",
     "text": [
      "Accuracy on test set: 92.340%\n",
      "F1-Score on test set: 0.954\n",
      "Non Zero weights: 14332\n"
     ]
    }
   ],
   "source": [
    "from sklearn.linear_model import LogisticRegression\n",
    "\n",
    "clf = LogisticRegression(C= 100, penalty= 'l1')\n",
    "clf.fit(X_train,y_train)\n",
    "y_pred = clf.predict(X_test)\n",
    "print(\"Accuracy on test set: %0.3f%%\"%(accuracy_score(y_test, y_pred)*100))\n",
    "print(\"F1-Score on test set: %0.3f\"%(f1_score(y_test, y_pred)))\n",
    "print(\"Non Zero weights:\",np.count_nonzero(clf.coef_))"
   ]
  },
  {
   "cell_type": "code",
   "execution_count": 70,
   "metadata": {},
   "outputs": [
    {
     "name": "stdout",
     "output_type": "stream",
     "text": [
      "Accuracy on test set: 92.530%\n",
      "F1-Score on test set: 0.955\n",
      "Non Zero weights: 9746\n"
     ]
    }
   ],
   "source": [
    "from sklearn.linear_model import LogisticRegression\n",
    "\n",
    "clf = LogisticRegression(C= 10, penalty= 'l1')\n",
    "clf.fit(X_train,y_train)\n",
    "y_pred = clf.predict(X_test)\n",
    "print(\"Accuracy on test set: %0.3f%%\"%(accuracy_score(y_test, y_pred)*100))\n",
    "print(\"F1-Score on test set: %0.3f\"%(f1_score(y_test, y_pred)))\n",
    "print(\"Non Zero weights:\",np.count_nonzero(clf.coef_))"
   ]
  },
  {
   "cell_type": "code",
   "execution_count": 71,
   "metadata": {},
   "outputs": [
    {
     "name": "stdout",
     "output_type": "stream",
     "text": [
      "Accuracy on test set: 92.037%\n",
      "F1-Score on test set: 0.953\n",
      "Non Zero weights: 890\n"
     ]
    }
   ],
   "source": [
    "from sklearn.linear_model import LogisticRegression\n",
    "\n",
    "clf = LogisticRegression(C= 1, penalty= 'l1')\n",
    "clf.fit(X_train,y_train)\n",
    "y_pred = clf.predict(X_test)\n",
    "print(\"Accuracy on test set: %0.3f%%\"%(accuracy_score(y_test, y_pred)*100))\n",
    "print(\"F1-Score on test set: %0.3f\"%(f1_score(y_test, y_pred)))\n",
    "print(\"Non Zero weights:\",np.count_nonzero(clf.coef_))"
   ]
  },
  {
   "cell_type": "code",
   "execution_count": 72,
   "metadata": {},
   "outputs": [
    {
     "name": "stdout",
     "output_type": "stream",
     "text": [
      "Accuracy on test set: 87.287%\n",
      "F1-Score on test set: 0.928\n",
      "Non Zero weights: 95\n"
     ]
    }
   ],
   "source": [
    "from sklearn.linear_model import LogisticRegression\n",
    "\n",
    "clf = LogisticRegression(C= 0.1, penalty= 'l1')\n",
    "clf.fit(X_train,y_train)\n",
    "y_pred = clf.predict(X_test)\n",
    "print(\"Accuracy on test set: %0.3f%%\"%(accuracy_score(y_test, y_pred)*100))\n",
    "print(\"F1-Score on test set: %0.3f\"%(f1_score(y_test, y_pred)))\n",
    "print(\"Non Zero weights:\",np.count_nonzero(clf.coef_))"
   ]
  },
  {
   "cell_type": "code",
   "execution_count": 73,
   "metadata": {},
   "outputs": [
    {
     "name": "stdout",
     "output_type": "stream",
     "text": [
      "Accuracy on test set: 82.733%\n",
      "F1-Score on test set: 0.906\n",
      "Non Zero weights: 1\n"
     ]
    }
   ],
   "source": [
    "from sklearn.linear_model import LogisticRegression\n",
    "\n",
    "clf = LogisticRegression(C= 0.01, penalty= 'l1')\n",
    "clf.fit(X_train,y_train)\n",
    "y_pred = clf.predict(X_test)\n",
    "print(\"Accuracy on test set: %0.3f%%\"%(accuracy_score(y_test, y_pred)*100))\n",
    "print(\"F1-Score on test set: %0.3f\"%(f1_score(y_test, y_pred)))\n",
    "print(\"Non Zero weights:\",np.count_nonzero(clf.coef_))"
   ]
  },
  {
   "cell_type": "markdown",
   "metadata": {},
   "source": [
    "\n",
    "\n",
    "We can see how drastically the sparsity increases from 62771 non-zero weights(@ C=1000) to only 20 non-zero weights(@ C=0.01) when we use L1 Regularization\n",
    "Using Randomized Search CV to find best parameters"
   ]
  },
  {
   "cell_type": "code",
   "execution_count": 74,
   "metadata": {},
   "outputs": [
    {
     "name": "stdout",
     "output_type": "stream",
     "text": [
      "Wall time: 0 ns\n",
      "Fitting 10 folds for each of 10 candidates, totalling 100 fits\n"
     ]
    },
    {
     "name": "stderr",
     "output_type": "stream",
     "text": [
      "[Parallel(n_jobs=1)]: Done 100 out of 100 | elapsed:  6.2min finished\n"
     ]
    },
    {
     "name": "stdout",
     "output_type": "stream",
     "text": [
      "Best HyperParameter:  {'penalty': 'l2', 'C': 500}\n",
      "Best Accuracy: 91.82%\n"
     ]
    }
   ],
   "source": [
    "%time\n",
    "from sklearn.model_selection import RandomizedSearchCV\n",
    "from sklearn.linear_model import LogisticRegression\n",
    "\n",
    "clf = LogisticRegression()\n",
    "#params we need to try on classifier\n",
    "param_grid = {'C':[1000,500,100,50,10,5,1,0.5,0.1,0.05,0.01,0.005,0.001,0.0005,0.0001]\n",
    "              ,'penalty':['l1','l2']}\n",
    "tscv = TimeSeriesSplit(n_splits=10) #For time based splitting\n",
    "gsv = RandomizedSearchCV(clf,param_grid,cv=tscv,verbose=1)\n",
    "gsv.fit(X_train,y_train)\n",
    "savetofile(gsv,\"Log Reg/gsv_tfidf_r\")\n",
    "print(\"Best HyperParameter: \",gsv.best_params_)\n",
    "print(\"Best Accuracy: %.2f%%\"%(gsv.best_score_*100))"
   ]
  },
  {
   "cell_type": "code",
   "execution_count": 75,
   "metadata": {},
   "outputs": [
    {
     "data": {
      "image/png": "[encoded data removed]",
      "text/plain": [
       "<Figure size 432x288 with 1 Axes>"
      ]
     },
     "metadata": {},
     "output_type": "display_data"
    }
   ],
   "source": [
    "gsv = openfromfile(\"Log Reg/gsv_tfidf_r\")\n",
    "plot_error_vs_c_r(gsv)"
   ]
  },
  {
   "cell_type": "code",
   "execution_count": 76,
   "metadata": {},
   "outputs": [
    {
     "name": "stdout",
     "output_type": "stream",
     "text": [
      "Accuracy on test set: 92.717%\n",
      "Precision on test set: 0.946\n",
      "Recall on test set: 0.967\n",
      "F1-Score on test set: 0.956\n",
      "Non Zero weights: 5976\n",
      "Confusion Matrix of test set:\n",
      " [ [TN  FP]\n",
      " [FN TP] ]\n",
      "\n"
     ]
    },
    {
     "data": {
      "text/plain": [
       "<matplotlib.axes._subplots.AxesSubplot at 0x238923b7908>"
      ]
     },
     "execution_count": 76,
     "metadata": {},
     "output_type": "execute_result"
    },
    {
     "data": {
      "image/png": "[encoded data removed]",
      "text/plain": [
       "<Figure size 432x288 with 2 Axes>"
      ]
     },
     "metadata": {},
     "output_type": "display_data"
    }
   ],
   "source": [
    "#Testing Accuracy on Test data\n",
    "from sklearn.linear_model import LogisticRegression\n",
    "\n",
    "clf = LogisticRegression(C= 5, penalty= 'l1')\n",
    "clf.fit(X_train,y_train)\n",
    "y_pred = clf.predict(X_test)\n",
    "print(\"Accuracy on test set: %0.3f%%\"%(accuracy_score(y_test, y_pred)*100))\n",
    "print(\"Precision on test set: %0.3f\"%(precision_score(y_test, y_pred)))\n",
    "print(\"Recall on test set: %0.3f\"%(recall_score(y_test, y_pred)))\n",
    "print(\"F1-Score on test set: %0.3f\"%(f1_score(y_test, y_pred)))\n",
    "print(\"Non Zero weights:\",np.count_nonzero(clf.coef_))\n",
    "print(\"Confusion Matrix of test set:\\n [ [TN  FP]\\n [FN TP] ]\\n\")\n",
    "df_cm = pd.DataFrame(confusion_matrix(y_test, y_pred), range(2),range(2))\n",
    "sns.set(font_scale=1.4)#for label size\n",
    "sns.heatmap(df_cm, annot=True,annot_kws={\"size\": 16}, fmt='g')"
   ]
  },
  {
   "cell_type": "markdown",
   "metadata": {},
   "source": [
    "Perturbation Test"
   ]
  },
  {
   "cell_type": "code",
   "execution_count": 77,
   "metadata": {},
   "outputs": [
    {
     "name": "stdout",
     "output_type": "stream",
     "text": [
      "Accuracy on test set: 92.907%\n",
      "Non Zero weights: 1066892\n"
     ]
    }
   ],
   "source": [
    "from sklearn.linear_model import LogisticRegression\n",
    "\n",
    "clf = LogisticRegression(C= 500, penalty= 'l2')\n",
    "clf.fit(X_train,y_train)\n",
    "y_pred = clf.predict(X_test)\n",
    "print(\"Accuracy on test set: %0.3f%%\"%(accuracy_score(y_test, y_pred)*100))\n",
    "print(\"Non Zero weights:\",np.count_nonzero(clf.coef_))"
   ]
  },
  {
   "cell_type": "code",
   "execution_count": 78,
   "metadata": {},
   "outputs": [
    {
     "name": "stdout",
     "output_type": "stream",
     "text": [
      "[ 1.20816701e+00  9.38765695e-02  5.17757266e-01  5.53209722e-01\n",
      "  2.92320872e-03  2.92320872e-03 -6.74452688e-01 -6.74452688e-01\n",
      "  1.55250325e-02  1.55250325e-02  5.55327019e-02  5.55327019e-02\n",
      "  5.55327019e-02  5.55327019e-02  1.70719600e-02  1.70719600e-02\n",
      "  4.63536584e-02  4.63536584e-02  1.60534798e-02  1.60534798e-02\n",
      "  5.75583594e-02  5.75583594e-02  3.82398203e-02  3.82398203e-02\n",
      "  3.15058285e-03  3.15058285e-03  5.55680118e-03  2.26184732e-01\n",
      "  2.26184732e-01  2.30564952e-02  1.77816921e-02  2.07475970e-01\n",
      " -2.00717268e-01  1.73803888e-02  1.73803888e-02  3.56346277e-02\n",
      "  3.56346277e-02 -4.28928023e-01 -4.28928023e-01  3.62447592e-02\n",
      "  3.62447592e-02  8.90369074e-02  7.44945859e-02  1.78071518e-02\n",
      "  4.20985128e-01  4.20985128e-01  8.08028408e-01  8.53080730e-04\n",
      "  2.78650420e-01  5.57300839e-01]\n"
     ]
    }
   ],
   "source": [
    "from scipy.sparse import find\n",
    "#Weights before adding random noise\n",
    "weights1 = find(clf.coef_[0])[2]\n",
    "print(weights1[:50])"
   ]
  },
  {
   "cell_type": "code",
   "execution_count": 79,
   "metadata": {},
   "outputs": [
    {
     "name": "stdout",
     "output_type": "stream",
     "text": [
      "[-0.67445269 -0.67445269 -0.20071727 ... -1.20979016 -0.48444084\n",
      " -0.48444084]\n"
     ]
    }
   ],
   "source": [
    "print(weights1[weights1<=0.0001])"
   ]
  },
  {
   "cell_type": "code",
   "execution_count": 80,
   "metadata": {},
   "outputs": [],
   "source": [
    "X_train_t = X_train\n",
    "#Random noise\n",
    "epsilon = np.random.uniform(low=-0.0001, high=0.0001, size=(find(X_train_t)[0].size,))\n",
    "#Getting the postions(row and column) and value of non-zero datapoints \n",
    "a,b,c = find(X_train_t)\n",
    "\n",
    "#Introducing random noise to non-zero datapoints\n",
    "X_train_t[a,b] = epsilon + X_train_t[a,b]"
   ]
  },
  {
   "cell_type": "code",
   "execution_count": 81,
   "metadata": {},
   "outputs": [
    {
     "name": "stdout",
     "output_type": "stream",
     "text": [
      "Accuracy on test set: 92.683%\n",
      "Non Zero weights: 1066892\n"
     ]
    }
   ],
   "source": [
    "#Training on train data having random noise\n",
    "from sklearn.linear_model import LogisticRegression\n",
    "\n",
    "clf = LogisticRegression(C= 10, penalty= 'l2')\n",
    "clf.fit(X_train_t,y_train)\n",
    "y_pred = clf.predict(X_test)\n",
    "print(\"Accuracy on test set: %0.3f%%\"%(accuracy_score(y_test, y_pred)*100))\n",
    "print(\"Non Zero weights:\",np.count_nonzero(clf.coef_))"
   ]
  },
  {
   "cell_type": "code",
   "execution_count": 82,
   "metadata": {},
   "outputs": [
    {
     "name": "stdout",
     "output_type": "stream",
     "text": [
      "[ 4.24785125e-01  4.53498601e-02  1.65247823e-01  1.85965491e-01\n",
      "  6.71829405e-04  6.71324053e-04 -2.53574115e-01 -2.53395328e-01\n",
      "  9.69315139e-03  9.68622721e-03  1.89896910e-02  1.89618380e-02\n",
      "  1.89165895e-02  1.89794169e-02  1.07029850e-02  1.06993201e-02\n",
      "  2.71921331e-02  2.71700551e-02  7.66728731e-03  7.69270957e-03\n",
      "  2.69534482e-02  2.69515313e-02  1.92176032e-02  1.92205658e-02\n",
      "  1.38266202e-03  1.38294828e-03  3.24149748e-03  8.71115923e-02\n",
      "  8.71019177e-02  1.04469702e-02  1.05652614e-02  6.66340688e-02\n",
      " -6.59101009e-02  1.09499594e-02  1.09464881e-02  2.11104412e-02\n",
      "  2.11211841e-02 -1.76134912e-01 -1.76221298e-01  2.17046458e-02\n",
      "  2.17109160e-02  4.42320383e-02  3.49966193e-02  1.08862297e-02\n",
      "  1.38557963e-01  1.38567264e-01  2.98443742e-01  1.52541971e-04\n",
      "  1.03016765e-01  2.06186618e-01]\n"
     ]
    }
   ],
   "source": [
    "from scipy.sparse import find\n",
    "#Weights after adding random noise\n",
    "weights2 = find(clf.coef_[0])[2]\n",
    "print(weights2[:50])"
   ]
  },
  {
   "cell_type": "code",
   "execution_count": 83,
   "metadata": {},
   "outputs": [
    {
     "name": "stdout",
     "output_type": "stream",
     "text": [
      "1066892\n"
     ]
    }
   ],
   "source": [
    "print(weights2.size)"
   ]
  },
  {
   "cell_type": "code",
   "execution_count": 84,
   "metadata": {},
   "outputs": [],
   "source": [
    "weights_diff = (abs(weights1 - weights2)/weights1) * 100"
   ]
  },
  {
   "cell_type": "code",
   "execution_count": 85,
   "metadata": {},
   "outputs": [
    {
     "name": "stdout",
     "output_type": "stream",
     "text": [
      "809309\n"
     ]
    }
   ],
   "source": [
    "print(weights_diff[np.where(weights_diff > 30)].size)"
   ]
  },
  {
   "cell_type": "markdown",
   "metadata": {},
   "source": [
    "\n",
    "\n",
    "531188 features have weight changes greater than 30%. Hence the features are multicollinear\n",
    "Feature Importance[Top 25]"
   ]
  },
  {
   "cell_type": "code",
   "execution_count": 86,
   "metadata": {},
   "outputs": [
    {
     "name": "stdout",
     "output_type": "stream",
     "text": [
      "\t\t\tPositive\t\t\t\t\t\tNegative\n",
      "________________________________________________________________________________________________\n",
      "\t-20.6065\tdisappoint     \t\t\t\t21.6930\tgreat          \n",
      "\t-16.5653\tworst          \t\t\t\t18.4893\tbest           \n",
      "\t-14.2974\tterribl        \t\t\t\t18.4624\tdelici         \n",
      "\t-13.8435\tnot            \t\t\t\t17.4984\tlove           \n",
      "\t-13.0087\taw             \t\t\t\t15.2083\tperfect        \n",
      "\t-12.4238\tnot worth      \t\t\t\t14.2617\tgood           \n",
      "\t-12.2793\thorribl        \t\t\t\t13.3432\tnot disappoint \n",
      "\t-12.1922\treturn         \t\t\t\t12.2458\texcel          \n",
      "\t-11.5883\tnot good       \t\t\t\t12.1149\tfavorit        \n",
      "\t-11.4083\tunfortun       \t\t\t\t12.0257\tnice           \n",
      "\t-10.6083\tbland          \t\t\t\t10.9851\thappi          \n",
      "\t-10.3454\tnot recommend  \t\t\t\t10.7168\tamaz           \n",
      "\t-9.7239\tstale          \t\t\t\t10.5353\thigh recommend \n",
      "\t-9.5233\tdisgust        \t\t\t\t9.8379\ttasti          \n",
      "\t-9.4237\tnot buy        \t\t\t\t9.3881\tkeep           \n",
      "\t-9.3139\tweak           \t\t\t\t9.2474\twonder         \n",
      "\t-9.2798\twast           \t\t\t\t8.7465\taddict         \n",
      "\t-8.9000\trip            \t\t\t\t8.5774\tawesom         \n",
      "\t-8.7313\tnasti          \t\t\t\t8.3620\tnot bad        \n",
      "\t-8.5183\tthrew          \t\t\t\t8.2181\tdefinit        \n",
      "\t-8.3626\twont buy       \t\t\t\t8.1313\tyummi          \n",
      "\t-8.1682\tthought        \t\t\t\t8.1260\tsmooth         \n",
      "\t-8.0427\truin           \t\t\t\t8.1096\tsatisfi        \n",
      "\t-7.7943\tbad            \t\t\t\t8.0715\teasi           \n",
      "\t-7.7452\twast money     \t\t\t\t7.8806\twont disappoint\n"
     ]
    }
   ],
   "source": [
    "def show_most_informative_features(vectorizer, clf, n=25):\n",
    "    feature_names = vectorizer.get_feature_names()\n",
    "    coefs_with_fns = sorted(zip(clf.coef_[0], feature_names))\n",
    "    top = zip(coefs_with_fns[:n], coefs_with_fns[:-(n + 1):-1])\n",
    "    print(\"\\t\\t\\tPositive\\t\\t\\t\\t\\t\\tNegative\")\n",
    "    print(\"________________________________________________________________________________________________\")\n",
    "    for (coef_1, fn_1), (coef_2, fn_2) in top:\n",
    "        print(\"\\t%.4f\\t%-15s\\t\\t\\t\\t%.4f\\t%-15s\" % (coef_1, fn_1, coef_2, fn_2))\n",
    "        \n",
    "show_most_informative_features(tfidf,clf)"
   ]
  },
  {
   "cell_type": "code",
   "execution_count": null,
   "metadata": {},
   "outputs": [],
   "source": []
  },
  {
   "cell_type": "markdown",
   "metadata": {
    "colab_type": "text",
    "id": "FvLejEvqMQwY"
   },
   "source": [
    "# [7.2.6] Word2Vec"
   ]
  },
  {
   "cell_type": "code",
   "execution_count": 87,
   "metadata": {
    "colab": {},
    "colab_type": "code",
    "id": "3bh2VdnDMQwa"
   },
   "outputs": [],
   "source": [
    "# Using Google News Word2Vectors\n",
    "\n",
    "# in this project we are using a pretrained model by google\n",
    "# its 3.3G file, once you load this into your memory \n",
    "# it occupies ~9Gb, so please do this step only if you have >12G of ram\n",
    "# we will provide a pickle file wich contains a dict , \n",
    "# and it contains all our courpus words as keys and  model[word] as values\n",
    "# To use this code-snippet, download \"GoogleNews-vectors-negative300.bin\" \n",
    "# from https://drive.google.com/file/d/0B7XkCwpI5KDYNlNUTTlSS21pQmM/edit\n",
    "# it's 1.9GB in size.\n",
    "\n",
    "\n",
    "# http://kavita-ganesan.com/gensim-word2vec-tutorial-starter-code/#.W17SRFAzZPY\n",
    "# you can comment this whole cell\n",
    "# or change these varible according to your need\n",
    "is_your_ram_gt_16g=False\n",
    "want_to_read_sub_set_of_google_w2v = True\n",
    "want_to_read_whole_google_w2v = True\n",
    "if not is_your_ram_gt_16g:\n",
    "    if want_to_read_sub_set_of_google_w2v and  os.path.isfile('google_w2v_for_amazon.pkl'):\n",
    "        with open('google_w2v_for_amazon.pkl', 'rb') as f:\n",
    "            # model is dict object, you can directly access any word vector using model[word]\n",
    "            model = pickle.load(f)\n",
    "else:\n",
    "    if want_to_read_whole_google_w2v and os.path.isfile('GoogleNews-vectors-negative300.bin'):\n",
    "        model = KeyedVectors.load_word2vec_format('GoogleNews-vectors-negative300.bin', binary=True)\n",
    "\n",
    "# print(\"the vector representation of word 'computer'\",model.wv['computer'])\n",
    "# print(\"the similarity between the words 'woman' and 'man'\",model.wv.similarity('woman', 'man'))\n",
    "# print(\"the most similar words to the word 'woman'\",model.wv.most_similar('woman'))\n",
    "# this will raise an error\n",
    "# model.wv.most_similar('tasti')  # \"tasti\" is the stemmed word for tasty, tastful"
   ]
  },
  {
   "cell_type": "code",
   "execution_count": 88,
   "metadata": {},
   "outputs": [],
   "source": [
    "final_string = []\n",
    "for sent in final['CleanedText'].values:\n",
    "    sent = str(sent)\n",
    "    sentence=[]\n",
    "#     print(sent)\n",
    "    for word in sent.split():\n",
    "#         print(word)\n",
    "        sentence.append(word)\n",
    "#         print(sentence)\n",
    "    final_string.append(sentence)"
   ]
  },
  {
   "cell_type": "code",
   "execution_count": 89,
   "metadata": {},
   "outputs": [
    {
     "name": "stdout",
     "output_type": "stream",
     "text": [
      "Wall time: 2.25 s\n"
     ]
    }
   ],
   "source": [
    "%%time\n",
    "# Train your own Word2Vec model using your own text corpus\n",
    "import gensim\n",
    "\n",
    "w2v_model=gensim.models.Word2Vec(final_string,min_count=5,size=50, workers=-1)\n",
    "#min-count: Ignoring the words which occurs less than 5 times\n",
    "#size:Creating vectors of size 50 for each word\n",
    "#workers: Use these many worker threads to train the model (faster training with multicore machines)"
   ]
  },
  {
   "cell_type": "code",
   "execution_count": 90,
   "metadata": {},
   "outputs": [],
   "source": [
    "w2v_model.save('w2vmodel')"
   ]
  },
  {
   "cell_type": "code",
   "execution_count": 91,
   "metadata": {},
   "outputs": [],
   "source": [
    "w2v_model = gensim.models.Word2Vec.load('w2vmodel')"
   ]
  },
  {
   "cell_type": "code",
   "execution_count": 92,
   "metadata": {},
   "outputs": [
    {
     "data": {
      "text/plain": [
       "17003"
      ]
     },
     "execution_count": 92,
     "metadata": {},
     "output_type": "execute_result"
    }
   ],
   "source": [
    "w2v_vocub = w2v_model.wv.vocab\n",
    "len(w2v_vocub)"
   ]
  },
  {
   "cell_type": "code",
   "execution_count": 93,
   "metadata": {},
   "outputs": [
    {
     "data": {
      "text/plain": [
       "[('elicit', 0.505842387676239),\n",
       " ('mercken', 0.48501843214035034),\n",
       " ('goo', 0.47896409034729004),\n",
       " ('casino', 0.46993979811668396),\n",
       " ('placebo', 0.46269136667251587),\n",
       " ('gusher', 0.4538058638572693),\n",
       " (\"man'\", 0.44946178793907166),\n",
       " ('individu', 0.44511187076568604),\n",
       " ('ppm', 0.4363514184951782),\n",
       " ('fahrenheit', 0.43372035026550293)]"
      ]
     },
     "execution_count": 93,
     "metadata": {},
     "output_type": "execute_result"
    }
   ],
   "source": [
    "w2v_model.wv.most_similar('like')"
   ]
  },
  {
   "cell_type": "markdown",
   "metadata": {},
   "source": [
    "avg w2c"
   ]
  },
  {
   "cell_type": "code",
   "execution_count": 94,
   "metadata": {},
   "outputs": [
    {
     "name": "stdout",
     "output_type": "stream",
     "text": [
      "sent: [\"b'beetlejuic\", 'well', 'written', 'movi', 'everyth', 'excel', 'act', 'special', 'effect', 'delight', 'chose', 'view', \"movi'\"]\n",
      "wvec: [ 7.5316434e-03  5.5963541e-03  3.3668838e-03 -4.2805593e-03\n",
      " -2.9120480e-03 -3.2141963e-03  8.4102614e-04 -9.5801363e-03\n",
      "  4.4790427e-03 -6.5345623e-05 -2.4252303e-03  5.1468466e-03\n",
      " -2.9293478e-03 -2.4146333e-03 -3.6520234e-03  7.7118026e-03\n",
      "  2.6485333e-03  8.3531179e-03  8.4725358e-03 -1.6064959e-03\n",
      " -3.2234262e-04  7.3426478e-03 -4.1665654e-03 -4.8202211e-03\n",
      "  2.6336233e-03  6.5445341e-03 -1.8406125e-03  1.7445676e-03\n",
      "  7.4103847e-03  9.8837344e-03  8.1946589e-03 -5.6885593e-03\n",
      "  3.5055701e-03  3.7598643e-03 -5.1132976e-03 -2.4040823e-03\n",
      "  4.0212716e-03  9.6622752e-03 -8.9411583e-04  4.6861535e-03\n",
      "  5.2383342e-03  3.2225323e-03 -9.9584255e-03  6.7928801e-03\n",
      "  9.4951373e-03  2.0522028e-04  1.9341683e-03  9.5971152e-03\n",
      "  3.8014690e-03 -5.0387639e-03]\n",
      "wvec: [ 0.0062303  -0.00597255 -0.00167299  0.00761241  0.00425581  0.0007935\n",
      "  0.00563108  0.00223005 -0.00241561  0.00443822 -0.00521448 -0.00335239\n",
      " -0.00674575  0.00157515 -0.00966844 -0.00269526 -0.00870771 -0.00721579\n",
      " -0.00292844 -0.00677466 -0.0090996  -0.00175339  0.00070245 -0.00873966\n",
      " -0.00167913 -0.00055721  0.00587782 -0.00595209 -0.00379053 -0.00360171\n",
      " -0.00719947  0.00832983  0.00369808  0.00743726 -0.00510108 -0.00276072\n",
      "  0.0071754   0.00651868  0.00276114  0.00454873  0.00436442 -0.00043263\n",
      " -0.00038974 -0.00820564  0.00889142 -0.00692864 -0.00477908  0.00404112\n",
      " -0.00847421 -0.00388277]\n",
      "wvec: [ 0.00473429 -0.00432559  0.00888947 -0.00130326  0.00026228  0.00455124\n",
      "  0.00524283  0.00268148  0.00859919 -0.00621311 -0.00678845  0.00553927\n",
      "  0.00393203 -0.00880966  0.00700053  0.00738114  0.00410462 -0.00214055\n",
      "  0.00422865 -0.00518248  0.0087522  -0.00419207  0.0065405  -0.00084523\n",
      "  0.00852265  0.00836512 -0.00426066  0.00730008 -0.00773146  0.00053497\n",
      "  0.00086156 -0.00543835 -0.00811891  0.00872281  0.00278318 -0.00222273\n",
      "  0.00272672 -0.00056601  0.00450592 -0.00220755 -0.00758673 -0.00469824\n",
      " -0.00124795  0.00768825 -0.00892059  0.00129009 -0.00444512 -0.00813737\n",
      "  0.00126782  0.00224267]\n",
      "wvec: [ 4.5095719e-03 -6.4899093e-03  5.6081559e-03  3.8766586e-03\n",
      " -6.0618371e-03 -2.5681062e-03 -7.9199061e-04 -8.0091422e-03\n",
      " -5.0254115e-03 -2.8989036e-03  5.5673206e-03 -4.9689496e-03\n",
      " -3.5793015e-03  7.8219855e-03 -8.5966187e-03  9.9931993e-03\n",
      " -8.4947729e-03  8.2591865e-03 -4.1081994e-03  7.1944594e-03\n",
      "  6.1266421e-04 -2.9691251e-03 -9.5216380e-03  5.4523274e-03\n",
      " -7.1827690e-03  9.2697144e-03  3.6104468e-03 -5.4230512e-04\n",
      " -3.9611738e-03 -1.3489845e-03  3.3318452e-03 -3.8769685e-03\n",
      "  4.2697452e-03  7.0588323e-03  9.1529228e-03 -4.7448167e-04\n",
      "  1.5993133e-03 -4.7830354e-06 -2.8012898e-03 -9.6282689e-03\n",
      " -5.8816960e-03 -4.6758982e-03  9.7062951e-03 -2.2571879e-03\n",
      " -8.8817338e-03  4.2274312e-04  6.7678997e-03 -1.3589896e-03\n",
      " -7.0172306e-03 -5.6192488e-03]\n",
      "wvec: [ 3.0060907e-04 -5.8875536e-03  3.7181184e-03  4.8650247e-03\n",
      " -3.5373289e-03  8.6847404e-03 -3.0187238e-03 -2.2307900e-03\n",
      " -9.7255418e-03  4.0286561e-03 -9.2539407e-04  1.1739791e-03\n",
      "  9.5451493e-03 -4.9703161e-05  2.1732890e-03 -8.8962829e-03\n",
      " -9.3951263e-03 -9.8778810e-03 -3.0715262e-05 -4.6215761e-03\n",
      " -8.4061073e-03 -1.8087158e-03 -8.8139361e-04  2.7413089e-03\n",
      "  2.5801298e-03  4.1097673e-03  8.3922883e-03  2.1764346e-04\n",
      " -6.7731715e-04  4.8162974e-03  3.9455292e-04 -6.5212464e-04\n",
      "  5.6876121e-03 -8.0780108e-03  2.6000247e-03 -6.5963687e-03\n",
      " -7.2826655e-03 -7.6679867e-03 -3.3727903e-03  3.0300766e-03\n",
      " -7.9105506e-03 -1.4934652e-03 -2.8764317e-03 -9.4889533e-03\n",
      " -6.9505777e-03 -7.4500553e-03 -3.1079161e-03 -8.6187478e-03\n",
      "  6.4560482e-03 -7.6430500e-04]\n",
      "wvec: [ 3.7978301e-03 -8.0496417e-03 -9.6633509e-03  1.9607591e-03\n",
      " -2.5780702e-03  5.6981849e-03  8.0029685e-03  7.6441695e-03\n",
      "  3.0477701e-03  6.7917919e-03 -8.5329775e-05 -5.9598014e-03\n",
      "  5.0039622e-03 -7.4178153e-03  4.7179400e-03 -3.1379298e-03\n",
      " -2.4938360e-03 -7.9025858e-04  7.8606177e-03  8.7028285e-03\n",
      "  5.0849607e-03 -5.0176634e-03 -8.9798355e-03  3.4400770e-03\n",
      " -6.3702543e-03  3.3719405e-03  3.4410576e-03  5.8270828e-03\n",
      "  2.4375448e-03  1.7114796e-03  8.2895532e-03 -9.9391611e-03\n",
      " -6.9124037e-03 -5.1377225e-03 -7.5820582e-03  9.1331517e-03\n",
      " -9.0294760e-03 -8.0591291e-03 -6.6426471e-03 -1.0054836e-03\n",
      " -2.3939228e-03 -7.1021989e-03  5.5230036e-03 -9.2088440e-03\n",
      " -9.6760374e-03 -1.7820607e-04 -3.6973238e-03  4.6588192e-03\n",
      "  2.2204805e-03 -6.0341973e-03]\n",
      "wvec: [-2.8632500e-04 -3.0244247e-03 -9.9515636e-03 -7.1771038e-03\n",
      " -5.8133486e-05  5.2810702e-03  2.7924734e-03 -6.1654518e-03\n",
      "  1.2639015e-03 -6.3813357e-03  8.2568955e-03  9.8715751e-03\n",
      " -6.3011730e-03  8.4013548e-03 -9.2059402e-03  8.3531933e-03\n",
      "  3.8436113e-03 -6.5141469e-03 -9.4960509e-03 -9.5615434e-03\n",
      "  5.6432290e-03 -7.1857817e-04 -6.8998936e-04 -4.6838634e-03\n",
      "  9.9717416e-03 -1.1671970e-03 -2.6010231e-03  3.2500881e-03\n",
      "  7.4030543e-03 -2.4745855e-03 -7.3880638e-04  2.2596822e-03\n",
      "  2.9932449e-03 -6.1468137e-03  6.3476460e-03  4.3840250e-03\n",
      "  7.5927731e-03  5.7223048e-03  9.1047296e-03 -9.5257387e-03\n",
      "  5.1390897e-03 -4.0382361e-03 -2.3532927e-03  7.5115967e-03\n",
      " -5.5582100e-03  4.9098111e-03 -9.9201163e-04  1.4787003e-03\n",
      "  8.2014063e-03 -1.1571812e-03]\n",
      "wvec: [ 0.00200054 -0.00537521  0.00250006 -0.00872205  0.00650441  0.00718453\n",
      "  0.0010402   0.00580522 -0.0021135  -0.00464546  0.00263448  0.0071246\n",
      " -0.00457035  0.00289786 -0.0052138  -0.00086755  0.00053082  0.00538889\n",
      "  0.00081896 -0.00870063 -0.00366374 -0.00559314  0.00048912  0.00128349\n",
      " -0.00794695 -0.00380207 -0.00855711  0.00968252 -0.00734993  0.00809436\n",
      "  0.00800629  0.00345511  0.00922965 -0.00121013  0.00751007 -0.00118287\n",
      "  0.00284591  0.00374673  0.00122054 -0.00676544  0.00431226 -0.009995\n",
      " -0.0080783   0.0040245   0.00096359  0.00999074  0.00101656  0.00844707\n",
      " -0.00443886 -0.00099978]\n",
      "wvec: [ 1.8987809e-03  5.5193468e-03 -2.4944309e-03  9.4789770e-03\n",
      "  8.7085040e-03 -2.4922807e-03  5.2426672e-03  9.0760812e-03\n",
      " -4.1225143e-03 -4.1835094e-03  4.0439451e-03  5.7215006e-03\n",
      "  5.5076834e-03  4.4252477e-03  1.0238616e-03  9.3645947e-03\n",
      "  8.5795540e-03  4.7876230e-03  8.8426797e-03  4.0741828e-03\n",
      " -6.3842133e-04  8.9336660e-05  3.0313670e-03  5.9367837e-03\n",
      "  9.3322489e-03  7.8859413e-03 -1.6971350e-03 -2.8722463e-03\n",
      " -9.9751935e-04 -2.9703609e-03  1.4401509e-03 -6.3490649e-03\n",
      " -4.6445145e-03 -9.6057830e-03  1.1190281e-04 -1.1396442e-03\n",
      " -8.1800316e-03  1.6702787e-04 -5.6169853e-03 -3.7233059e-03\n",
      " -6.9855046e-03 -1.3190442e-03 -6.3618034e-04 -8.3387606e-03\n",
      "  2.4889139e-03  5.2610515e-03 -5.6420607e-03  4.0863929e-04\n",
      "  6.8307123e-03  4.2793467e-03]\n",
      "wvec: [ 0.00259281 -0.00699653 -0.00301195 -0.003045    0.00667981  0.00496276\n",
      "  0.00554574  0.00143749  0.00197145 -0.00385109 -0.00015962 -0.00644212\n",
      "  0.00813979 -0.00564117  0.00029612 -0.00070635  0.00509419  0.00723917\n",
      "  0.00485527 -0.00781425 -0.00173562 -0.00443661  0.0036715   0.00875372\n",
      "  0.00917172 -0.00227224  0.00388693 -0.00038582 -0.00451253 -0.00599087\n",
      "  0.00117908 -0.00630533  0.00046895 -0.00026645  0.00586162  0.00209193\n",
      "  0.00423994  0.0007271   0.00583274  0.00157551 -0.00574212 -0.00947671\n",
      "  0.00162623 -0.00868561 -0.0040452   0.0083542   0.00752546 -0.00791858\n",
      "  0.00772689  0.00480499]\n",
      "wvec: [ 0.0064986  -0.00493456  0.00247019 -0.00281475 -0.00848914 -0.00401217\n",
      " -0.00748577  0.00599264  0.001254    0.00822133  0.00079752  0.00888237\n",
      "  0.00435517 -0.00939227 -0.0044662  -0.00013512  0.00039816  0.00652667\n",
      " -0.00908035  0.0001004   0.0012032  -0.00497699  0.00352573  0.00101759\n",
      " -0.00314303  0.00256285 -0.00592789 -0.00406969  0.00075289  0.00749066\n",
      "  0.0087329  -0.00264051 -0.00091318  0.00672594  0.00202782 -0.00622979\n",
      " -0.00388543 -0.00249438  0.00886764 -0.0061241   0.00066449  0.00891347\n",
      " -0.00800577 -0.0081115   0.00085857  0.00754021  0.00075858 -0.00015076\n",
      "  0.00805202 -0.00726425]\n",
      "wvec: [-6.4568566e-03  1.5457364e-03 -7.7477070e-03  5.9870197e-03\n",
      " -1.5295756e-03 -7.6666763e-03  6.6362298e-03 -9.8352255e-03\n",
      " -6.8665333e-03 -4.1983859e-03 -8.4584514e-03 -1.4729651e-03\n",
      "  7.6046172e-03 -2.0682951e-03  8.2423203e-03 -5.3497590e-03\n",
      "  3.9259801e-03  4.1146248e-04 -6.0952157e-03  7.1127921e-05\n",
      "  2.8415766e-04  1.7258573e-04  8.4999325e-03 -5.9836074e-03\n",
      "  7.5349933e-03 -3.3960849e-04 -7.7570057e-03  6.5177847e-03\n",
      "  7.7350759e-03 -3.5959017e-03 -5.3252638e-03  8.8791326e-03\n",
      "  3.0616901e-03 -8.3740745e-03  5.7439720e-03 -3.7633488e-03\n",
      "  5.0754133e-03  6.3204701e-04  2.4949519e-03 -6.9472999e-03\n",
      " -9.1385590e-03 -2.7261095e-03 -3.0598245e-03 -3.4321025e-03\n",
      " -9.2140585e-04  8.5217124e-03  1.8882910e-03 -7.3331981e-03\n"
     ]
    },
    {
     "name": "stdout",
     "output_type": "stream",
     "text": [
      "  4.3916716e-03 -2.7027524e-03]\n",
      "wvec: [ 4.3092440e-03 -3.2940528e-03  5.0991843e-03 -5.9517068e-03\n",
      "  4.5143245e-03 -7.4505043e-04 -6.6505536e-03 -2.9312579e-03\n",
      "  5.9747184e-03  1.1354795e-03  6.3280808e-03  2.0548713e-03\n",
      " -6.1560292e-03 -5.1729265e-03  5.8165258e-03  7.1112742e-03\n",
      "  1.1806840e-04 -5.5588367e-03 -2.4084435e-04 -3.5781264e-03\n",
      " -3.1389508e-03 -8.8799186e-03 -3.9593000e-03  4.6442486e-03\n",
      "  8.4536495e-03  1.5066774e-03  3.7034566e-03 -5.9905309e-05\n",
      " -7.3028961e-03  6.8518403e-03  5.4807654e-03 -7.3600304e-03\n",
      "  4.0080664e-03  5.6732949e-03 -7.1108616e-03  5.9694420e-03\n",
      "  3.9995792e-03 -4.7078016e-03 -9.4131362e-03 -7.2243414e-03\n",
      "  6.4578322e-03 -2.2723537e-03  7.9880320e-03 -8.0465740e-03\n",
      " -4.1971579e-03 -7.9078861e-03  4.6546054e-03  3.3289910e-04\n",
      " -7.6149325e-03 -5.7071443e-03]\n",
      "sent_vec: [ 0.03766104 -0.04168858 -0.00288994  0.00048642  0.00575901  0.01645754\n",
      "  0.02302818 -0.00388488 -0.00367903 -0.00782165  0.00357128  0.02331879\n",
      "  0.01380644 -0.01584488 -0.01153244  0.02812694  0.00015209  0.00886866\n",
      "  0.00309889 -0.02769676 -0.00542437 -0.03274164 -0.00173811  0.00819697\n",
      "  0.03187863  0.03547822 -0.00372943  0.02065772 -0.0105844   0.01940093\n",
      "  0.03264782 -0.02532633  0.0163336   0.00055901  0.01723187 -0.00519549\n",
      "  0.01089872  0.00367608  0.0060467  -0.03931104 -0.01946267 -0.03609388\n",
      " -0.01176235 -0.03975794 -0.02645328  0.02403099  0.00188206 -0.00455328\n",
      "  0.02140328 -0.02784338]\n",
      "avg_vec: [ 2.89700287e-03 -3.20681379e-03 -2.22302749e-04  3.74167620e-05\n",
      "  4.43000399e-04  1.26596491e-03  1.77139865e-03 -2.98836564e-04\n",
      " -2.83002155e-04 -6.01665669e-04  2.74714213e-04  1.79375285e-03\n",
      "  1.06203409e-03 -1.21883670e-03 -8.87110742e-04  2.16361081e-03\n",
      "  1.16990061e-05  6.82204427e-04  2.38375878e-04 -2.13052034e-03\n",
      " -4.17259049e-04 -2.51858761e-03 -1.33701152e-04  6.30535915e-04\n",
      "  2.45220232e-03  2.72909393e-03 -2.86879519e-04  1.58905524e-03\n",
      " -8.14184645e-04  1.49237957e-03  2.51137101e-03 -1.94817892e-03\n",
      "  1.25643101e-03  4.30009252e-05  1.32552824e-03 -3.99652855e-04\n",
      "  8.38363104e-04  2.82775607e-04  4.65130590e-04 -3.02392639e-03\n",
      " -1.49712823e-03 -2.77645204e-03 -9.04796067e-04 -3.05830318e-03\n",
      " -2.03486757e-03  1.84853783e-03  1.44773776e-04 -3.50252433e-04\n",
      "  1.64640613e-03 -2.14179839e-03]\n",
      "*******************************************************************\n",
      "Wall time: 138 ms\n"
     ]
    }
   ],
   "source": [
    "%%time\n",
    "avg_vec = [] #List to store all the avg w2vec's \n",
    "for sent in final_string[0:1]:\n",
    "    cnt = 0 #to count no of words in each reviews\n",
    "    sent_vec = np.zeros(50) #Initializing with zeroes\n",
    "    print(\"sent:\",sent) \n",
    "    for word in sent:\n",
    "        try:\n",
    "            wvec = w2v_model.wv[word] #Vector of each using w2v model\n",
    "            print(\"wvec:\",wvec)\n",
    "            sent_vec += wvec #Adding the vectors \n",
    "            cnt += 1\n",
    "        except: \n",
    "            pass #When the word is not in the dictionary then do nothing \n",
    "    print(\"sent_vec:\",sent_vec)    \n",
    "    a_vec =sent_vec / cnt #Taking average of vectors sum of the particular review\n",
    "    print(\"avg_vec:\",a_vec)\n",
    "    avg_vec.append(a_vec) #Storing the avg w2vec's for each review\n",
    "    print(\"*******************************************************************\")"
   ]
  },
  {
   "cell_type": "code",
   "execution_count": 95,
   "metadata": {},
   "outputs": [
    {
     "name": "stdout",
     "output_type": "stream",
     "text": [
      "Wall time: 28.8 s\n"
     ]
    }
   ],
   "source": [
    "%%time\n",
    "np.seterr(divide='ignore', invalid='ignore')\n",
    "avg_vec = [] #List to store all the avg w2vec's \n",
    "for sent in final_string:\n",
    "    cnt = 0 #to count no of words in each reviews\n",
    "    sent_vec = np.zeros(50) #Initializing with zeroes\n",
    "    for word in sent:\n",
    "        try:\n",
    "            wvec = w2v_model.wv[word] #Vector of each using w2v model\n",
    "            sent_vec += wvec #Adding the vectors \n",
    "            cnt += 1\n",
    "        except: \n",
    "            pass #When the word is not in the dictionary then do nothing \n",
    "    sent_vec /= cnt #Taking average of vectors sum of the particular review\n",
    "    avg_vec.append(sent_vec) #Storing the avg w2vec's for each review\n",
    "    #print(\"*******************************************************************\")\n",
    "    # Average Word2Vec"
   ]
  },
  {
   "cell_type": "code",
   "execution_count": 96,
   "metadata": {},
   "outputs": [],
   "source": [
    "savetofile(avg_vec,\"avg_w2v_vec\")"
   ]
  },
  {
   "cell_type": "code",
   "execution_count": 97,
   "metadata": {},
   "outputs": [],
   "source": [
    "avg_vec = openfromfile(\"avg_w2v_vec\")"
   ]
  },
  {
   "cell_type": "code",
   "execution_count": 98,
   "metadata": {},
   "outputs": [
    {
     "data": {
      "text/plain": [
       "(100000, 50)"
      ]
     },
     "execution_count": 98,
     "metadata": {},
     "output_type": "execute_result"
    }
   ],
   "source": [
    "avg_vec = np.array(avg_vec)\n",
    "avg_vec.shape"
   ]
  },
  {
   "cell_type": "code",
   "execution_count": 99,
   "metadata": {},
   "outputs": [
    {
     "data": {
      "text/plain": [
       "True"
      ]
     },
     "execution_count": 99,
     "metadata": {},
     "output_type": "execute_result"
    }
   ],
   "source": [
    "np.isnan(avg_vec).any()"
   ]
  },
  {
   "cell_type": "code",
   "execution_count": 100,
   "metadata": {},
   "outputs": [
    {
     "name": "stdout",
     "output_type": "stream",
     "text": [
      "(99998, 50)\n",
      "(99998,)\n"
     ]
    }
   ],
   "source": [
    "mask = ~np.any(np.isnan(avg_vec), axis=1)\n",
    "# print(mask)\n",
    "avg_vec_new = avg_vec[mask]\n",
    "final_sample_new = final['Score'][mask]\n",
    "print(avg_vec_new.shape)\n",
    "print(final_sample_new.shape)"
   ]
  },
  {
   "cell_type": "code",
   "execution_count": 101,
   "metadata": {},
   "outputs": [],
   "source": [
    "from sklearn.model_selection import train_test_split\n",
    "from sklearn import preprocessing\n",
    "#Normalizing the data\n",
    "avg_vec_norm = preprocessing.normalize(avg_vec_new)\n",
    "\n",
    "#Not shuffling the data as we want it on time basis\n",
    "X_train, X_test, y_train, y_test = train_test_split(avg_vec_norm,final_sample_new.values,test_size=0.3,shuffle=False)"
   ]
  },
  {
   "cell_type": "code",
   "execution_count": 102,
   "metadata": {},
   "outputs": [
    {
     "name": "stdout",
     "output_type": "stream",
     "text": [
      "Wall time: 0 ns\n",
      "Fitting 10 folds for each of 30 candidates, totalling 300 fits\n"
     ]
    },
    {
     "name": "stderr",
     "output_type": "stream",
     "text": [
      "[Parallel(n_jobs=1)]: Done 300 out of 300 | elapsed:  1.7min finished\n"
     ]
    },
    {
     "name": "stdout",
     "output_type": "stream",
     "text": [
      "Best HyperParameter:  {'C': 0.5, 'penalty': 'l1'}\n",
      "Best Accuracy: 84.92%\n"
     ]
    }
   ],
   "source": [
    "%time\n",
    "from sklearn.model_selection import GridSearchCV\n",
    "from sklearn.linear_model import LogisticRegression\n",
    "\n",
    "clf = LogisticRegression()\n",
    "#params we need to try on classifier\n",
    "param_grid = {'C':[1000,500,100,50,10,5,1,0.5,0.1,0.05,0.01,0.005,0.001,0.0005,0.0001],\n",
    "             'penalty':['l1','l2']} \n",
    "tscv = TimeSeriesSplit(n_splits=10) #For time based splitting\n",
    "gsv = GridSearchCV(clf,param_grid,cv=tscv,verbose=1)\n",
    "gsv.fit(X_train,y_train)\n",
    "savetofile(gsv,\"Log Reg/gsv_w2v\")\n",
    "print(\"Best HyperParameter: \",gsv.best_params_)\n",
    "print(\"Best Accuracy: %.2f%%\"%(gsv.best_score_*100))"
   ]
  },
  {
   "cell_type": "code",
   "execution_count": 103,
   "metadata": {},
   "outputs": [
    {
     "data": {
      "image/png": "[encoded data removed]",
      "text/plain": [
       "<Figure size 432x288 with 1 Axes>"
      ]
     },
     "metadata": {},
     "output_type": "display_data"
    }
   ],
   "source": [
    "gsv = openfromfile(\"Log Reg/gsv_w2v\")\n",
    "plot_error_vs_c(gsv)"
   ]
  },
  {
   "cell_type": "code",
   "execution_count": 104,
   "metadata": {},
   "outputs": [
    {
     "name": "stdout",
     "output_type": "stream",
     "text": [
      "Accuracy on test set: 82.767%\n",
      "Precision on test set: 0.829\n",
      "Recall on test set: 0.998\n",
      "F1-Score on test set: 0.905\n",
      "Non Zero weights: 50\n",
      "Confusion Matrix of test set:\n",
      " [ [TN  FP]\n",
      " [FN TP] ]\n",
      "\n"
     ]
    },
    {
     "data": {
      "text/plain": [
       "<matplotlib.axes._subplots.AxesSubplot at 0x238d0e815f8>"
      ]
     },
     "execution_count": 104,
     "metadata": {},
     "output_type": "execute_result"
    },
    {
     "data": {
      "image/png": "[encoded data removed]",
      "text/plain": [
       "<Figure size 432x288 with 2 Axes>"
      ]
     },
     "metadata": {},
     "output_type": "display_data"
    }
   ],
   "source": [
    "#Testing Accuracy on Test data\n",
    "from sklearn.linear_model import LogisticRegression\n",
    "\n",
    "clf = LogisticRegression(C= 1000, penalty= 'l2')\n",
    "clf.fit(X_train,y_train)\n",
    "y_pred = clf.predict(X_test)\n",
    "print(\"Accuracy on test set: %0.3f%%\"%(accuracy_score(y_test, y_pred)*100))\n",
    "print(\"Precision on test set: %0.3f\"%(precision_score(y_test, y_pred)))\n",
    "print(\"Recall on test set: %0.3f\"%(recall_score(y_test, y_pred)))\n",
    "print(\"F1-Score on test set: %0.3f\"%(f1_score(y_test, y_pred)))\n",
    "print(\"Non Zero weights:\",np.count_nonzero(clf.coef_))\n",
    "print(\"Confusion Matrix of test set:\\n [ [TN  FP]\\n [FN TP] ]\\n\")\n",
    "df_cm = pd.DataFrame(confusion_matrix(y_test, y_pred), range(2),range(2))\n",
    "sns.set(font_scale=1.4)#for label size\n",
    "sns.heatmap(df_cm, annot=True,annot_kws={\"size\": 16}, fmt='g')"
   ]
  },
  {
   "cell_type": "markdown",
   "metadata": {},
   "source": [
    "Using Randomized Search CV to find best parameter"
   ]
  },
  {
   "cell_type": "code",
   "execution_count": 105,
   "metadata": {},
   "outputs": [
    {
     "name": "stdout",
     "output_type": "stream",
     "text": [
      "Wall time: 0 ns\n",
      "Fitting 10 folds for each of 10 candidates, totalling 100 fits\n"
     ]
    },
    {
     "name": "stderr",
     "output_type": "stream",
     "text": [
      "[Parallel(n_jobs=1)]: Done 100 out of 100 | elapsed:   32.8s finished\n"
     ]
    },
    {
     "name": "stdout",
     "output_type": "stream",
     "text": [
      "Best HyperParameter:  {'penalty': 'l1', 'C': 1}\n",
      "Best Accuracy: 84.92%\n"
     ]
    }
   ],
   "source": [
    "%time\n",
    "from sklearn.model_selection import RandomizedSearchCV\n",
    "from sklearn.linear_model import LogisticRegression\n",
    "\n",
    "clf = LogisticRegression()\n",
    "#params we need to try on classifier\n",
    "param_grid = {'C': [1000,500,100,50,10,5,1,0.5,0.1,0.05,0.01,0.005,0.001,0.0005,0.0001]\n",
    "              ,'penalty':['l1','l2']}\n",
    "tscv = TimeSeriesSplit(n_splits=10) #For time based splitting\n",
    "gsv = RandomizedSearchCV(clf,param_grid,cv=tscv,verbose=1)\n",
    "gsv.fit(X_train,y_train)\n",
    "savetofile(gsv,\"Log Reg/gsv_w2v_r\")\n",
    "print(\"Best HyperParameter: \",gsv.best_params_)\n",
    "print(\"Best Accuracy: %.2f%%\"%(gsv.best_score_*100))"
   ]
  },
  {
   "cell_type": "code",
   "execution_count": 106,
   "metadata": {},
   "outputs": [
    {
     "name": "stdout",
     "output_type": "stream",
     "text": [
      "Accuracy on test set: 82.770%\n",
      "Precision on test set: 0.829\n",
      "Recall on test set: 0.998\n",
      "F1-Score on test set: 0.906\n",
      "Non Zero weights: 50\n",
      "Confusion Matrix of test set:\n",
      " [ [TN  FP]\n",
      " [FN TP] ]\n",
      "\n"
     ]
    },
    {
     "data": {
      "text/plain": [
       "<matplotlib.axes._subplots.AxesSubplot at 0x238d0e81668>"
      ]
     },
     "execution_count": 106,
     "metadata": {},
     "output_type": "execute_result"
    },
    {
     "data": {
      "image/png": "[encoded data removed]",
      "text/plain": [
       "<Figure size 432x288 with 2 Axes>"
      ]
     },
     "metadata": {},
     "output_type": "display_data"
    }
   ],
   "source": [
    "#Testing Accuracy on Test data\n",
    "from sklearn.linear_model import LogisticRegression\n",
    "\n",
    "clf = LogisticRegression(C= 10, penalty= 'l2')\n",
    "clf.fit(X_train,y_train)\n",
    "y_pred = clf.predict(X_test)\n",
    "print(\"Accuracy on test set: %0.3f%%\"%(accuracy_score(y_test, y_pred)*100))\n",
    "print(\"Precision on test set: %0.3f\"%(precision_score(y_test, y_pred)))\n",
    "print(\"Recall on test set: %0.3f\"%(recall_score(y_test, y_pred)))\n",
    "print(\"F1-Score on test set: %0.3f\"%(f1_score(y_test, y_pred)))\n",
    "print(\"Non Zero weights:\",np.count_nonzero(clf.coef_))\n",
    "print(\"Confusion Matrix of test set:\\n [ [TN  FP]\\n [FN TP] ]\\n\")\n",
    "df_cm = pd.DataFrame(confusion_matrix(y_test, y_pred), range(2),range(2))\n",
    "sns.set(font_scale=1.4)#for label size\n",
    "sns.heatmap(df_cm, annot=True,annot_kws={\"size\": 16}, fmt='g')"
   ]
  },
  {
   "cell_type": "code",
   "execution_count": 107,
   "metadata": {},
   "outputs": [
    {
     "data": {
      "image/png": "[encoded data removed]",
      "text/plain": [
       "<Figure size 432x288 with 1 Axes>"
      ]
     },
     "metadata": {},
     "output_type": "display_data"
    }
   ],
   "source": [
    "gsv = openfromfile(\"Log Reg/gsv_w2v_r\")\n",
    "plot_error_vs_c_r(gsv)"
   ]
  },
  {
   "cell_type": "markdown",
   "metadata": {},
   "source": [
    "Perturbation Test"
   ]
  },
  {
   "cell_type": "code",
   "execution_count": 108,
   "metadata": {},
   "outputs": [
    {
     "name": "stdout",
     "output_type": "stream",
     "text": [
      "Accuracy on test set: 82.770%\n",
      "Non Zero weights: 50\n"
     ]
    }
   ],
   "source": [
    "from sklearn.linear_model import LogisticRegression\n",
    "\n",
    "clf = LogisticRegression(C= 10, penalty= 'l2')\n",
    "clf.fit(X_train,y_train)\n",
    "y_pred = clf.predict(X_test)\n",
    "print(\"Accuracy on test set: %0.3f%%\"%(accuracy_score(y_test, y_pred)*100))\n",
    "print(\"Non Zero weights:\",np.count_nonzero(clf.coef_))"
   ]
  },
  {
   "cell_type": "code",
   "execution_count": 109,
   "metadata": {},
   "outputs": [
    {
     "name": "stdout",
     "output_type": "stream",
     "text": [
      "[-0.10887259 -0.38135678 -0.54440432 -0.62474762 -0.58290324  0.82729094\n",
      "  0.37318887 -0.14312598  1.79728562 -0.24185697  1.30206888 -0.06374474\n",
      " -0.42140366  0.44562168 -0.41462793  0.59070843  0.02720041  0.66817006\n",
      "  0.06745231 -0.0471803   0.34764283 -0.07991434 -0.51778599 -1.35928724\n",
      " -0.97040674  1.38475754 -0.29169534  0.43215085 -1.10760963 -0.07651617\n",
      "  0.96992036  0.49326456 -0.08898601  0.17276198 -0.38458716 -0.41005984\n",
      "  0.87254049 -1.40353242  0.01914266 -0.28734327 -0.72985314 -0.05845446\n",
      " -0.44049008 -0.2402133  -0.62161348 -0.93076621  0.57105144  0.01689085\n",
      "  0.50626675  0.59356134]\n"
     ]
    }
   ],
   "source": [
    "from scipy.sparse import find\n",
    "#Weights before adding random noise\n",
    "weights1 = find(clf.coef_[0])[2]\n",
    "print(weights1[:50])"
   ]
  },
  {
   "cell_type": "code",
   "execution_count": 110,
   "metadata": {},
   "outputs": [],
   "source": [
    "X_train_t = X_train\n",
    "#Random noise\n",
    "epsilon = np.random.uniform(low=-0.01, high=0.01, size=(find(X_train_t)[0].size,))\n",
    "#Getting the postions(row and column) and value of non-zero datapoints \n",
    "a,b,c = find(X_train_t)\n",
    "\n",
    "#Introducing random noise to non-zero datapoints\n",
    "X_train_t[a,b] = epsilon + X_train_t[a,b]"
   ]
  },
  {
   "cell_type": "code",
   "execution_count": 111,
   "metadata": {},
   "outputs": [
    {
     "name": "stdout",
     "output_type": "stream",
     "text": [
      "Accuracy on test set: 82.767%\n",
      "Non Zero weights: 50\n"
     ]
    }
   ],
   "source": [
    "from sklearn.linear_model import LogisticRegression\n",
    "\n",
    "clf = LogisticRegression(C= 10, penalty= 'l2')\n",
    "clf.fit(X_train_t,y_train)\n",
    "y_pred = clf.predict(X_test)\n",
    "print(\"Accuracy on test set: %0.3f%%\"%(accuracy_score(y_test, y_pred)*100))\n",
    "print(\"Non Zero weights:\",np.count_nonzero(clf.coef_))"
   ]
  },
  {
   "cell_type": "code",
   "execution_count": 112,
   "metadata": {},
   "outputs": [
    {
     "name": "stdout",
     "output_type": "stream",
     "text": [
      "[-0.10951596 -0.38223714 -0.54787676 -0.63204614 -0.57809366  0.82381674\n",
      "  0.37518225 -0.1384137   1.79243491 -0.23459131  1.29589939 -0.06302703\n",
      " -0.42207142  0.44532115 -0.406523    0.59083935  0.02610149  0.66602033\n",
      "  0.07072455 -0.04579984  0.35216794 -0.07370293 -0.51290583 -1.35098056\n",
      " -0.96876515  1.38049562 -0.28382821  0.42888316 -1.10495056 -0.07466526\n",
      "  0.97011046  0.48712753 -0.08896169  0.17429963 -0.3817192  -0.41084069\n",
      "  0.87311631 -1.39842584  0.02335454 -0.29020507 -0.73309571 -0.05447549\n",
      " -0.43316294 -0.23912039 -0.6152925  -0.92645278  0.57179551  0.01550469\n",
      "  0.51056643  0.58786989]\n"
     ]
    }
   ],
   "source": [
    "from scipy.sparse import find\n",
    "#Weights after adding random noise\n",
    "weights2 = find(clf.coef_[0])[2]\n",
    "print(weights2[:50])"
   ]
  },
  {
   "cell_type": "code",
   "execution_count": 113,
   "metadata": {},
   "outputs": [
    {
     "name": "stdout",
     "output_type": "stream",
     "text": [
      "50\n"
     ]
    }
   ],
   "source": [
    "print(weights2.size)"
   ]
  },
  {
   "cell_type": "code",
   "execution_count": 114,
   "metadata": {},
   "outputs": [],
   "source": [
    "weights_diff = (abs(weights1 - weights2)/weights1) * 100"
   ]
  },
  {
   "cell_type": "code",
   "execution_count": 115,
   "metadata": {},
   "outputs": [
    {
     "name": "stdout",
     "output_type": "stream",
     "text": [
      "0\n"
     ]
    }
   ],
   "source": [
    "print(weights_diff[np.where(weights_diff > 30)].size)"
   ]
  }
 ],
 "metadata": {
  "colab": {
   "collapsed_sections": [
    "0Zhvc5AMMQwD"
   ],
   "name": "Amazon Fine Food Reviews Analysis_updated.ipynb",
   "provenance": [],
   "version": "0.3.2"
  },
  "kernelspec": {
   "display_name": "Python 3",
   "language": "python",
   "name": "python3"
  },
  "language_info": {
   "codemirror_mode": {
    "name": "ipython",
    "version": 3
   },
   "file_extension": ".py",
   "mimetype": "text/x-python",
   "name": "python",
   "nbconvert_exporter": "python",
   "pygments_lexer": "ipython3",
   "version": "3.7.0"
  }
 },
 "nbformat": 4,
 "nbformat_minor": 1
}

{
 "cells": [
  {
   "cell_type": "markdown",
   "metadata": {
    "colab_type": "text",
    "id": "cyXEgMWtMQvM"
   },
   "source": [
    "# [1] Amazon Fine Food Reviews Analysis\n",
    "\n",
    "\n",
    "Data Source: https://www.kaggle.com/snap/amazon-fine-food-reviews\n",
    "\n",
    "The Amazon Fine Food Reviews dataset consists of reviews of fine foods from Amazon.<br>\n",
    "\n",
    "Number of reviews: 568,454<br>\n",
    "Number of users: 256,059<br>\n",
    "Number of products: 74,258<br>\n",
    "Timespan: Oct 1999 - Oct 2012<br>\n",
    "Number of Attributes/Columns in data: 10 \n",
    "\n",
    "Attribute Information:\n",
    "\n",
    "1. Id\n",
    "2. ProductId - unique identifier for the product\n",
    "3. UserId - unqiue identifier for the user\n",
    "4. ProfileName\n",
    "5. HelpfulnessNumerator - number of users who found the review helpful\n",
    "6. HelpfulnessDenominator - number of users who indicated whether they found the review helpful or not\n",
    "7. Score - rating between 1 and 5\n",
    "8. Time - timestamp for the review\n",
    "9. Summary - brief summary of the review\n",
    "10. Text - text of the review\n",
    "\n",
    "\n",
    "#### Objective:\n",
    "Given a review, determine whether the review is positive (Rating of 4 or 5) or negative (rating of 1 or 2).\n",
    "\n",
    "<br>\n",
    "[Q] How to determine if a review is positive or negative?<br>\n",
    "<br> \n",
    "[Ans] We could use the Score/Rating. A rating of 4 or 5 could be cosnidered a positive review. A review of 1 or 2 could be considered negative. A review of 3 is nuetral and ignored. This is an approximate and proxy way of determining the polarity (positivity/negativity) of a review.\n",
    "\n",
    "\n"
   ]
  },
  {
   "cell_type": "markdown",
   "metadata": {
    "colab_type": "text",
    "id": "nTN9VK62MQvN"
   },
   "source": [
    "## [7.1] Loading the data\n",
    "\n",
    "The dataset is available in two forms\n",
    "1. .csv file\n",
    "2. SQLite Database\n",
    "\n",
    "In order to load the data, We have used the SQLITE dataset as it easier to query the data and visualise the data efficiently.\n",
    "<br> \n",
    "\n",
    "Here as we only want to get the global sentiment of the recommendations (positive or negative), we will purposefully ignore all Scores equal to 3. If the score id above 3, then the recommendation wil be set to \"positive\". Otherwise, it will be set to \"negative\"."
   ]
  },
  {
   "cell_type": "code",
   "execution_count": 1,
   "metadata": {
    "colab": {},
    "colab_type": "code",
    "id": "vXnuoQYEMQvO"
   },
   "outputs": [
    {
     "name": "stderr",
     "output_type": "stream",
     "text": [
      "C:\\Users\\Sai charan\\Anaconda3\\lib\\site-packages\\gensim\\utils.py:1197: UserWarning: detected Windows; aliasing chunkize to chunkize_serial\n",
      "  warnings.warn(\"detected Windows; aliasing chunkize to chunkize_serial\")\n"
     ]
    }
   ],
   "source": [
    "%matplotlib inline\n",
    "import warnings\n",
    "warnings.filterwarnings(\"ignore\")\n",
    "\n",
    "import sqlite3\n",
    "import pandas as pd\n",
    "import numpy as np\n",
    "import nltk\n",
    "import string\n",
    "import matplotlib.pyplot as plt\n",
    "import seaborn as sns\n",
    "from sklearn.feature_extraction.text import TfidfTransformer\n",
    "from sklearn.feature_extraction.text import TfidfVectorizer\n",
    "\n",
    "from sklearn.feature_extraction.text import CountVectorizer\n",
    "from sklearn.metrics import confusion_matrix\n",
    "from sklearn import metrics\n",
    "from sklearn.metrics import roc_curve, auc\n",
    "from nltk.stem.porter import PorterStemmer\n",
    "\n",
    "import re\n",
    "# Tutorial about Python regular expressions: https://pymotw.com/2/re/\n",
    "import string\n",
    "from nltk.corpus import stopwords\n",
    "from nltk.stem import PorterStemmer\n",
    "from nltk.stem.wordnet import WordNetLemmatizer\n",
    "\n",
    "from gensim.models import Word2Vec\n",
    "from gensim.models import KeyedVectors\n",
    "import pickle\n",
    "\n",
    "from tqdm import tqdm\n",
    "import os"
   ]
  },
  {
   "cell_type": "code",
   "execution_count": 2,
   "metadata": {},
   "outputs": [],
   "source": [
    "con = sqlite3.connect('final.sqlite') \n",
    "\n",
    "#getting the dataset into a dataframe \n",
    "final = pd.read_sql_query(\"\"\"\n",
    "SELECT * FROM Reviews where ProfileName like \"j%\" order by Time\n",
    "\"\"\", con) \n",
    "\n",
    "#prepare training data points\n",
    "final_train = pd.read_sql_query(\"\"\"\n",
    "SELECT * FROM Reviews where ProfileName like \"j%\" order by Time \n",
    "limit cast(0.7*(select count(*) from Reviews where ProfileName like \"j%\") as integer) \n",
    "\"\"\" , con) \n",
    "\n",
    "#prepare testing data points\n",
    "final_test = pd.read_sql_query(\"\"\"\n",
    "SELECT * FROM Reviews where ProfileName like \"j%\" order by Time desc\n",
    "limit cast(0.3*(select count(*) from Reviews where ProfileName like \"j%\") as integer) \n",
    "\"\"\" , con)"
   ]
  },
  {
   "cell_type": "code",
   "execution_count": 37,
   "metadata": {},
   "outputs": [
    {
     "data": {
      "text/html": [
       "<div>\n",
       "<style scoped>\n",
       "    .dataframe tbody tr th:only-of-type {\n",
       "        vertical-align: middle;\n",
       "    }\n",
       "\n",
       "    .dataframe tbody tr th {\n",
       "        vertical-align: top;\n",
       "    }\n",
       "\n",
       "    .dataframe thead th {\n",
       "        text-align: right;\n",
       "    }\n",
       "</style>\n",
       "<table border=\"1\" class=\"dataframe\">\n",
       "  <thead>\n",
       "    <tr style=\"text-align: right;\">\n",
       "      <th></th>\n",
       "      <th>index</th>\n",
       "      <th>Id</th>\n",
       "      <th>ProductId</th>\n",
       "      <th>UserId</th>\n",
       "      <th>ProfileName</th>\n",
       "      <th>HelpfulnessNumerator</th>\n",
       "      <th>HelpfulnessDenominator</th>\n",
       "      <th>Score</th>\n",
       "      <th>Time</th>\n",
       "      <th>Summary</th>\n",
       "      <th>Text</th>\n",
       "      <th>CleanedText</th>\n",
       "    </tr>\n",
       "  </thead>\n",
       "  <tbody>\n",
       "    <tr>\n",
       "      <th>0</th>\n",
       "      <td>346116</td>\n",
       "      <td>374422</td>\n",
       "      <td>B00004CI84</td>\n",
       "      <td>A1048CYU0OV4O8</td>\n",
       "      <td>Judy L. Eans</td>\n",
       "      <td>2</td>\n",
       "      <td>2</td>\n",
       "      <td>1</td>\n",
       "      <td>947376000</td>\n",
       "      <td>GREAT</td>\n",
       "      <td>THIS IS ONE MOVIE THAT SHOULD BE IN YOUR MOVIE...</td>\n",
       "      <td>one movi movi collect fill comedi action whate...</td>\n",
       "    </tr>\n",
       "    <tr>\n",
       "      <th>1</th>\n",
       "      <td>346141</td>\n",
       "      <td>374450</td>\n",
       "      <td>B00004CI84</td>\n",
       "      <td>ACJR7EQF9S6FP</td>\n",
       "      <td>Jeremy Robertson</td>\n",
       "      <td>2</td>\n",
       "      <td>3</td>\n",
       "      <td>1</td>\n",
       "      <td>951523200</td>\n",
       "      <td>Bettlejuice...Bettlejuice...BETTLEJUICE!</td>\n",
       "      <td>What happens when you say his name three times...</td>\n",
       "      <td>happen say name three time michael keaten star...</td>\n",
       "    </tr>\n",
       "    <tr>\n",
       "      <th>2</th>\n",
       "      <td>346094</td>\n",
       "      <td>374400</td>\n",
       "      <td>B00004CI84</td>\n",
       "      <td>A2DEE7F9XKP3ZR</td>\n",
       "      <td>jerome</td>\n",
       "      <td>0</td>\n",
       "      <td>3</td>\n",
       "      <td>1</td>\n",
       "      <td>959990400</td>\n",
       "      <td>Research - Beatlejuice video - French version</td>\n",
       "      <td>I'm getting crazy.I'm looking for Beatlejuice ...</td>\n",
       "      <td>get crazi look beatlejuic french version video...</td>\n",
       "    </tr>\n",
       "    <tr>\n",
       "      <th>3</th>\n",
       "      <td>417883</td>\n",
       "      <td>451903</td>\n",
       "      <td>B00004CXX9</td>\n",
       "      <td>A2DEE7F9XKP3ZR</td>\n",
       "      <td>jerome</td>\n",
       "      <td>0</td>\n",
       "      <td>1</td>\n",
       "      <td>1</td>\n",
       "      <td>959990400</td>\n",
       "      <td>Research</td>\n",
       "      <td>I'm getting crazy.&lt;p&gt;Is it really impossible t...</td>\n",
       "      <td>get crazi realli imposs today find french vhs ...</td>\n",
       "    </tr>\n",
       "    <tr>\n",
       "      <th>4</th>\n",
       "      <td>346115</td>\n",
       "      <td>374421</td>\n",
       "      <td>B00004CI84</td>\n",
       "      <td>A1FJOY14X3MUHE</td>\n",
       "      <td>Justin Howard</td>\n",
       "      <td>2</td>\n",
       "      <td>2</td>\n",
       "      <td>1</td>\n",
       "      <td>966297600</td>\n",
       "      <td>A fresh, original film from master storyteller...</td>\n",
       "      <td>This is such a great film, I don't even know h...</td>\n",
       "      <td>great film dont even know sum first complet or...</td>\n",
       "    </tr>\n",
       "  </tbody>\n",
       "</table>\n",
       "</div>"
      ],
      "text/plain": [
       "    index      Id   ProductId          UserId       ProfileName  \\\n",
       "0  346116  374422  B00004CI84  A1048CYU0OV4O8      Judy L. Eans   \n",
       "1  346141  374450  B00004CI84   ACJR7EQF9S6FP  Jeremy Robertson   \n",
       "2  346094  374400  B00004CI84  A2DEE7F9XKP3ZR            jerome   \n",
       "3  417883  451903  B00004CXX9  A2DEE7F9XKP3ZR            jerome   \n",
       "4  346115  374421  B00004CI84  A1FJOY14X3MUHE     Justin Howard   \n",
       "\n",
       "   HelpfulnessNumerator  HelpfulnessDenominator  Score       Time  \\\n",
       "0                     2                       2      1  947376000   \n",
       "1                     2                       3      1  951523200   \n",
       "2                     0                       3      1  959990400   \n",
       "3                     0                       1      1  959990400   \n",
       "4                     2                       2      1  966297600   \n",
       "\n",
       "                                             Summary  \\\n",
       "0                                              GREAT   \n",
       "1           Bettlejuice...Bettlejuice...BETTLEJUICE!   \n",
       "2      Research - Beatlejuice video - French version   \n",
       "3                                           Research   \n",
       "4  A fresh, original film from master storyteller...   \n",
       "\n",
       "                                                Text  \\\n",
       "0  THIS IS ONE MOVIE THAT SHOULD BE IN YOUR MOVIE...   \n",
       "1  What happens when you say his name three times...   \n",
       "2  I'm getting crazy.I'm looking for Beatlejuice ...   \n",
       "3  I'm getting crazy.<p>Is it really impossible t...   \n",
       "4  This is such a great film, I don't even know h...   \n",
       "\n",
       "                                         CleanedText  \n",
       "0  one movi movi collect fill comedi action whate...  \n",
       "1  happen say name three time michael keaten star...  \n",
       "2  get crazi look beatlejuic french version video...  \n",
       "3  get crazi realli imposs today find french vhs ...  \n",
       "4  great film dont even know sum first complet or...  "
      ]
     },
     "execution_count": 37,
     "metadata": {},
     "output_type": "execute_result"
    }
   ],
   "source": [
    "final_train['Score'] = final_train['Score'].replace('positive',1)\n",
    "final_train['Score'] = final_train['Score'].replace('negative',0)\n",
    "final_test['Score'] = final_test['Score'].replace('positive',1)\n",
    "final_test['Score'] = final_test['Score'].replace('negative',0)\n",
    "final_train.head()"
   ]
  },
  {
   "cell_type": "code",
   "execution_count": 4,
   "metadata": {},
   "outputs": [
    {
     "name": "stdout",
     "output_type": "stream",
     "text": [
      "(37217, 12)\n",
      "(26051, 12)\n",
      "(11165, 12)\n"
     ]
    }
   ],
   "source": [
    "print(final.shape)\n",
    "print(final_train.shape)\n",
    "print(final_test.shape)"
   ]
  },
  {
   "cell_type": "code",
   "execution_count": 5,
   "metadata": {},
   "outputs": [],
   "source": [
    "def plot_confusion_matrix(test_y, predict_y):\n",
    "    C = confusion_matrix(test_y, predict_y)\n",
    "    A =(((C.T)/(C.sum(axis=1))).T)\n",
    "    B =(C/C.sum(axis=0))\n",
    "    plt.figure(figsize=(20,4))\n",
    "    labels = [0,1]\n",
    "    # representing A in heatmap format\n",
    "    cmap=sns.light_palette(\"blue\")\n",
    "    plt.subplot(1, 3, 1)\n",
    "    sns.heatmap(C, annot=True, cmap=cmap, fmt=\".3f\", xticklabels=labels, yticklabels=labels)\n",
    "    plt.xlabel('Predicted Class')\n",
    "    plt.ylabel('Original Class')\n",
    "    plt.title(\"Confusion matrix\")\n",
    "    \n",
    "    plt.subplot(1, 3, 2)\n",
    "    sns.heatmap(B, annot=True, cmap=cmap, fmt=\".3f\", xticklabels=labels, yticklabels=labels)\n",
    "    plt.xlabel('Predicted Class')\n",
    "    plt.ylabel('Original Class')\n",
    "    plt.title(\"Precision matrix\")\n",
    "    \n",
    "    plt.subplot(1, 3, 3)\n",
    "    # representing B in heatmap format\n",
    "    sns.heatmap(A, annot=True, cmap=cmap, fmt=\".3f\", xticklabels=labels, yticklabels=labels)\n",
    "    plt.xlabel('Predicted Class')\n",
    "    plt.ylabel('Original Class')\n",
    "    plt.title(\"Recall matrix\")\n",
    "    \n",
    "    plt.show()"
   ]
  },
  {
   "cell_type": "markdown",
   "metadata": {
    "colab_type": "text",
    "id": "CF7NMcGnMQvX"
   },
   "source": [
    "#  Exploratory Data Analysis\n",
    "\n",
    "## [7.1.2] Data Cleaning: Deduplication\n",
    "\n",
    "It is observed (as shown in the table below) that the reviews data had many duplicate entries. Hence it was necessary to remove duplicates in order to get unbiased results for the analysis of the data.  Following is an example:"
   ]
  },
  {
   "cell_type": "code",
   "execution_count": 6,
   "metadata": {
    "colab": {},
    "colab_type": "code",
    "id": "_G5KBj5FMQvY",
    "scrolled": false
   },
   "outputs": [
    {
     "data": {
      "text/html": [
       "<div>\n",
       "<style scoped>\n",
       "    .dataframe tbody tr th:only-of-type {\n",
       "        vertical-align: middle;\n",
       "    }\n",
       "\n",
       "    .dataframe tbody tr th {\n",
       "        vertical-align: top;\n",
       "    }\n",
       "\n",
       "    .dataframe thead th {\n",
       "        text-align: right;\n",
       "    }\n",
       "</style>\n",
       "<table border=\"1\" class=\"dataframe\">\n",
       "  <thead>\n",
       "    <tr style=\"text-align: right;\">\n",
       "      <th></th>\n",
       "      <th>index</th>\n",
       "      <th>Id</th>\n",
       "      <th>ProductId</th>\n",
       "      <th>UserId</th>\n",
       "      <th>ProfileName</th>\n",
       "      <th>HelpfulnessNumerator</th>\n",
       "      <th>HelpfulnessDenominator</th>\n",
       "      <th>Score</th>\n",
       "      <th>Time</th>\n",
       "      <th>Summary</th>\n",
       "      <th>Text</th>\n",
       "      <th>CleanedText</th>\n",
       "    </tr>\n",
       "  </thead>\n",
       "  <tbody>\n",
       "    <tr>\n",
       "      <th>0</th>\n",
       "      <td>72060</td>\n",
       "      <td>78445</td>\n",
       "      <td>B000HDL1RQ</td>\n",
       "      <td>AR5J8UI46CURR</td>\n",
       "      <td>Geetha Krishnan</td>\n",
       "      <td>2</td>\n",
       "      <td>2</td>\n",
       "      <td>positive</td>\n",
       "      <td>1199577600</td>\n",
       "      <td>LOACKER QUADRATINI VANILLA WAFERS</td>\n",
       "      <td>DELICIOUS WAFERS. I FIND THAT EUROPEAN WAFERS ...</td>\n",
       "      <td>delici wafer find european wafer less sweet le...</td>\n",
       "    </tr>\n",
       "  </tbody>\n",
       "</table>\n",
       "</div>"
      ],
      "text/plain": [
       "   index     Id   ProductId         UserId      ProfileName  \\\n",
       "0  72060  78445  B000HDL1RQ  AR5J8UI46CURR  Geetha Krishnan   \n",
       "\n",
       "   HelpfulnessNumerator  HelpfulnessDenominator     Score        Time  \\\n",
       "0                     2                       2  positive  1199577600   \n",
       "\n",
       "                             Summary  \\\n",
       "0  LOACKER QUADRATINI VANILLA WAFERS   \n",
       "\n",
       "                                                Text  \\\n",
       "0  DELICIOUS WAFERS. I FIND THAT EUROPEAN WAFERS ...   \n",
       "\n",
       "                                         CleanedText  \n",
       "0  delici wafer find european wafer less sweet le...  "
      ]
     },
     "execution_count": 6,
     "metadata": {},
     "output_type": "execute_result"
    }
   ],
   "source": [
    "display= pd.read_sql_query(\"\"\"\n",
    "SELECT *\n",
    "FROM Reviews\n",
    "WHERE Score != 3 AND UserId=\"AR5J8UI46CURR\"\n",
    "ORDER BY ProductID\n",
    "\"\"\", con)\n",
    "display.head()"
   ]
  },
  {
   "cell_type": "markdown",
   "metadata": {
    "colab_type": "text",
    "id": "95Aa3bAYMQvb"
   },
   "source": [
    "As can be seen above the same user has multiple reviews of the with the same values for HelpfulnessNumerator, HelpfulnessDenominator, Score, Time, Summary and Text  and on doing analysis it was found that <br>\n",
    "<br> \n",
    "ProductId=B000HDOPZG was Loacker Quadratini Vanilla Wafer Cookies, 8.82-Ounce Packages (Pack of 8)<br>\n",
    "<br> \n",
    "ProductId=B000HDL1RQ was Loacker Quadratini Lemon Wafer Cookies, 8.82-Ounce Packages (Pack of 8) and so on<br>\n",
    "\n",
    "It was inferred after analysis that reviews with same parameters other than ProductId belonged to the same product just having different flavour or quantity. Hence in order to reduce redundancy it was decided to eliminate the rows having same parameters.<br>\n",
    "\n",
    "The method used for the same was that we first sort the data according to ProductId and then just keep the first similar product review and delelte the others. for eg. in the above just the review for ProductId=B000HDL1RQ remains. This method ensures that there is only one representative for each product and deduplication without sorting would lead to possibility of different representatives still existing for the same product."
   ]
  },
  {
   "cell_type": "markdown",
   "metadata": {
    "colab_type": "text",
    "id": "3-ZDuet8MQvw"
   },
   "source": [
    "## 7.2.3  Text Preprocessing: Stemming, stop-word removal and Lemmatization.\n",
    "\n",
    "Now that we have finished deduplication our data requires some preprocessing before we go on further with analysis and making the prediction model.\n",
    "\n",
    "Hence in the Preprocessing phase we do the following in the order below:-\n",
    "\n",
    "1. Begin by removing the html tags\n",
    "2. Remove any punctuations or limited set of special characters like , or . or # etc.\n",
    "3. Check if the word is made up of english letters and is not alpha-numeric\n",
    "4. Check to see if the length of the word is greater than 2 (as it was researched that there is no adjective in 2-letters)\n",
    "5. Convert the word to lowercase\n",
    "6. Remove Stopwords\n",
    "7. Finally Snowball Stemming the word (it was obsereved to be better than Porter Stemming)<br>\n",
    "\n",
    "After which we collect the words used to describe positive and negative reviews"
   ]
  },
  {
   "cell_type": "code",
   "execution_count": 7,
   "metadata": {
    "colab": {},
    "colab_type": "code",
    "id": "I2NRwIj6MQvz"
   },
   "outputs": [
    {
     "name": "stdout",
     "output_type": "stream",
     "text": [
      "1\n",
      "What happens when you say his name three times? Michael Keaten stars in this comedy about two couples that live in an old two story house.  While coming back from a supply store, the couple suddenly get caught inside of a  &quot;broken-up&quot; bridge and then just before they start to tumble down  into the lake, a board catches them.  But just when they've got their hopes  up, and small dog steps on the board and the car starts to slide off the  bridge and into the lake waters.  A few minutes later...<p>They find  themselves back into their home, they find that somehow somehad light the  fireplace, as if done by magic.  From then on, they find a weird-looking  dead guy known as Bettlejuice.  The only way they can get him for help is  to call him by his name three times and he will appear at their survice.  But they soon wish that they have never called his name, because  Bettlejuice was once a troublemaker but he is the only one who can save  them, on the account that they said his name three times.  They can't leave  their houses or else they will find theirselves in another world with giant  sandworms.  This is a stellar comedy that you should see! Michael Keaton is  awesome as he plays the leading role of Bettlejuice.\n"
     ]
    }
   ],
   "source": [
    "# find sentences containing HTML tags\n",
    "import re\n",
    "i=0;\n",
    "for sent in final['Text'].values:\n",
    "    if (len(re.findall('<.*?>', sent))):\n",
    "        print(i)\n",
    "        print(sent)\n",
    "        break;\n",
    "    i += 1;"
   ]
  },
  {
   "cell_type": "code",
   "execution_count": 8,
   "metadata": {
    "colab": {},
    "colab_type": "code",
    "id": "hSYsO2neMQv2"
   },
   "outputs": [
    {
     "name": "stdout",
     "output_type": "stream",
     "text": [
      "{'here', 'we', 'been', 'on', 'under', 'whom', 'few', 'herself', 'll', 'couldn', 'other', 'it', 'his', 'about', 'a', 'over', 'y', \"haven't\", 'again', 'i', \"it's\", 'same', 'aren', \"that'll\", 'don', 'at', 'has', 'off', 'only', 'both', 'my', 'against', 'up', 'who', 'into', 'hers', 'mightn', 'when', \"hadn't\", 'their', 'isn', 'below', 'haven', \"shouldn't\", \"mightn't\", 'by', 'each', 'an', 'there', 's', \"wouldn't\", 'have', 'down', \"won't\", 'ma', 'themselves', 'he', 'out', 'how', 'didn', 'mustn', 'shouldn', 'further', 'but', 'do', \"mustn't\", \"shan't\", 'while', 'in', 'during', 'from', 't', 'where', 'not', 'these', 'yourselves', \"she's\", \"doesn't\", 'as', 'your', 'be', 'being', 'too', 'were', 'so', 'then', 'hadn', \"don't\", 'once', 'him', 'had', 'before', 'or', 'this', \"isn't\", 'more', \"couldn't\", 'she', 'them', 'am', 'o', 'you', 'of', 'and', 'that', 'her', 'which', 'ain', 'very', 'why', 've', 'weren', 'himself', 'will', \"hasn't\", 'to', 'wasn', 'through', 'theirs', 'after', \"weren't\", 'needn', 'just', 'are', \"needn't\", 'they', 'own', 'our', 'ours', 'between', 'its', 'did', 'the', 'ourselves', 'myself', 'is', \"didn't\", 'nor', 'until', 'what', 'for', \"aren't\", 'does', 'those', 'me', \"you're\", 'itself', 'm', 'all', 'was', 'won', \"you'd\", 'any', 'because', 'd', 'some', 'yours', 're', 'shan', 'yourself', 'wouldn', \"should've\", \"you'll\", 'now', 'with', \"you've\", 'doing', 'if', 'above', 'hasn', 'such', 'no', 'having', 'can', \"wasn't\", 'most', 'doesn', 'should', 'than'}\n",
      "************************************\n",
      "tasti\n"
     ]
    }
   ],
   "source": [
    "\n",
    "stop = set(stopwords.words('english')) #set of stopwords\n",
    "sno = nltk.stem.SnowballStemmer('english') #initialising the snowball stemmer\n",
    "\n",
    "def cleanhtml(sentence): #function to clean the word of any html-tags\n",
    "    cleanr = re.compile('<.*?>')\n",
    "    cleantext = re.sub(cleanr, ' ', sentence)\n",
    "    return cleantext\n",
    "def cleanpunc(sentence): #function to clean the word of any punctuation or special characters\n",
    "    cleaned = re.sub(r'[?|!|\\'|\"|#]',r'',sentence)\n",
    "    cleaned = re.sub(r'[.|,|)|(|\\|/]',r' ',cleaned)\n",
    "    return  cleaned\n",
    "print(stop)\n",
    "print('************************************')\n",
    "print(sno.stem('tasty'))"
   ]
  },
  {
   "cell_type": "code",
   "execution_count": 9,
   "metadata": {
    "colab": {},
    "colab_type": "code",
    "id": "BUGzVaKbMQv5"
   },
   "outputs": [],
   "source": [
    "#Code for implementing step-by-step the checks mentioned in the pre-processing phase\n",
    "# this code takes a while to run as it needs to run on 500k sentences.\n",
    "if not os.path.isfile('final.sqlite'):\n",
    "    final_string=[]\n",
    "    all_positive_words=[] # store words from +ve reviews here\n",
    "    all_negative_words=[] # store words from -ve reviews here.\n",
    "    for i, sent in enumerate(tqdm(final['Text'].values)):\n",
    "        filtered_sentence=[]\n",
    "        #print(sent);\n",
    "        sent=cleanhtml(sent) # remove HTMl tags\n",
    "        for w in sent.split():\n",
    "            # we have used cleanpunc(w).split(), one more split function here because consider w=\"abc.def\", cleanpunc(w) will return \"abc def\"\n",
    "            # if we dont use .split() function then we will be considring \"abc def\" as a single word, but if you use .split() function we will get \"abc\", \"def\"\n",
    "            for cleaned_words in cleanpunc(w).split():\n",
    "                if((cleaned_words.isalpha()) & (len(cleaned_words)>2)):    \n",
    "                    if(cleaned_words.lower() not in stop):\n",
    "                        s=(sno.stem(cleaned_words.lower())).encode('utf8')\n",
    "                        filtered_sentence.append(s)\n",
    "                        if (final['Score'].values)[i] == 1: \n",
    "                            all_positive_words.append(s) #list of all words used to describe positive reviews\n",
    "                        if(final['Score'].values)[i] == 0:\n",
    "                            all_negative_words.append(s) #list of all words used to describe negative reviews reviews\n",
    "        str1 = b\" \".join(filtered_sentence) #final string of cleaned words\n",
    "        #print(\"***********************************************************************\")\n",
    "        final_string.append(str1)\n",
    "\n",
    "    #############---- storing the data into .sqlite file ------########################\n",
    "    final['CleanedText']=final_string #adding a column of CleanedText which displays the data after pre-processing of the review \n",
    "    final['CleanedText']=final['CleanedText'].str.decode(\"utf-8\")\n",
    "        # store final table into an SQlLite table for future.\n",
    "    conn = sqlite3.connect('final.sqlite')\n",
    "    c=conn.cursor()\n",
    "    conn.text_factory = str\n",
    "    final.to_sql('Reviews', conn,  schema=None, if_exists='replace', \\\n",
    "                 index=True, index_label=None, chunksize=None, dtype=None)\n",
    "    conn.close()\n",
    "    \n",
    "    \n",
    "    with open('positive_words.pkl', 'wb') as f:\n",
    "        pickle.dump(all_positive_words, f)\n",
    "    with open('negitive_words.pkl', 'wb') as f:\n",
    "        pickle.dump(all_negative_words, f)"
   ]
  },
  {
   "cell_type": "code",
   "execution_count": null,
   "metadata": {
    "colab": {},
    "colab_type": "code",
    "id": "m2CNKWUDMQv8"
   },
   "outputs": [],
   "source": []
  },
  {
   "cell_type": "code",
   "execution_count": 10,
   "metadata": {
    "colab": {},
    "colab_type": "code",
    "id": "bU88yTG9MQv-",
    "scrolled": false
   },
   "outputs": [],
   "source": [
    "if os.path.isfile('final.sqlite'):\n",
    "    conn = sqlite3.connect('final.sqlite')\n",
    "    final = pd.read_sql_query(\"\"\" SELECT * FROM Reviews WHERE Score != 3 \"\"\", conn)\n",
    "    conn.close()\n",
    "else:\n",
    "    print(\"Please the above cell\")"
   ]
  },
  {
   "cell_type": "markdown",
   "metadata": {
    "colab_type": "text",
    "id": "FvLejEvqMQwY"
   },
   "source": [
    "# [7.2.6] Word2Vec"
   ]
  },
  {
   "cell_type": "code",
   "execution_count": 12,
   "metadata": {
    "colab": {},
    "colab_type": "code",
    "id": "3bh2VdnDMQwa",
    "scrolled": true
   },
   "outputs": [],
   "source": [
    "import gensim\n",
    "from gensim.models import Word2Vec\n",
    "from gensim.models import KeyedVectors\n",
    "import pickle\n",
    "\n",
    "# in this project we are using a pretrained model by google\n",
    "# its 3.3G file, once you load this into your memory \n",
    "# it occupies ~9Gb, so please do this step only if you have >12G of ram\n",
    "# we will provide a pickle file wich contains a dict , \n",
    "# and it contains all our courpus words as keys and  model[word] as values\n",
    "# To use this code-snippet, download \"GoogleNews-vectors-negative300.bin\" \n",
    "# from https://drive.google.com/file/d/0B7XkCwpI5KDYNlNUTTlSS21pQmM/edit\n",
    "# it's 1.9GB in size.\n",
    "\n",
    "\n",
    "#model = KeyedVectors.load_word2vec_format('amazon-fine-food-reviews/GoogleNews-vectors-negative300.bin', binary=True)\n",
    "\n",
    "def cleanhtml(sentence): #function to clean the word of any html-tags\n",
    "    cleanr = re.compile('<.*?>')\n",
    "    cleantext = re.sub(cleanr, ' ', sentence)\n",
    "    return cleantext\n",
    "def cleanpunc(sentence): #function to clean the word of any punctuation or special characters\n",
    "    cleaned = re.sub(r'[?|!|\\'|\"|#]',r'',sentence)\n",
    "    cleaned = re.sub(r'[.|,|)|(|\\|/]',r' ',cleaned)\n",
    "    return  cleaned"
   ]
  },
  {
   "cell_type": "code",
   "execution_count": 13,
   "metadata": {},
   "outputs": [],
   "source": [
    "import re\n",
    "i=0\n",
    "final_train_X=[]\n",
    "final_train_Y=[]\n",
    "for sents in final_train.values:\n",
    "    filtered_sentence=[]\n",
    "    #print(sents[final_train.columns.get_loc(\"CleanedText\")])\n",
    "    sent=cleanhtml(sents[final_train.columns.get_loc(\"CleanedText\")])\n",
    "    for w in sent.split():\n",
    "        for cleaned_words in cleanpunc(w).split():\n",
    "            if(cleaned_words.isalpha()):    \n",
    "                filtered_sentence.append(cleaned_words.lower())\n",
    "            else:\n",
    "                continue \n",
    "    final_train_X.append(filtered_sentence)\n",
    "    final_train_Y.append(sents[final_train.columns.get_loc(\"Score\")])\n",
    "    \n",
    "\n",
    "i=0\n",
    "final_test_X=[]\n",
    "final_test_Y=[]\n",
    "for sents in final_test.values:\n",
    "    filtered_sentence=[]\n",
    "    #print(sents[final_train.columns.get_loc(\"CleanedText\")])\n",
    "    sent=cleanhtml(sents[final_test.columns.get_loc(\"CleanedText\")])\n",
    "    for w in sent.split():\n",
    "        for cleaned_words in cleanpunc(w).split():\n",
    "            if(cleaned_words.isalpha()):    \n",
    "                filtered_sentence.append(cleaned_words.lower())\n",
    "            else:\n",
    "                continue \n",
    "    final_test_X.append(filtered_sentence)\n",
    "    final_test_Y.append(sents[final_test.columns.get_loc(\"Score\")])"
   ]
  },
  {
   "cell_type": "code",
   "execution_count": 14,
   "metadata": {
    "colab": {},
    "colab_type": "code",
    "id": "xri0AfSJMQwe"
   },
   "outputs": [
    {
     "name": "stdout",
     "output_type": "stream",
     "text": [
      "Word2Vec(vocab=6911, size=50, alpha=0.025)\n"
     ]
    }
   ],
   "source": [
    "w2v_model=gensim.models.Word2Vec(final_train_X,min_count=5, workers=4, size =50)    #size=50,\n",
    "print(w2v_model)\n",
    "#print(final_train_X[1])\n",
    "#w2v_model.wv[final_train_X[1][3]]"
   ]
  },
  {
   "cell_type": "code",
   "execution_count": 15,
   "metadata": {},
   "outputs": [
    {
     "name": "stdout",
     "output_type": "stream",
     "text": [
      "26051\n",
      "50\n",
      "[-0.19303827 -0.02019373  0.27237833 -0.03917598 -0.27568523 -0.08877102\n",
      " -0.06999542 -0.14574364  0.13998003  0.25244453  0.50866041 -0.0026984\n",
      "  0.05328995  0.37173403  0.28497367 -0.1660089  -0.34844782 -0.47153742\n",
      "  0.12167734  0.00705747  0.38486277 -0.47873748 -0.02214003  0.49932843\n",
      " -0.35489414  0.27271344 -0.04667286  0.00680148  0.55767245 -0.10930894\n",
      " -0.30723602 -0.37510603  0.07621929 -0.59683872 -0.101252    0.09906412\n",
      "  0.13362522 -0.02112248  0.33938208  0.35909416 -0.20178777 -0.17866396\n",
      " -0.37908041  0.03234564 -0.68136991 -0.44115168  0.19238486  0.51860251\n",
      " -0.33061476 -0.14670959]\n",
      "11165\n",
      "50\n",
      "[-0.01905655 -0.0440722   0.15596136  0.10097837 -0.29961806  0.00792276\n",
      "  0.02172722 -0.16660922  0.2089958   0.51843891  0.50381859 -0.12524522\n",
      "  0.21782736  0.23210564  0.34212238 -0.21886282 -0.18336725 -0.27324743\n",
      "  0.0184041   0.16097846  0.39857109 -0.28977922 -0.2450748   0.29247104\n",
      " -0.20327417  0.27018265 -0.03361677  0.00554073  0.3984307  -0.03723266\n",
      " -0.39304486 -0.42640721  0.02586229 -0.6076161  -0.16645712  0.16991034\n",
      "  0.17408719 -0.18079487  0.2837638  -0.043184   -0.13053985 -0.09201897\n",
      " -0.10023484 -0.15371211 -0.54582545 -0.3612558   0.2439708   0.38520806\n",
      " -0.19533846 -0.15778226]\n"
     ]
    }
   ],
   "source": [
    "# average Word2Vec\n",
    "# compute average word2vec for each training review.\n",
    "sent_vectors_train = []; # the avg-w2v for each sentence/review is stored in this list\n",
    "for sent in final_train_X: # for each review/sentence\n",
    "    sent_vec = np.zeros(50) # as word vectors are of zero length\n",
    "    cnt_words =0; # num of words with a valid vector in the sentence/review\n",
    "    for word in sent: # for each word in a review/sentence\n",
    "        try:\n",
    "            vec = w2v_model.wv[word]\n",
    "            sent_vec += vec\n",
    "            cnt_words += 1\n",
    "        except:\n",
    "            pass\n",
    "    sent_vec /= cnt_words\n",
    "    sent_vectors_train.append(sent_vec)\n",
    "print(len(sent_vectors_train))\n",
    "print(len(sent_vectors_train[0]))\n",
    "print(sent_vectors_train[1])\n",
    "\n",
    "\n",
    "min_val=1\n",
    "for i in range(0,len(sent_vectors_train)):\n",
    "    for j in range(0,len(sent_vectors_train[0])):\n",
    "        if sent_vectors_train[i][j] < min_val:\n",
    "            min_val = sent_vectors_train[i][j]\n",
    "        else:\n",
    "            continue\n",
    "\n",
    "            \n",
    "# average Word2Vec\n",
    "# compute average word2vec for each testing review.\n",
    "sent_vectors_test = []; # the avg-w2v for each sentence/review is stored in this list\n",
    "for sent in final_test_X: # for each review/sentence\n",
    "    sent_vec = np.zeros(50) # as word vectors are of zero length\n",
    "    cnt_words =0; # num of words with a valid vector in the sentence/review\n",
    "    for word in sent: # for each word in a review/sentence\n",
    "        try:\n",
    "            vec = w2v_model.wv[word]\n",
    "            sent_vec += vec\n",
    "            cnt_words += 1\n",
    "        except:\n",
    "            pass\n",
    "    sent_vec /= cnt_words\n",
    "    sent_vectors_test.append(sent_vec)\n",
    "print(len(sent_vectors_test))\n",
    "print(len(sent_vectors_test[0]))\n",
    "print(sent_vectors_test[1])\n",
    "\n",
    "#We fould 1 review(19948) has all the vectors as Nan. So we are replacing it with 0\n",
    "for i in range(len(sent_vectors_train)):\n",
    "    for j in range(50):\n",
    "        if sent_vectors_train[i][j] != sent_vectors_train[i][j]:\n",
    "            sent_vectors_train[i][j]=0\n",
    "\n",
    "\n",
    "min_val=1\n",
    "for i in range(0,len(sent_vectors_test)):\n",
    "    for j in range(0,len(sent_vectors_test[0])):\n",
    "        if sent_vectors_test[i][j] < min_val:\n",
    "            min_val = sent_vectors_test[i][j]\n",
    "        else:\n",
    "            continue"
   ]
  },
  {
   "cell_type": "code",
   "execution_count": 16,
   "metadata": {},
   "outputs": [
    {
     "name": "stdout",
     "output_type": "stream",
     "text": [
      "[0. 0. 0. 0. 0. 0. 0. 0. 0. 0. 0. 0. 0. 0. 0. 0. 0. 0. 0. 0. 0. 0. 0. 0.\n",
      " 0. 0. 0. 0. 0. 0. 0. 0. 0. 0. 0. 0. 0. 0. 0. 0. 0. 0. 0. 0. 0. 0. 0. 0.\n",
      " 0. 0.]\n"
     ]
    }
   ],
   "source": [
    "print(sent_vectors_train[19948])"
   ]
  },
  {
   "cell_type": "code",
   "execution_count": 17,
   "metadata": {},
   "outputs": [
    {
     "name": "stderr",
     "output_type": "stream",
     "text": [
      "C:\\Users\\Sai charan\\Anaconda3\\lib\\site-packages\\sklearn\\cross_validation.py:41: DeprecationWarning: This module was deprecated in version 0.18 in favor of the model_selection module into which all the refactored classes and functions are moved. Also note that the interface of the new CV iterators are different from that of this module. This module will be removed in 0.20.\n",
      "  \"This module will be removed in 0.20.\", DeprecationWarning)\n",
      "C:\\Users\\Sai charan\\Anaconda3\\lib\\site-packages\\sklearn\\grid_search.py:42: DeprecationWarning: This module was deprecated in version 0.18 in favor of the model_selection module into which all the refactored classes and functions are moved. This module will be removed in 0.20.\n",
      "  DeprecationWarning)\n"
     ]
    },
    {
     "name": "stdout",
     "output_type": "stream",
     "text": [
      "DecisionTreeClassifier(class_weight='balanced', criterion='gini', max_depth=5,\n",
      "            max_features=None, max_leaf_nodes=None,\n",
      "            min_impurity_decrease=0.0, min_impurity_split=None,\n",
      "            min_samples_leaf=1, min_samples_split=252,\n",
      "            min_weight_fraction_leaf=0.0, presort=False, random_state=None,\n",
      "            splitter='best')\n",
      "Total running time: 1310.0754833221436 seconds\n"
     ]
    }
   ],
   "source": [
    "import time\n",
    "#GridSearchCV to find optimal min_samples_split and max_depth\n",
    "from sklearn.model_selection import train_test_split\n",
    "from sklearn.grid_search import GridSearchCV\n",
    "from sklearn.datasets import *\n",
    "from sklearn.tree import DecisionTreeClassifier\n",
    "start = time.time()\n",
    "\n",
    "tuned_parameters = {'min_samples_split': [i for i in range(2,302,25)], \n",
    "                    'max_depth': [i for i in range(5,31,5)]}\n",
    "\n",
    "model = GridSearchCV(estimator=DecisionTreeClassifier(class_weight='balanced'), param_grid=tuned_parameters, \n",
    "                     scoring = 'roc_auc', cv=10, verbose=False)\n",
    "model.fit(sent_vectors_train, final_train_Y)\n",
    "print(model.best_estimator_)\n",
    "end = time.time()\n",
    "print(\"Total running time: %s seconds\" % (end - start))"
   ]
  },
  {
   "cell_type": "code",
   "execution_count": 18,
   "metadata": {},
   "outputs": [
    {
     "name": "stdout",
     "output_type": "stream",
     "text": [
      "\n",
      "The optimal value of max_depth is 5.\n"
     ]
    },
    {
     "data": {
      "image/png": "[encoded data removed]",
      "text/plain": [
       "<Figure size 432x288 with 1 Axes>"
      ]
     },
     "metadata": {
      "needs_background": "light"
     },
     "output_type": "display_data"
    },
    {
     "name": "stdout",
     "output_type": "stream",
     "text": [
      "the misclassification error for each max_depth value is :  [0.203 0.211 0.215 0.214 0.216 0.216]\n"
     ]
    }
   ],
   "source": [
    "from sklearn import cross_validation\n",
    "from sklearn.cross_validation import cross_val_score\n",
    "\n",
    "# empty list that will hold cv scores\n",
    "cv_scores = []\n",
    "\n",
    "# perform 10-fold cross validation\n",
    "for k in tuned_parameters['max_depth']:\n",
    "    dt = DecisionTreeClassifier(min_samples_split=model.best_estimator_.min_samples_split,max_depth=k, class_weight='balanced')\n",
    "    dt.fit(sent_vectors_train, final_train_Y)\n",
    "    #print(nb.predict(X_test[2:39]))\n",
    "    scores = cross_val_score(estimator=nb, X=sent_vectors_train, y=final_train_Y, \n",
    "                             cv=10, scoring='roc_auc', verbose=False, n_jobs = 1)\n",
    "    cv_scores.append(scores.mean())\n",
    "\n",
    "# changing to misclassification error\n",
    "MSE = [1 - x for x in cv_scores]\n",
    "\n",
    "# determining best k\n",
    "optimal_alpha = tuned_parameters['max_depth'][MSE.index(min(MSE))]\n",
    "print('\\nThe optimal value of max_depth is %d.' % optimal_alpha)\n",
    "\n",
    "\n",
    "# plot misclassification error vs k \n",
    "plt.plot(tuned_parameters['max_depth'], MSE)\n",
    "\n",
    "for xy in zip(tuned_parameters['max_depth'], np.round(MSE,3)):\n",
    "    plt.annotate('(%s, %s)' % xy, xy=xy, textcoords='data')\n",
    "\n",
    "plt.xlabel('max_depth')\n",
    "plt.ylabel('Misclassification Error')\n",
    "plt.show()\n",
    "\n",
    "print(\"the misclassification error for each max_depth value is : \", np.round(MSE,3))"
   ]
  },
  {
   "cell_type": "code",
   "execution_count": 19,
   "metadata": {},
   "outputs": [
    {
     "name": "stdout",
     "output_type": "stream",
     "text": [
      "Accuracy of the model at depth of the tree = 5  and minimum sample split = 252 is:  69.852217%\n",
      "Confusion matrix for the model is:\n"
     ]
    },
    {
     "data": {
      "image/png": "[encoded data removed]",
      "text/plain": [
       "<Figure size 1440x288 with 6 Axes>"
      ]
     },
     "metadata": {
      "needs_background": "light"
     },
     "output_type": "display_data"
    },
    {
     "name": "stdout",
     "output_type": "stream",
     "text": [
      "Recall value for the positive class of the model is: 0.6810214239342134\n",
      "Precision value for the positive class of the model is: 0.9377234803337307\n",
      "F1 score for the positive class of the model is: 0.7890184279804437\n"
     ]
    }
   ],
   "source": [
    "#Finding accuracy, Confusion matrix, precision, recall, F1 score\n",
    "from sklearn.metrics import accuracy_score, precision_recall_fscore_support, f1_score\n",
    "Y_pred = model.predict(sent_vectors_test)\n",
    "Y_test_accuracy = accuracy_score(final_test_Y, Y_pred, normalize=True, sample_weight=None)*100\n",
    "print('Accuracy of the model at depth of the tree = %d  and minimum sample split = %d is:  %f%%' \n",
    "      % (model.best_estimator_.max_depth, model.best_estimator_.min_samples_split, Y_test_accuracy))\n",
    "print('Confusion matrix for the model is:')\n",
    "plot_confusion_matrix(final_test_Y, Y_pred)\n",
    "\n",
    "rec_pre_f1 = precision_recall_fscore_support(final_test_Y, Y_pred)\n",
    "#print(rec_pre_f1)\n",
    "print('Recall value for the positive class of the model is: %s'% rec_pre_f1[1][1])\n",
    "print('Precision value for the positive class of the model is: %s'% rec_pre_f1[0][1])\n",
    "print('F1 score for the positive class of the model is: %s'% rec_pre_f1[2][1])\n",
    "\n",
    "#print(rec_pre_f1)"
   ]
  },
  {
   "cell_type": "code",
   "execution_count": 20,
   "metadata": {},
   "outputs": [
    {
     "name": "stdout",
     "output_type": "stream",
     "text": [
      "DecisionTreeClassifier(class_weight='balanced', criterion='gini', max_depth=5,\n",
      "            max_features=None, max_leaf_nodes=None,\n",
      "            min_impurity_decrease=0.0, min_impurity_split=None,\n",
      "            min_samples_leaf=1, min_samples_split=252,\n",
      "            min_weight_fraction_leaf=0.0, presort=False, random_state=None,\n",
      "            splitter='best')\n",
      "74.82703492599794\n",
      "73.18263645932117\n"
     ]
    }
   ],
   "source": [
    "#Saving the results of GridSearchCV BoW representation\n",
    "from sklearn.metrics import roc_auc_score\n",
    "\n",
    "\n",
    "final_grid_avgw2v_est=model.best_estimator_\n",
    "\n",
    "def print_auc_score(y_true, y_scores):\n",
    "    return 100*(roc_auc_score(y_true, y_scores))\n",
    "\n",
    "y_true=final_train_Y\n",
    "y_scores=model.best_estimator_.predict(sent_vectors_train)\n",
    "\n",
    "final_grid_avgw2v_train_err=print_auc_score(y_true, y_scores)\n",
    "\n",
    "y_true=final_test_Y\n",
    "y_scores=model.best_estimator_.predict(sent_vectors_test)\n",
    "\n",
    "final_grid_avgw2v_test_err=print_auc_score(y_true, y_scores)\n",
    "\n",
    "print(final_grid_avgw2v_est)\n",
    "print(final_grid_avgw2v_train_err)\n",
    "print(final_grid_avgw2v_test_err)"
   ]
  },
  {
   "cell_type": "code",
   "execution_count": 21,
   "metadata": {},
   "outputs": [
    {
     "name": "stdout",
     "output_type": "stream",
     "text": [
      "DecisionTreeClassifier(class_weight='balanced', criterion='gini',\n",
      "            max_depth=25, max_features=None, max_leaf_nodes=None,\n",
      "            min_impurity_decrease=0.0, min_impurity_split=None,\n",
      "            min_samples_leaf=1, min_samples_split=252,\n",
      "            min_weight_fraction_leaf=0.0, presort=False, random_state=None,\n",
      "            splitter='best')\n",
      "Total running time: 244.59789729118347 seconds\n"
     ]
    }
   ],
   "source": [
    "#RandomizedSearchCV to find optimal min_samples_split and max_depth\n",
    "from sklearn.model_selection import train_test_split\n",
    "from sklearn.grid_search import RandomizedSearchCV\n",
    "from sklearn.datasets import *\n",
    "from sklearn.tree import DecisionTreeClassifier\n",
    "start = time.time()\n",
    "\n",
    "tuned_parameters = {'min_samples_split': [i for i in range(2,302,25)], \n",
    "                    'max_depth': [i for i in range(5,31,5)]}\n",
    "\n",
    "model = RandomizedSearchCV(estimator=DecisionTreeClassifier(class_weight='balanced'), param_distributions=tuned_parameters, \n",
    "                           scoring = 'roc_auc', cv=10, verbose=False)\n",
    "model.fit(sent_vectors_train, final_train_Y)\n",
    "print(model.best_estimator_)\n",
    "end = time.time()\n",
    "print(\"Total running time: %s seconds\" % (end - start))"
   ]
  },
  {
   "cell_type": "code",
   "execution_count": 22,
   "metadata": {},
   "outputs": [
    {
     "name": "stdout",
     "output_type": "stream",
     "text": [
      "\n",
      "The optimal value of max_depth is 5.\n"
     ]
    },
    {
     "data": {
      "image/png": "[encoded data removed]",
      "text/plain": [
       "<Figure size 432x288 with 1 Axes>"
      ]
     },
     "metadata": {
      "needs_background": "light"
     },
     "output_type": "display_data"
    },
    {
     "name": "stdout",
     "output_type": "stream",
     "text": [
      "the misclassification error for each max_depth value is :  [0.203 0.212 0.215 0.215 0.215 0.215]\n"
     ]
    }
   ],
   "source": [
    "from sklearn import cross_validation\n",
    "from sklearn.cross_validation import cross_val_score\n",
    "\n",
    "# empty list that will hold cv scores\n",
    "cv_scores = []\n",
    "MSE = []\n",
    "\n",
    "# perform 10-fold cross validation\n",
    "for k in tuned_parameters['max_depth']:\n",
    "    nb = DecisionTreeClassifier(min_samples_split=model.best_estimator_.min_samples_split,\n",
    "                                max_depth=k, class_weight='balanced')\n",
    "    nb.fit(sent_vectors_train, final_train_Y)\n",
    "    #print(nb.predict(X_test[2:39]))\n",
    "    scores = cross_val_score(estimator=nb, X=sent_vectors_train, y=final_train_Y, \n",
    "                             cv=10, scoring='roc_auc', verbose=False, n_jobs = 1)\n",
    "    cv_scores.append(scores.mean())\n",
    "\n",
    "# changing to misclassification error\n",
    "MSE = [1 - x for x in cv_scores]\n",
    "\n",
    "# determining best k\n",
    "optimal_alpha = tuned_parameters['max_depth'][MSE.index(min(MSE))]\n",
    "print('\\nThe optimal value of max_depth is %d.' % optimal_alpha)\n",
    "\n",
    "\n",
    "# plot misclassification error vs k \n",
    "plt.plot(tuned_parameters['max_depth'], MSE)\n",
    "\n",
    "for xy in zip(tuned_parameters['max_depth'], np.round(MSE,3)):\n",
    "    plt.annotate('(%s, %s)' % xy, xy=xy, textcoords='data')\n",
    "\n",
    "plt.xlabel('max_depth')\n",
    "plt.ylabel('Misclassification Error')\n",
    "plt.show()\n",
    "\n",
    "print(\"the misclassification error for each max_depth value is : \", np.round(MSE,3))"
   ]
  },
  {
   "cell_type": "code",
   "execution_count": 23,
   "metadata": {},
   "outputs": [
    {
     "name": "stdout",
     "output_type": "stream",
     "text": [
      "Accuracy of the model at depth of the tree = 25  and minimum sample split = 252 is:  69.879086%\n",
      "Confusion matrix for the model is:\n"
     ]
    },
    {
     "data": {
      "image/png": "[encoded data removed]",
      "text/plain": [
       "<Figure size 1440x288 with 6 Axes>"
      ]
     },
     "metadata": {
      "needs_background": "light"
     },
     "output_type": "display_data"
    },
    {
     "name": "stdout",
     "output_type": "stream",
     "text": [
      "Recall value for the positive class of the model is: 0.683834667820818\n",
      "Precision value for the positive class of the model is: 0.9347729625795\n",
      "F1 score for the positive class of the model is: 0.7898519027682309\n"
     ]
    }
   ],
   "source": [
    "#Finding accuracy, Confusion matrix, precision, recall, F1 score\n",
    "from sklearn.metrics import accuracy_score, precision_recall_fscore_support, f1_score\n",
    "Y_pred = model.predict(sent_vectors_test)\n",
    "Y_test_accuracy = accuracy_score(final_test_Y, Y_pred, normalize=True, sample_weight=None)*100\n",
    "print('Accuracy of the model at depth of the tree = %d  and minimum sample split = %d is:  %f%%' \n",
    "      % (model.best_estimator_.max_depth, model.best_estimator_.min_samples_split, Y_test_accuracy))\n",
    "print('Confusion matrix for the model is:')\n",
    "plot_confusion_matrix(final_test_Y, Y_pred)\n",
    "\n",
    "rec_pre_f1 = precision_recall_fscore_support(final_test_Y, Y_pred)\n",
    "#print(rec_pre_f1)\n",
    "print('Recall value for the positive class of the model is: %s'% rec_pre_f1[1][1])\n",
    "print('Precision value for the positive class of the model is: %s'% rec_pre_f1[0][1])\n",
    "print('F1 score for the positive class of the model is: %s'% rec_pre_f1[2][1])\n",
    "\n",
    "#print(rec_pre_f1)"
   ]
  },
  {
   "cell_type": "code",
   "execution_count": 24,
   "metadata": {},
   "outputs": [
    {
     "name": "stdout",
     "output_type": "stream",
     "text": [
      "DecisionTreeClassifier(class_weight='balanced', criterion='gini',\n",
      "            max_depth=25, max_features=None, max_leaf_nodes=None,\n",
      "            min_impurity_decrease=0.0, min_impurity_split=None,\n",
      "            min_samples_leaf=1, min_samples_split=252,\n",
      "            min_weight_fraction_leaf=0.0, presort=False, random_state=None,\n",
      "            splitter='best')\n",
      "79.17291795374769\n",
      "72.72527473269457\n"
     ]
    }
   ],
   "source": [
    "#Saving the results of GridSearchCV BoW representation\n",
    "from sklearn.metrics import roc_auc_score\n",
    "\n",
    "\n",
    "final_rand_avgw2v_est=model.best_estimator_\n",
    "\n",
    "def print_auc_score(y_true, y_scores):\n",
    "    return 100*(roc_auc_score(y_true, y_scores))\n",
    "\n",
    "y_true=final_train_Y\n",
    "y_scores=model.best_estimator_.predict(sent_vectors_train)\n",
    "\n",
    "final_rand_avgw2v_train_err=print_auc_score(y_true, y_scores)\n",
    "\n",
    "y_true=final_test_Y\n",
    "y_scores=model.best_estimator_.predict(sent_vectors_test)\n",
    "\n",
    "final_rand_avgw2v_test_err=print_auc_score(y_true, y_scores)\n",
    "\n",
    "print(final_rand_avgw2v_est)\n",
    "print(final_rand_avgw2v_train_err)\n",
    "print(final_rand_avgw2v_test_err)"
   ]
  },
  {
   "cell_type": "markdown",
   "metadata": {},
   "source": [
    "# TF-IDF weighted Word2Vec"
   ]
  },
  {
   "cell_type": "code",
   "execution_count": 25,
   "metadata": {},
   "outputs": [
    {
     "name": "stdout",
     "output_type": "stream",
     "text": [
      "26051\n",
      "50\n",
      "[-0.29111624 -0.02564301  0.32917169 -0.04230634 -0.27429554 -0.05105616\n",
      " -0.07266325 -0.18916994  0.10401918  0.16007444  0.53159591  0.1020388\n",
      "  0.07524471  0.36992765  0.23324411 -0.1220791  -0.27324101 -0.30875595\n",
      "  0.20072225 -0.01433124  0.32979441 -0.34408746 -0.02547874  0.30063461\n",
      " -0.35831267  0.2472335  -0.12128008 -0.05630295  0.56203372 -0.02104549\n",
      " -0.33244657 -0.35609906  0.20435213 -0.49361963 -0.07453695  0.07185214\n",
      "  0.07300928 -0.01810253  0.28579817  0.24664867 -0.13943864 -0.21552242\n",
      " -0.38402782  0.05965454 -0.67768647 -0.38011857  0.13653673  0.42347846\n",
      " -0.37271691 -0.10103958]\n",
      "11165\n",
      "50\n",
      "[-0.00964892 -0.09490244  0.15164877  0.07776635 -0.25225074  0.01017703\n",
      "  0.0049358  -0.16610195  0.13337775  0.3662967   0.41529833 -0.08475889\n",
      "  0.13822428  0.16278311  0.2177266  -0.22694986 -0.20178465 -0.23267899\n",
      "  0.0361276   0.1211592   0.32052493 -0.18237633 -0.15278306  0.30671851\n",
      " -0.14526119  0.16768261 -0.05362153 -0.02248566  0.34402139 -0.11905684\n",
      " -0.32388002 -0.34790766 -0.01869137 -0.65442669 -0.11659648  0.16173181\n",
      "  0.19918551 -0.13015348  0.27260989  0.10247378 -0.13502133 -0.12214863\n",
      " -0.13748329 -0.03813087 -0.39821589 -0.35692022  0.20798185  0.27877982\n",
      " -0.17726584 -0.18180961]\n"
     ]
    }
   ],
   "source": [
    "# TF-IDF weighted Word2Vec\n",
    "tfidf_feat = tf_idf_vect.get_feature_names() # tfidf words/col-names\n",
    "# final_tf_idf is the sparse matrix with row= sentence, col=word and cell_val = tfidf\n",
    "\n",
    "tfidf_sent_vectors_train = []; # the tfidf-w2v for each sentence/review is stored in this list\n",
    "row=0;\n",
    "for sent in final_train_X: # for each review/sentence\n",
    "    sent_vec = np.zeros(50) # as word vectors are of zero length\n",
    "    weight_sum = 0; # num of words with a valid vector in the sentence/review\n",
    "    for word in sent: # for each word in a review/sentence\n",
    "        try:\n",
    "            vec = w2v_model.wv[word]\n",
    "            # obtain the tf_idfidf of a word in a sentence/review\n",
    "            tf_idf = to_pass_tfidf_w2v_train[row, tfidf_feat.index(word)]\n",
    "            sent_vec += (vec * tf_idf)\n",
    "            weight_sum += tf_idf\n",
    "        except:\n",
    "            pass\n",
    "    sent_vec /= weight_sum\n",
    "    tfidf_sent_vectors_train.append(sent_vec)\n",
    "    row += 1\n",
    "\n",
    "    \n",
    "print(len(tfidf_sent_vectors_train))\n",
    "print(len(tfidf_sent_vectors_train[0]))\n",
    "print(tfidf_sent_vectors_train[1])\n",
    "\n",
    "\n",
    "# TF-IDF weighted Word2Vec\n",
    "tfidf_feat = tf_idf_vect.get_feature_names() # tfidf words/col-names\n",
    "# final_tf_idf is the sparse matrix with row= sentence, col=word and cell_val = tfidf\n",
    "\n",
    "tfidf_sent_vectors_test = []; # the tfidf-w2v for each sentence/review is stored in this list\n",
    "row=0;\n",
    "for sent in final_test_X: # for each review/sentence\n",
    "    sent_vec = np.zeros(50) # as word vectors are of zero length\n",
    "    weight_sum = 0; # num of words with a valid vector in the sentence/review\n",
    "    for word in sent: # for each word in a review/sentence\n",
    "        try:\n",
    "            vec = w2v_model.wv[word]\n",
    "            # obtain the tf_idfidf of a word in a sentence/review\n",
    "            tf_idf = to_pass_tfidf_w2v_test[row, tfidf_feat.index(word)]\n",
    "            sent_vec += (vec * tf_idf)\n",
    "            weight_sum += tf_idf\n",
    "        except:\n",
    "            pass\n",
    "    sent_vec /= weight_sum\n",
    "    tfidf_sent_vectors_test.append(sent_vec)\n",
    "    row += 1\n",
    "\n",
    "    \n",
    "print(len(tfidf_sent_vectors_test))\n",
    "print(len(tfidf_sent_vectors_test[0]))\n",
    "print(tfidf_sent_vectors_test[1])"
   ]
  },
  {
   "cell_type": "code",
   "execution_count": 26,
   "metadata": {},
   "outputs": [],
   "source": [
    "#We fould 1 review(19948) has all the vectors as Nan. So we are replacing it with 0\n",
    "for i in range(len(tfidf_sent_vectors_train)):\n",
    "    for j in range(50):\n",
    "        if tfidf_sent_vectors_train[i][j] != tfidf_sent_vectors_train[i][j]:\n",
    "            tfidf_sent_vectors_train[i][j]=0"
   ]
  },
  {
   "cell_type": "code",
   "execution_count": 27,
   "metadata": {},
   "outputs": [
    {
     "name": "stdout",
     "output_type": "stream",
     "text": [
      "DecisionTreeClassifier(class_weight='balanced', criterion='gini', max_depth=5,\n",
      "            max_features=None, max_leaf_nodes=None,\n",
      "            min_impurity_decrease=0.0, min_impurity_split=None,\n",
      "            min_samples_leaf=1, min_samples_split=202,\n",
      "            min_weight_fraction_leaf=0.0, presort=False, random_state=None,\n",
      "            splitter='best')\n",
      "Total running time: 1325.4889788627625 seconds\n"
     ]
    }
   ],
   "source": [
    "#GridSearchCV to find optimal min_samples_split and max_depth\n",
    "from sklearn.model_selection import train_test_split\n",
    "from sklearn.grid_search import GridSearchCV\n",
    "from sklearn.datasets import *\n",
    "from sklearn.tree import DecisionTreeClassifier\n",
    "start = time.time()\n",
    "\n",
    "tuned_parameters = {'min_samples_split': [i for i in range(2,302,25)], \n",
    "                    'max_depth': [i for i in range(5,31,5)]}\n",
    "\n",
    "model = GridSearchCV(estimator=DecisionTreeClassifier(class_weight='balanced'), param_grid=tuned_parameters, \n",
    "                     scoring = 'roc_auc', cv=10, verbose=False)\n",
    "model.fit(tfidf_sent_vectors_train, final_train_Y)\n",
    "print(model.best_estimator_)\n",
    "end = time.time()\n",
    "print(\"Total running time: %s seconds\" % (end - start))"
   ]
  },
  {
   "cell_type": "code",
   "execution_count": 28,
   "metadata": {},
   "outputs": [
    {
     "name": "stdout",
     "output_type": "stream",
     "text": [
      "\n",
      "The optimal value of max_depth is 5.\n"
     ]
    },
    {
     "data": {
      "image/png": "[encoded data removed]",
      "text/plain": [
       "<Figure size 432x288 with 1 Axes>"
      ]
     },
     "metadata": {
      "needs_background": "light"
     },
     "output_type": "display_data"
    },
    {
     "name": "stdout",
     "output_type": "stream",
     "text": [
      "the misclassification error for each max_depth value is :  [0.24  0.245 0.251 0.254 0.256 0.257]\n"
     ]
    }
   ],
   "source": [
    "from sklearn import cross_validation\n",
    "from sklearn.cross_validation import cross_val_score\n",
    "\n",
    "# empty list that will hold cv scores\n",
    "cv_scores = []\n",
    "MSE = []\n",
    "\n",
    "# perform 10-fold cross validation\n",
    "for k in tuned_parameters['max_depth']:\n",
    "    nb = DecisionTreeClassifier(min_samples_split=model.best_estimator_.min_samples_split,\n",
    "                                max_depth=k, class_weight='balanced')\n",
    "    nb.fit(tfidf_sent_vectors_train, final_train_Y)\n",
    "    scores = cross_val_score(estimator=nb, X=tfidf_sent_vectors_train, y=final_train_Y, \n",
    "                             cv=10, scoring='roc_auc', verbose=False, n_jobs = 1)\n",
    "    cv_scores.append(scores.mean())\n",
    "\n",
    "# changing to misclassification error\n",
    "MSE = [1 - x for x in cv_scores]\n",
    "\n",
    "# determining best k\n",
    "optimal_alpha = tuned_parameters['max_depth'][MSE.index(min(MSE))]\n",
    "print('\\nThe optimal value of max_depth is %d.' % optimal_alpha)\n",
    "\n",
    "\n",
    "# plot misclassification error vs k \n",
    "plt.plot(tuned_parameters['max_depth'], MSE)\n",
    "\n",
    "for xy in zip(tuned_parameters['max_depth'], np.round(MSE,3)):\n",
    "    plt.annotate('(%s, %s)' % xy, xy=xy, textcoords='data')\n",
    "\n",
    "plt.xlabel('max_depth')\n",
    "plt.ylabel('Misclassification Error')\n",
    "plt.show()\n",
    "\n",
    "print(\"the misclassification error for each max_depth value is : \", np.round(MSE,3))"
   ]
  },
  {
   "cell_type": "code",
   "execution_count": 29,
   "metadata": {},
   "outputs": [
    {
     "name": "stdout",
     "output_type": "stream",
     "text": [
      "Accuracy of the model at depth of the tree = 5  and minimum sample split = 202 is:  70.031348%\n",
      "Confusion matrix for the model is:\n"
     ]
    },
    {
     "data": {
      "image/png": "[encoded data removed]",
      "text/plain": [
       "<Figure size 1440x288 with 6 Axes>"
      ]
     },
     "metadata": {
      "needs_background": "light"
     },
     "output_type": "display_data"
    },
    {
     "name": "stdout",
     "output_type": "stream",
     "text": [
      "Recall value for the positive class of the model is: 0.6983336940056265\n",
      "Precision value for the positive class of the model is: 0.9204221334854535\n",
      "F1 score for the positive class of the model is: 0.7941429801894918\n"
     ]
    }
   ],
   "source": [
    "#Finding accuracy, Confusion matrix, precision, recall, F1 score\n",
    "from sklearn.metrics import accuracy_score, precision_recall_fscore_support, f1_score\n",
    "Y_pred = model.predict(tfidf_sent_vectors_test)\n",
    "Y_test_accuracy = accuracy_score(final_test_Y, Y_pred, normalize=True, sample_weight=None)*100\n",
    "print('Accuracy of the model at depth of the tree = %d  and minimum sample split = %d is:  %f%%' \n",
    "      % (model.best_estimator_.max_depth, model.best_estimator_.min_samples_split, Y_test_accuracy))\n",
    "print('Confusion matrix for the model is:')\n",
    "plot_confusion_matrix(final_test_Y, Y_pred)\n",
    "\n",
    "rec_pre_f1 = precision_recall_fscore_support(final_test_Y, Y_pred)\n",
    "#print(rec_pre_f1)\n",
    "print('Recall value for the positive class of the model is: %s'% rec_pre_f1[1][1])\n",
    "print('Precision value for the positive class of the model is: %s'% rec_pre_f1[0][1])\n",
    "print('F1 score for the positive class of the model is: %s'% rec_pre_f1[2][1])\n",
    "\n",
    "#print(rec_pre_f1)"
   ]
  },
  {
   "cell_type": "code",
   "execution_count": 30,
   "metadata": {},
   "outputs": [
    {
     "name": "stdout",
     "output_type": "stream",
     "text": [
      "DecisionTreeClassifier(class_weight='balanced', criterion='gini', max_depth=5,\n",
      "            max_features=None, max_leaf_nodes=None,\n",
      "            min_impurity_decrease=0.0, min_impurity_split=None,\n",
      "            min_samples_leaf=1, min_samples_split=202,\n",
      "            min_weight_fraction_leaf=0.0, presort=False, random_state=None,\n",
      "            splitter='best')\n",
      "72.10885069627447\n",
      "70.4081043570676\n"
     ]
    }
   ],
   "source": [
    "#Saving the results of GridSearchCV BoW representation\n",
    "from sklearn.metrics import roc_auc_score\n",
    "\n",
    "\n",
    "final_grid_tfidfw2v_est=model.best_estimator_\n",
    "\n",
    "def print_auc_score(y_true, y_scores):\n",
    "    return 100*(roc_auc_score(y_true, y_scores))\n",
    "\n",
    "y_true=final_train_Y\n",
    "y_scores=model.best_estimator_.predict(tfidf_sent_vectors_train)\n",
    "\n",
    "final_grid_tfidfw2v_train_err=print_auc_score(y_true, y_scores)\n",
    "\n",
    "y_true=final_test_Y\n",
    "y_scores=model.best_estimator_.predict(tfidf_sent_vectors_test)\n",
    "\n",
    "final_grid_tfidfw2v_test_err=print_auc_score(y_true, y_scores)\n",
    "\n",
    "print(final_grid_tfidfw2v_est)\n",
    "print(final_grid_tfidfw2v_train_err)\n",
    "print(final_grid_tfidfw2v_test_err)"
   ]
  },
  {
   "cell_type": "code",
   "execution_count": 31,
   "metadata": {},
   "outputs": [
    {
     "name": "stdout",
     "output_type": "stream",
     "text": [
      "DecisionTreeClassifier(class_weight='balanced', criterion='gini', max_depth=5,\n",
      "            max_features=None, max_leaf_nodes=None,\n",
      "            min_impurity_decrease=0.0, min_impurity_split=None,\n",
      "            min_samples_leaf=1, min_samples_split=252,\n",
      "            min_weight_fraction_leaf=0.0, presort=False, random_state=None,\n",
      "            splitter='best')\n",
      "Total running time: 130.76636815071106 seconds\n"
     ]
    }
   ],
   "source": [
    "#RandomizedSearchCV to find optimal min_samples_split and max_depth\n",
    "from sklearn.model_selection import train_test_split\n",
    "from sklearn.grid_search import RandomizedSearchCV\n",
    "from sklearn.datasets import *\n",
    "from sklearn.tree import DecisionTreeClassifier\n",
    "start = time.time()\n",
    "\n",
    "tuned_parameters = {'min_samples_split': [i for i in range(2,302,25)], \n",
    "                    'max_depth': [i for i in range(5,31,5)]}\n",
    "\n",
    "model = RandomizedSearchCV(estimator=DecisionTreeClassifier(class_weight='balanced'), param_distributions=tuned_parameters, \n",
    "                           scoring = 'roc_auc', cv=10, verbose=False)\n",
    "model.fit(tfidf_sent_vectors_train, final_train_Y)\n",
    "print(model.best_estimator_)\n",
    "end = time.time()\n",
    "print(\"Total running time: %s seconds\" % (end - start))"
   ]
  },
  {
   "cell_type": "code",
   "execution_count": 32,
   "metadata": {},
   "outputs": [
    {
     "name": "stdout",
     "output_type": "stream",
     "text": [
      "\n",
      "The optimal value of max_depth is 5.\n"
     ]
    },
    {
     "data": {
      "image/png": "[encoded data removed]",
      "text/plain": [
       "<Figure size 432x288 with 1 Axes>"
      ]
     },
     "metadata": {
      "needs_background": "light"
     },
     "output_type": "display_data"
    },
    {
     "name": "stdout",
     "output_type": "stream",
     "text": [
      "the misclassification error for each max_depth value is :  [0.24  0.241 0.247 0.249 0.251 0.252]\n"
     ]
    }
   ],
   "source": [
    "from sklearn import cross_validation\n",
    "from sklearn.cross_validation import cross_val_score\n",
    "\n",
    "# empty list that will hold cv scores\n",
    "cv_scores = []\n",
    "\n",
    "# perform 10-fold cross validation\n",
    "for k in tuned_parameters['max_depth']:\n",
    "    nb = DecisionTreeClassifier(min_samples_split=model.best_estimator_.min_samples_split,\n",
    "                                max_depth=k, class_weight='balanced')\n",
    "    nb.fit(tfidf_sent_vectors_train, final_train_Y)\n",
    "    #print(nb.predict(X_test[2:39]))\n",
    "    scores = cross_val_score(estimator=nb, X=tfidf_sent_vectors_train, y=final_train_Y, \n",
    "                             cv=10, scoring='roc_auc', verbose=False, n_jobs = 1)\n",
    "    cv_scores.append(scores.mean())\n",
    "\n",
    "# changing to misclassification error\n",
    "MSE = [1 - x for x in cv_scores]\n",
    "\n",
    "# determining best k\n",
    "optimal_alpha = tuned_parameters['max_depth'][MSE.index(min(MSE))]\n",
    "print('\\nThe optimal value of max_depth is %d.' % optimal_alpha)\n",
    "\n",
    "\n",
    "# plot misclassification error vs k \n",
    "plt.plot(tuned_parameters['max_depth'], MSE)\n",
    "\n",
    "for xy in zip(tuned_parameters['max_depth'], np.round(MSE,3)):\n",
    "    plt.annotate('(%s, %s)' % xy, xy=xy, textcoords='data')\n",
    "\n",
    "plt.xlabel('max_depth')\n",
    "plt.ylabel('Misclassification Error')\n",
    "plt.show()\n",
    "\n",
    "print(\"the misclassification error for each max_depth value is : \", np.round(MSE,3))"
   ]
  },
  {
   "cell_type": "code",
   "execution_count": 33,
   "metadata": {},
   "outputs": [
    {
     "name": "stdout",
     "output_type": "stream",
     "text": [
      "Accuracy of the model at depth of the tree = 5  and minimum sample split = 252 is:  70.031348%\n",
      "Confusion matrix for the model is:\n"
     ]
    },
    {
     "data": {
      "image/png": "[encoded data removed]",
      "text/plain": [
       "<Figure size 1440x288 with 6 Axes>"
      ]
     },
     "metadata": {
      "needs_background": "light"
     },
     "output_type": "display_data"
    },
    {
     "name": "stdout",
     "output_type": "stream",
     "text": [
      "Recall value for the positive class of the model is: 0.6983336940056265\n",
      "Precision value for the positive class of the model is: 0.9204221334854535\n",
      "F1 score for the positive class of the model is: 0.7941429801894918\n"
     ]
    }
   ],
   "source": [
    "#Finding accuracy, Confusion matrix, precision, recall, F1 score\n",
    "from sklearn.metrics import accuracy_score, precision_recall_fscore_support, f1_score\n",
    "Y_pred = model.predict(tfidf_sent_vectors_test)\n",
    "Y_test_accuracy = accuracy_score(final_test_Y, Y_pred, normalize=True, sample_weight=None)*100\n",
    "print('Accuracy of the model at depth of the tree = %d  and minimum sample split = %d is:  %f%%' \n",
    "      % (model.best_estimator_.max_depth, model.best_estimator_.min_samples_split, Y_test_accuracy))\n",
    "print('Confusion matrix for the model is:')\n",
    "plot_confusion_matrix(final_test_Y, Y_pred)\n",
    "\n",
    "rec_pre_f1 = precision_recall_fscore_support(final_test_Y, Y_pred)\n",
    "#print(rec_pre_f1)\n",
    "print('Recall value for the positive class of the model is: %s'% rec_pre_f1[1][1])\n",
    "print('Precision value for the positive class of the model is: %s'% rec_pre_f1[0][1])\n",
    "print('F1 score for the positive class of the model is: %s'% rec_pre_f1[2][1])\n",
    "\n",
    "#print(rec_pre_f1)"
   ]
  },
  {
   "cell_type": "code",
   "execution_count": 34,
   "metadata": {},
   "outputs": [
    {
     "name": "stdout",
     "output_type": "stream",
     "text": [
      "DecisionTreeClassifier(class_weight='balanced', criterion='gini', max_depth=5,\n",
      "            max_features=None, max_leaf_nodes=None,\n",
      "            min_impurity_decrease=0.0, min_impurity_split=None,\n",
      "            min_samples_leaf=1, min_samples_split=252,\n",
      "            min_weight_fraction_leaf=0.0, presort=False, random_state=None,\n",
      "            splitter='best')\n",
      "72.10885069627447\n",
      "70.4081043570676\n"
     ]
    }
   ],
   "source": [
    "#Saving the results of GridSearchCV BoW representation\n",
    "from sklearn.metrics import roc_auc_score\n",
    "\n",
    "\n",
    "final_rand_tfidfw2v_est=model.best_estimator_\n",
    "\n",
    "def print_auc_score(y_true, y_scores):\n",
    "    return 100*(roc_auc_score(y_true, y_scores))\n",
    "\n",
    "y_true=final_train_Y\n",
    "y_scores=model.best_estimator_.predict(tfidf_sent_vectors_train)\n",
    "\n",
    "final_rand_tfidfw2v_train_err=print_auc_score(y_true, y_scores)\n",
    "\n",
    "y_true=final_test_Y\n",
    "y_scores=model.best_estimator_.predict(tfidf_sent_vectors_test)\n",
    "\n",
    "final_rand_tfidfw2v_test_err=print_auc_score(y_true, y_scores)\n",
    "\n",
    "print(final_rand_tfidfw2v_est)\n",
    "print(final_rand_tfidfw2v_train_err)\n",
    "print(final_rand_tfidfw2v_test_err)"
   ]
  },
  {
   "cell_type": "markdown",
   "metadata": {},
   "source": [
    "Error Metric Matrix"
   ]
  },
  {
   "cell_type": "code",
   "execution_count": 36,
   "metadata": {},
   "outputs": [
    {
     "name": "stdout",
     "output_type": "stream",
     "text": [
      "+------------------------------------------------+---------------------------------------+-------------+------------+\n",
      "|                 Baseline Model                 |             Hyper Parameter           | Train Error | Test Error |\n",
      "+------------------------------------------------+---------------------------------------+-------------+------------+\n",
      "|  GridSearch Cross Validation on Avg Word2Vec   |  max_depth: 5, min_samples_split: 252 |    25.17%   |   26.82%   |\n",
      "|    Random Cross Validation on Avg Word2Vec     | max_depth: 25, min_samples_split: 252 |    20.83%   |   27.27%   |\n",
      "|  GridSearch Cross Validation on Avg Word2Vec   |  max_depth: 5, min_samples_split: 252 |    25.17%   |   26.82%   |\n",
      "|    Random Cross Validation on Avg Word2Vec     | max_depth: 25, min_samples_split: 252 |    20.83%   |   27.27%   |\n",
      "| GridSearch Cross Validation on TF-IDF Word2Vec |  max_depth: 5, min_samples_split: 202 |    27.89%   |   29.59%   |\n",
      "|   Random Cross Validation on TF-IDF Word2Vec   |  max_depth: 5, min_samples_split: 252 |    27.89%   |   29.59%   |\n",
      "+------------------------------------------------+---------------------------------------+-------------+------------+\n"
     ]
    }
   ],
   "source": [
    "from prettytable import PrettyTable\n",
    "    \n",
    "x = PrettyTable()\n",
    "x.field_names = [\"Baseline Model\", \" Hyper Parameter\", \"Train Error\", \"Test Error\"]\n",
    "x.add_row([\"GridSearch Cross Validation on Avg Word2Vec\", \n",
    "           \"max_depth: %s, min_samples_split: %s\" % (final_grid_avgw2v_est.max_depth, final_grid_avgw2v_est.min_samples_split),\n",
    "           \"%.2f%%\" % (100-final_grid_avgw2v_train_err), \"%.2f%%\" %(100-final_grid_avgw2v_test_err)])\n",
    "x.add_row([\"Random Cross Validation on Avg Word2Vec\", \n",
    "           \"max_depth: %s, min_samples_split: %s\" % (final_rand_avgw2v_est.max_depth,  final_rand_avgw2v_est.min_samples_split),\n",
    "           \"%.2f%%\" % (100-final_rand_avgw2v_train_err), \"%.2f%%\" %(100-final_rand_avgw2v_test_err)])\n",
    "#######################################################################################################\n",
    "x.add_row([\"GridSearch Cross Validation on Avg Word2Vec\", \n",
    "           \"max_depth: %s, min_samples_split: %s\" % (final_grid_avgw2v_est.max_depth, final_grid_avgw2v_est.min_samples_split),\n",
    "           \"%.2f%%\" % (100-final_grid_avgw2v_train_err), \"%.2f%%\" %(100-final_grid_avgw2v_test_err)])\n",
    "x.add_row([\"Random Cross Validation on Avg Word2Vec\", \n",
    "           \"max_depth: %s, min_samples_split: %s\" % (final_rand_avgw2v_est.max_depth, final_rand_avgw2v_est.min_samples_split),\n",
    "           \"%.2f%%\" % (100-final_rand_avgw2v_train_err), \"%.2f%%\" %(100-final_rand_avgw2v_test_err)])\n",
    "#######################################################################################################\n",
    "x.add_row([\"GridSearch Cross Validation on TF-IDF Word2Vec\", \n",
    "           \"max_depth: %s, min_samples_split: %s\" % (final_grid_tfidfw2v_est.max_depth,final_grid_tfidfw2v_est.min_samples_split),\n",
    "           \"%.2f%%\" % (100-final_grid_tfidfw2v_train_err), \"%.2f%%\" %(100-final_grid_tfidfw2v_test_err)])\n",
    "x.add_row([\"Random Cross Validation on TF-IDF Word2Vec\", \n",
    "           \"max_depth: %s, min_samples_split: %s\" % (final_rand_tfidfw2v_est.max_depth,final_rand_tfidfw2v_est.min_samples_split),\n",
    "           \"%.2f%%\" % (100-final_rand_tfidfw2v_train_err), \"%.2f%%\" %(100-final_rand_tfidfw2v_test_err)])\n",
    "print(x)"
   ]
  },
  {
   "cell_type": "code",
   "execution_count": null,
   "metadata": {},
   "outputs": [],
   "source": []
  },
  {
   "cell_type": "code",
   "execution_count": null,
   "metadata": {},
   "outputs": [],
   "source": []
  },
  {
   "cell_type": "code",
   "execution_count": null,
   "metadata": {},
   "outputs": [],
   "source": []
  },
  {
   "cell_type": "code",
   "execution_count": null,
   "metadata": {},
   "outputs": [],
   "source": []
  }
 ],
 "metadata": {
  "colab": {
   "collapsed_sections": [
    "0Zhvc5AMMQwD"
   ],
   "name": "Amazon Fine Food Reviews Analysis.ipynb",
   "provenance": [],
   "version": "0.3.2"
  },
  "kernelspec": {
   "display_name": "Python 3",
   "language": "python",
   "name": "python3"
  },
  "language_info": {
   "codemirror_mode": {
    "name": "ipython",
    "version": 3
   },
   "file_extension": ".py",
   "mimetype": "text/x-python",
   "name": "python",
   "nbconvert_exporter": "python",
   "pygments_lexer": "ipython3",
   "version": "3.7.0"
  }
 },
 "nbformat": 4,
 "nbformat_minor": 1
}
